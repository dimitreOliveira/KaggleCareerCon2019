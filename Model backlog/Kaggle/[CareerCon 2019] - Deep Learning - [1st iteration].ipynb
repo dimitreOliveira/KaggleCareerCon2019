{
  "cells": [
    {
      "metadata": {
        "_uuid": "8f2839f25d086af736a60e9eeb907d3b93b6e0e5",
        "_cell_guid": "b1076dfc-b9ad-4769-8c92-a6c4dae69d19",
        "trusted": true,
        "_kg_hide-output": true
      },
      "cell_type": "code",
      "source": "import warnings\nimport cufflinks\nimport numpy as np\nimport pandas as pd\nimport seaborn as sns\nimport matplotlib.pyplot as plt\nfrom keras import optimizers\nfrom keras.layers import Dense\nfrom keras.utils import to_categorical\nfrom keras.models import Sequential, Model\nfrom sklearn.metrics import confusion_matrix, accuracy_score\nfrom sklearn.preprocessing import LabelEncoder\nfrom sklearn.model_selection import train_test_split\n\n%matplotlib inline\nwarnings.filterwarnings(\"ignore\")\ncufflinks.go_offline(connected=True)\n\n# Set seeds to make the experiment more reproducible.\nfrom tensorflow import set_random_seed\nfrom numpy.random import seed\nset_random_seed(0)\nseed(0)",
      "execution_count": 1,
      "outputs": [
        {
          "output_type": "stream",
          "text": "Using TensorFlow backend.\n",
          "name": "stderr"
        },
        {
          "output_type": "display_data",
          "data": {
            "text/html": "<script type=\"text/javascript\">window.PlotlyConfig = {MathJaxConfig: 'local'};</script><script type=\"text/javascript\">if (window.MathJax) {MathJax.Hub.Config({SVG: {font: \"STIX-Web\"}});}</script><script>requirejs.config({paths: { 'plotly': ['https://cdn.plot.ly/plotly-latest.min']},});if(!window._Plotly) {require(['plotly'],function(plotly) {window._Plotly=plotly;});}</script>",
            "text/vnd.plotly.v1+html": "<script type=\"text/javascript\">window.PlotlyConfig = {MathJaxConfig: 'local'};</script><script type=\"text/javascript\">if (window.MathJax) {MathJax.Hub.Config({SVG: {font: \"STIX-Web\"}});}</script><script>requirejs.config({paths: { 'plotly': ['https://cdn.plot.ly/plotly-latest.min']},});if(!window._Plotly) {require(['plotly'],function(plotly) {window._Plotly=plotly;});}</script>"
          },
          "metadata": {}
        }
      ]
    },
    {
      "metadata": {
        "_uuid": "26200cd7d762b5eeaf9a8fdbfb1e11647cc69c37"
      },
      "cell_type": "markdown",
      "source": "### Load data"
    },
    {
      "metadata": {
        "trusted": true,
        "_uuid": "1c9ef2cc61c34a83808fb2603e7b380e8d9b4b15",
        "_kg_hide-input": true
      },
      "cell_type": "code",
      "source": "train = pd.read_csv('../input/X_train.csv')\nlabels = pd.read_csv('../input/y_train.csv')\ntest = pd.read_csv('../input/X_test.csv')",
      "execution_count": 2,
      "outputs": []
    },
    {
      "metadata": {
        "_uuid": "6afb5115ad084e2876b194640897df39bcb25356"
      },
      "cell_type": "markdown",
      "source": "### Join train features with labels"
    },
    {
      "metadata": {
        "trusted": true,
        "_uuid": "562cc28a26e831665a71c438e083aa564173cf56"
      },
      "cell_type": "code",
      "source": "train = train.join(labels, on='series_id', rsuffix='_')\ntrain.drop('series_id_', axis=1, inplace=True)\nprint(train.shape)\ndisplay(train.head())",
      "execution_count": 3,
      "outputs": [
        {
          "output_type": "stream",
          "text": "(487680, 15)\n",
          "name": "stdout"
        },
        {
          "output_type": "display_data",
          "data": {
            "text/plain": "  row_id  series_id      ...        group_id        surface\n0    0_0          0      ...              13  fine_concrete\n1    0_1          0      ...              13  fine_concrete\n2    0_2          0      ...              13  fine_concrete\n3    0_3          0      ...              13  fine_concrete\n4    0_4          0      ...              13  fine_concrete\n\n[5 rows x 15 columns]",
            "text/html": "<div>\n<style scoped>\n    .dataframe tbody tr th:only-of-type {\n        vertical-align: middle;\n    }\n\n    .dataframe tbody tr th {\n        vertical-align: top;\n    }\n\n    .dataframe thead th {\n        text-align: right;\n    }\n</style>\n<table border=\"1\" class=\"dataframe\">\n  <thead>\n    <tr style=\"text-align: right;\">\n      <th></th>\n      <th>row_id</th>\n      <th>series_id</th>\n      <th>measurement_number</th>\n      <th>orientation_X</th>\n      <th>orientation_Y</th>\n      <th>orientation_Z</th>\n      <th>orientation_W</th>\n      <th>angular_velocity_X</th>\n      <th>angular_velocity_Y</th>\n      <th>angular_velocity_Z</th>\n      <th>linear_acceleration_X</th>\n      <th>linear_acceleration_Y</th>\n      <th>linear_acceleration_Z</th>\n      <th>group_id</th>\n      <th>surface</th>\n    </tr>\n  </thead>\n  <tbody>\n    <tr>\n      <th>0</th>\n      <td>0_0</td>\n      <td>0</td>\n      <td>0</td>\n      <td>-0.75853</td>\n      <td>-0.63435</td>\n      <td>-0.10488</td>\n      <td>-0.10597</td>\n      <td>0.107650</td>\n      <td>0.017561</td>\n      <td>0.000767</td>\n      <td>-0.74857</td>\n      <td>2.1030</td>\n      <td>-9.7532</td>\n      <td>13</td>\n      <td>fine_concrete</td>\n    </tr>\n    <tr>\n      <th>1</th>\n      <td>0_1</td>\n      <td>0</td>\n      <td>1</td>\n      <td>-0.75853</td>\n      <td>-0.63434</td>\n      <td>-0.10490</td>\n      <td>-0.10600</td>\n      <td>0.067851</td>\n      <td>0.029939</td>\n      <td>0.003385</td>\n      <td>0.33995</td>\n      <td>1.5064</td>\n      <td>-9.4128</td>\n      <td>13</td>\n      <td>fine_concrete</td>\n    </tr>\n    <tr>\n      <th>2</th>\n      <td>0_2</td>\n      <td>0</td>\n      <td>2</td>\n      <td>-0.75853</td>\n      <td>-0.63435</td>\n      <td>-0.10492</td>\n      <td>-0.10597</td>\n      <td>0.007275</td>\n      <td>0.028934</td>\n      <td>-0.005978</td>\n      <td>-0.26429</td>\n      <td>1.5922</td>\n      <td>-8.7267</td>\n      <td>13</td>\n      <td>fine_concrete</td>\n    </tr>\n    <tr>\n      <th>3</th>\n      <td>0_3</td>\n      <td>0</td>\n      <td>3</td>\n      <td>-0.75852</td>\n      <td>-0.63436</td>\n      <td>-0.10495</td>\n      <td>-0.10597</td>\n      <td>-0.013053</td>\n      <td>0.019448</td>\n      <td>-0.008974</td>\n      <td>0.42684</td>\n      <td>1.0993</td>\n      <td>-10.0960</td>\n      <td>13</td>\n      <td>fine_concrete</td>\n    </tr>\n    <tr>\n      <th>4</th>\n      <td>0_4</td>\n      <td>0</td>\n      <td>4</td>\n      <td>-0.75852</td>\n      <td>-0.63435</td>\n      <td>-0.10495</td>\n      <td>-0.10596</td>\n      <td>0.005135</td>\n      <td>0.007652</td>\n      <td>0.005245</td>\n      <td>-0.50969</td>\n      <td>1.4689</td>\n      <td>-10.4410</td>\n      <td>13</td>\n      <td>fine_concrete</td>\n    </tr>\n  </tbody>\n</table>\n</div>"
          },
          "metadata": {}
        }
      ]
    },
    {
      "metadata": {
        "_uuid": "3c1dc87be92191226e643ad4ae4cb8aaa6294e0d"
      },
      "cell_type": "markdown",
      "source": "### Pre process the labels"
    },
    {
      "metadata": {
        "trusted": true,
        "_uuid": "aa623a1887ff5315c2af5ddbd6e3fd4bb918e9f4"
      },
      "cell_type": "code",
      "source": "target = train['surface']\nn_labels = target.nunique()\nlabels_names = target.unique()\nle = LabelEncoder()\ntarget = le.fit_transform(target.values)\ntarget = to_categorical(target)\ntrain.drop('surface', axis=1, inplace=True)",
      "execution_count": 4,
      "outputs": []
    },
    {
      "metadata": {
        "_uuid": "fbe8a1d661556eea446e5156cf9155a961f7d85e"
      },
      "cell_type": "markdown",
      "source": "### Train/validation split"
    },
    {
      "metadata": {
        "trusted": true,
        "_uuid": "6980633f0c1181f7506b93233d9d9ae5b3b03c62"
      },
      "cell_type": "code",
      "source": "features = ['orientation_X', 'orientation_Y', 'orientation_Z', 'orientation_W', \n            'angular_velocity_X', 'angular_velocity_Y', 'angular_velocity_Z', \n            'linear_acceleration_X', 'linear_acceleration_Y', 'linear_acceleration_Z']\n\nX_train, X_val, Y_train, Y_val = train_test_split(train[features], target, test_size=0.2, random_state=0)\nprint('Train shape', X_train.shape)\nprint('Validation shape', X_val.shape)\ndisplay(X_train.head())",
      "execution_count": 5,
      "outputs": [
        {
          "output_type": "stream",
          "text": "Train shape (390144, 10)\nValidation shape (97536, 10)\n",
          "name": "stdout"
        },
        {
          "output_type": "display_data",
          "data": {
            "text/plain": "        orientation_X          ...            linear_acceleration_Z\n174517       -0.22351          ...                         -11.1430\n434895       -0.54943          ...                          -7.9759\n385247        0.78303          ...                         -10.2200\n374689        0.92600          ...                          -5.1218\n297812       -0.66945          ...                          -9.4340\n\n[5 rows x 10 columns]",
            "text/html": "<div>\n<style scoped>\n    .dataframe tbody tr th:only-of-type {\n        vertical-align: middle;\n    }\n\n    .dataframe tbody tr th {\n        vertical-align: top;\n    }\n\n    .dataframe thead th {\n        text-align: right;\n    }\n</style>\n<table border=\"1\" class=\"dataframe\">\n  <thead>\n    <tr style=\"text-align: right;\">\n      <th></th>\n      <th>orientation_X</th>\n      <th>orientation_Y</th>\n      <th>orientation_Z</th>\n      <th>orientation_W</th>\n      <th>angular_velocity_X</th>\n      <th>angular_velocity_Y</th>\n      <th>angular_velocity_Z</th>\n      <th>linear_acceleration_X</th>\n      <th>linear_acceleration_Y</th>\n      <th>linear_acceleration_Z</th>\n    </tr>\n  </thead>\n  <tbody>\n    <tr>\n      <th>174517</th>\n      <td>-0.22351</td>\n      <td>0.96262</td>\n      <td>0.147250</td>\n      <td>-0.041492</td>\n      <td>-0.023037</td>\n      <td>0.107670</td>\n      <td>-0.313830</td>\n      <td>0.016821</td>\n      <td>3.8752</td>\n      <td>-11.1430</td>\n    </tr>\n    <tr>\n      <th>434895</th>\n      <td>-0.54943</td>\n      <td>-0.82225</td>\n      <td>-0.127320</td>\n      <td>-0.076376</td>\n      <td>0.356350</td>\n      <td>-0.165830</td>\n      <td>0.212980</td>\n      <td>1.202700</td>\n      <td>11.1940</td>\n      <td>-7.9759</td>\n    </tr>\n    <tr>\n      <th>385247</th>\n      <td>0.78303</td>\n      <td>0.60372</td>\n      <td>0.097223</td>\n      <td>0.113750</td>\n      <td>0.064847</td>\n      <td>0.148310</td>\n      <td>-0.374690</td>\n      <td>-0.033998</td>\n      <td>2.8156</td>\n      <td>-10.2200</td>\n    </tr>\n    <tr>\n      <th>374689</th>\n      <td>0.92600</td>\n      <td>0.34640</td>\n      <td>0.059994</td>\n      <td>0.137600</td>\n      <td>0.096735</td>\n      <td>-0.049043</td>\n      <td>0.144260</td>\n      <td>-0.457680</td>\n      <td>3.9749</td>\n      <td>-5.1218</td>\n    </tr>\n    <tr>\n      <th>297812</th>\n      <td>-0.66945</td>\n      <td>-0.72716</td>\n      <td>-0.115300</td>\n      <td>-0.098892</td>\n      <td>0.215470</td>\n      <td>-0.010674</td>\n      <td>0.022843</td>\n      <td>1.427000</td>\n      <td>6.0013</td>\n      <td>-9.4340</td>\n    </tr>\n  </tbody>\n</table>\n</div>"
          },
          "metadata": {}
        }
      ]
    },
    {
      "metadata": {
        "_uuid": "80355b7633b30811f6b6f0f7bf9a91665db1aea4"
      },
      "cell_type": "markdown",
      "source": "### Model"
    },
    {
      "metadata": {
        "trusted": true,
        "_uuid": "a9d7bfe7e1f5cc139c9ba5b11d7503126a625c96"
      },
      "cell_type": "code",
      "source": "epochs = 100\nbatch = 128\nlr = 0.001\nadam = optimizers.Adam(lr)",
      "execution_count": 6,
      "outputs": []
    },
    {
      "metadata": {
        "trusted": true,
        "_uuid": "0bddfb168af71d1025217862bb411c80a001401f"
      },
      "cell_type": "code",
      "source": "model = Sequential()\nmodel.add(Dense(128, activation='relu', input_dim=X_train.shape[1]))\nmodel.add(Dense(64, activation='relu'))\nmodel.add(Dense(n_labels, activation=\"softmax\"))\nmodel.compile(loss='categorical_crossentropy', optimizer=adam)\nmodel.summary()",
      "execution_count": 7,
      "outputs": [
        {
          "output_type": "stream",
          "text": "_________________________________________________________________\nLayer (type)                 Output Shape              Param #   \n=================================================================\ndense_1 (Dense)              (None, 128)               1408      \n_________________________________________________________________\ndense_2 (Dense)              (None, 64)                8256      \n_________________________________________________________________\ndense_3 (Dense)              (None, 9)                 585       \n=================================================================\nTotal params: 10,249\nTrainable params: 10,249\nNon-trainable params: 0\n_________________________________________________________________\n",
          "name": "stdout"
        }
      ]
    },
    {
      "metadata": {
        "trusted": true,
        "_uuid": "5b1044b1be70cee50631ad78ecc0c41423d1c8eb",
        "_kg_hide-output": true
      },
      "cell_type": "code",
      "source": "history = model.fit(X_train.values, Y_train, validation_data=(X_val.values, Y_val), epochs=epochs, verbose=2)",
      "execution_count": 8,
      "outputs": [
        {
          "output_type": "stream",
          "text": "Train on 390144 samples, validate on 97536 samples\nEpoch 1/100\n - 37s - loss: 1.2016 - val_loss: 0.8861\nEpoch 2/100\n - 35s - loss: 0.7857 - val_loss: 0.7134\nEpoch 3/100\n - 38s - loss: 0.6580 - val_loss: 0.6215\nEpoch 4/100\n - 35s - loss: 0.5948 - val_loss: 0.5758\nEpoch 5/100\n - 36s - loss: 0.5578 - val_loss: 0.5672\nEpoch 6/100\n - 35s - loss: 0.5351 - val_loss: 0.5246\nEpoch 7/100\n - 37s - loss: 0.5185 - val_loss: 0.5084\nEpoch 8/100\n - 36s - loss: 0.5068 - val_loss: 0.5213\nEpoch 9/100\n - 37s - loss: 0.4953 - val_loss: 0.4975\nEpoch 10/100\n - 35s - loss: 0.4872 - val_loss: 0.4864\nEpoch 11/100\n - 35s - loss: 0.4784 - val_loss: 0.4957\nEpoch 12/100\n - 37s - loss: 0.4722 - val_loss: 0.4945\nEpoch 13/100\n - 35s - loss: 0.4652 - val_loss: 0.4657\nEpoch 14/100\n - 36s - loss: 0.4592 - val_loss: 0.4629\nEpoch 15/100\n - 36s - loss: 0.4538 - val_loss: 0.4477\nEpoch 16/100\n - 36s - loss: 0.4481 - val_loss: 0.4433\nEpoch 17/100\n - 36s - loss: 0.4434 - val_loss: 0.4437\nEpoch 18/100\n - 37s - loss: 0.4374 - val_loss: 0.4379\nEpoch 19/100\n - 35s - loss: 0.4325 - val_loss: 0.4431\nEpoch 20/100\n - 37s - loss: 0.4269 - val_loss: 0.4267\nEpoch 21/100\n - 36s - loss: 0.4231 - val_loss: 0.4381\nEpoch 22/100\n - 35s - loss: 0.4185 - val_loss: 0.4447\nEpoch 23/100\n - 37s - loss: 0.4131 - val_loss: 0.3997\nEpoch 24/100\n - 36s - loss: 0.4099 - val_loss: 0.4055\nEpoch 25/100\n - 37s - loss: 0.4061 - val_loss: 0.4103\nEpoch 26/100\n - 36s - loss: 0.4016 - val_loss: 0.4002\nEpoch 27/100\n - 36s - loss: 0.3976 - val_loss: 0.3892\nEpoch 28/100\n - 36s - loss: 0.3939 - val_loss: 0.4093\nEpoch 29/100\n - 37s - loss: 0.3913 - val_loss: 0.3725\nEpoch 30/100\n - 36s - loss: 0.3875 - val_loss: 0.3963\nEpoch 31/100\n - 35s - loss: 0.3839 - val_loss: 0.3979\nEpoch 32/100\n - 36s - loss: 0.3806 - val_loss: 0.3785\nEpoch 33/100\n - 35s - loss: 0.3778 - val_loss: 0.3809\nEpoch 34/100\n - 37s - loss: 0.3745 - val_loss: 0.3601\nEpoch 35/100\n - 35s - loss: 0.3696 - val_loss: 0.4182\nEpoch 36/100\n - 36s - loss: 0.3672 - val_loss: 0.3743\nEpoch 37/100\n - 35s - loss: 0.3640 - val_loss: 0.3580\nEpoch 38/100\n - 36s - loss: 0.3604 - val_loss: 0.3689\nEpoch 39/100\n - 36s - loss: 0.3576 - val_loss: 0.3539\nEpoch 40/100\n - 35s - loss: 0.3532 - val_loss: 0.3926\nEpoch 41/100\n - 36s - loss: 0.3508 - val_loss: 0.3592\nEpoch 42/100\n - 35s - loss: 0.3487 - val_loss: 0.3393\nEpoch 43/100\n - 36s - loss: 0.3456 - val_loss: 0.3384\nEpoch 44/100\n - 35s - loss: 0.3420 - val_loss: 0.3353\nEpoch 45/100\n - 36s - loss: 0.3389 - val_loss: 0.3226\nEpoch 46/100\n - 36s - loss: 0.3374 - val_loss: 0.3406\nEpoch 47/100\n - 35s - loss: 0.3330 - val_loss: 0.3424\nEpoch 48/100\n - 36s - loss: 0.3318 - val_loss: 0.3575\nEpoch 49/100\n - 35s - loss: 0.3292 - val_loss: 0.3433\nEpoch 50/100\n - 36s - loss: 0.3257 - val_loss: 0.3236\nEpoch 51/100\n - 35s - loss: 0.3227 - val_loss: 0.2977\nEpoch 52/100\n - 37s - loss: 0.3195 - val_loss: 0.3148\nEpoch 53/100\n - 35s - loss: 0.3170 - val_loss: 0.3431\nEpoch 54/100\n - 36s - loss: 0.3141 - val_loss: 0.3148\nEpoch 55/100\n - 36s - loss: 0.3109 - val_loss: 0.3034\nEpoch 56/100\n - 35s - loss: 0.3086 - val_loss: 0.3187\nEpoch 57/100\n - 36s - loss: 0.3062 - val_loss: 0.3108\nEpoch 58/100\n - 35s - loss: 0.3045 - val_loss: 0.4719\nEpoch 59/100\n - 36s - loss: 0.3005 - val_loss: 0.3175\nEpoch 60/100\n - 36s - loss: 0.2996 - val_loss: 0.3012\nEpoch 61/100\n - 36s - loss: 0.2976 - val_loss: 0.2932\nEpoch 62/100\n - 35s - loss: 0.2948 - val_loss: 0.2963\nEpoch 63/100\n - 36s - loss: 0.2941 - val_loss: 0.2812\nEpoch 64/100\n - 36s - loss: 0.2906 - val_loss: 0.2860\nEpoch 65/100\n - 35s - loss: 0.2901 - val_loss: 0.3062\nEpoch 66/100\n - 36s - loss: 0.2866 - val_loss: 0.3422\nEpoch 67/100\n - 35s - loss: 0.2849 - val_loss: 0.2813\nEpoch 68/100\n - 36s - loss: 0.2832 - val_loss: 0.3053\nEpoch 69/100\n - 36s - loss: 0.2820 - val_loss: 0.3145\nEpoch 70/100\n - 36s - loss: 0.2801 - val_loss: 0.2694\nEpoch 71/100\n - 35s - loss: 0.2783 - val_loss: 0.3227\nEpoch 72/100\n - 37s - loss: 0.2772 - val_loss: 0.2889\nEpoch 73/100\n - 35s - loss: 0.2757 - val_loss: 0.2774\nEpoch 74/100\n - 36s - loss: 0.2739 - val_loss: 0.2929\nEpoch 75/100\n - 36s - loss: 0.2723 - val_loss: 0.2648\nEpoch 76/100\n - 35s - loss: 0.2703 - val_loss: 0.2692\nEpoch 77/100\n - 37s - loss: 0.2699 - val_loss: 0.2742\nEpoch 78/100\n - 35s - loss: 0.2679 - val_loss: 0.2620\nEpoch 79/100\n - 36s - loss: 0.2669 - val_loss: 0.2662\nEpoch 80/100\n - 35s - loss: 0.2660 - val_loss: 0.2487\nEpoch 81/100\n - 38s - loss: 0.2650 - val_loss: 0.3787\nEpoch 82/100\n - 35s - loss: 0.2633 - val_loss: 0.2554\nEpoch 83/100\n - 35s - loss: 0.2612 - val_loss: 0.2453\nEpoch 84/100\n - 36s - loss: 0.2611 - val_loss: 0.2492\nEpoch 85/100\n - 35s - loss: 0.2593 - val_loss: 0.2681\nEpoch 86/100\n - 37s - loss: 0.2578 - val_loss: 0.2619\nEpoch 87/100\n - 35s - loss: 0.2585 - val_loss: 0.2421\nEpoch 88/100\n - 36s - loss: 0.2573 - val_loss: 0.2899\nEpoch 89/100\n - 35s - loss: 0.2559 - val_loss: 0.2832\nEpoch 90/100\n - 37s - loss: 0.2553 - val_loss: 0.2489\nEpoch 91/100\n - 35s - loss: 0.2547 - val_loss: 0.2997\nEpoch 92/100\n - 35s - loss: 0.2519 - val_loss: 0.2396\nEpoch 93/100\n - 36s - loss: 0.2529 - val_loss: 0.2766\nEpoch 94/100\n - 36s - loss: 0.2507 - val_loss: 0.2563\nEpoch 95/100\n - 36s - loss: 0.2503 - val_loss: 0.2488\nEpoch 96/100\n - 35s - loss: 0.2493 - val_loss: 0.2487\nEpoch 97/100\n - 36s - loss: 0.2492 - val_loss: 0.2514\nEpoch 98/100\n - 36s - loss: 0.2474 - val_loss: 0.2546\nEpoch 99/100\n - 36s - loss: 0.2467 - val_loss: 0.2597\nEpoch 100/100\n - 35s - loss: 0.2452 - val_loss: 0.2413\n",
          "name": "stdout"
        }
      ]
    },
    {
      "metadata": {
        "_uuid": "c164caa2228a2254968b8be1c253508cf14a54bb"
      },
      "cell_type": "markdown",
      "source": "#### Model loss plot"
    },
    {
      "metadata": {
        "trusted": true,
        "_uuid": "2343460f84e47f425aa85f272edb896fe2d2e98e",
        "_kg_hide-input": true
      },
      "cell_type": "code",
      "source": "history_pd = pd.DataFrame.from_dict(history.history)\nhistory_pd.iplot(kind='line')",
      "execution_count": 9,
      "outputs": [
        {
          "output_type": "display_data",
          "data": {
            "application/vnd.plotly.v1+json": {
              "data": [
                {
                  "line": {
                    "color": "rgba(255, 153, 51, 1.0)",
                    "dash": "solid",
                    "shape": "linear",
                    "width": 1.3
                  },
                  "mode": "lines",
                  "name": "val_loss",
                  "text": "",
                  "x": [
                    0,
                    1,
                    2,
                    3,
                    4,
                    5,
                    6,
                    7,
                    8,
                    9,
                    10,
                    11,
                    12,
                    13,
                    14,
                    15,
                    16,
                    17,
                    18,
                    19,
                    20,
                    21,
                    22,
                    23,
                    24,
                    25,
                    26,
                    27,
                    28,
                    29,
                    30,
                    31,
                    32,
                    33,
                    34,
                    35,
                    36,
                    37,
                    38,
                    39,
                    40,
                    41,
                    42,
                    43,
                    44,
                    45,
                    46,
                    47,
                    48,
                    49,
                    50,
                    51,
                    52,
                    53,
                    54,
                    55,
                    56,
                    57,
                    58,
                    59,
                    60,
                    61,
                    62,
                    63,
                    64,
                    65,
                    66,
                    67,
                    68,
                    69,
                    70,
                    71,
                    72,
                    73,
                    74,
                    75,
                    76,
                    77,
                    78,
                    79,
                    80,
                    81,
                    82,
                    83,
                    84,
                    85,
                    86,
                    87,
                    88,
                    89,
                    90,
                    91,
                    92,
                    93,
                    94,
                    95,
                    96,
                    97,
                    98,
                    99
                  ],
                  "y": [
                    0.8860982377130998,
                    0.7134478406545528,
                    0.6215121735601131,
                    0.5758016518221831,
                    0.5671892894035954,
                    0.5246427293959761,
                    0.5084414208879856,
                    0.5213020034769936,
                    0.49751794109917846,
                    0.48637542539958173,
                    0.4956668650858554,
                    0.49445759399923594,
                    0.4657193634395055,
                    0.46291985332946295,
                    0.44765112821130065,
                    0.4433331494182935,
                    0.44368976996502696,
                    0.43787804006884884,
                    0.44309898898289035,
                    0.42673309691240546,
                    0.43809488787024903,
                    0.4447048931062378,
                    0.39965486584910803,
                    0.4055194576879538,
                    0.41028588150537465,
                    0.4002344406862545,
                    0.3891683677211404,
                    0.40928723326251104,
                    0.3725376569487526,
                    0.39630846344570086,
                    0.3978545099516397,
                    0.3784938541551431,
                    0.3808760683998231,
                    0.3601498158130394,
                    0.4181554148516317,
                    0.374287525837229,
                    0.3579767665671786,
                    0.3689092322560687,
                    0.35388965181654364,
                    0.39257111429943264,
                    0.359230210970393,
                    0.33929002947684894,
                    0.338431768699884,
                    0.3353146134993047,
                    0.3225970558585047,
                    0.3405834808933434,
                    0.3424109086281867,
                    0.3574633413211997,
                    0.3432895597852669,
                    0.3235788831433521,
                    0.2976798335984936,
                    0.3148090517028599,
                    0.34314575146399734,
                    0.3147593017990195,
                    0.30341565508390544,
                    0.31872806242444696,
                    0.3107576029548749,
                    0.4719279566681956,
                    0.31753779830303525,
                    0.3011868683232625,
                    0.29321831229003514,
                    0.2963374999359133,
                    0.2812121767279377,
                    0.28599542166837283,
                    0.3062214773304741,
                    0.34217233318356394,
                    0.28128333777443476,
                    0.30525227780074976,
                    0.314465308843029,
                    0.26941530638572386,
                    0.3227054953680244,
                    0.2889470894248995,
                    0.2773676441207509,
                    0.2929495377087198,
                    0.2647996561142208,
                    0.26915470142164355,
                    0.27415156822952286,
                    0.26199999197906865,
                    0.26623094622339083,
                    0.24866515782898843,
                    0.37872034198362525,
                    0.255426955303627,
                    0.24527577804389294,
                    0.2492435287923755,
                    0.268123354512851,
                    0.26193557960455477,
                    0.2421067159019748,
                    0.2899169447132707,
                    0.28322655923500795,
                    0.24887376196200903,
                    0.299677795999417,
                    0.23956150657025574,
                    0.2765999695480486,
                    0.2562606301784437,
                    0.2487929248662905,
                    0.24865253249994843,
                    0.25144637692927474,
                    0.2545781370158872,
                    0.2596732657720528,
                    0.24130012473614587
                  ],
                  "type": "scatter",
                  "uid": "ffc438d7-130e-4d2d-b9c1-efada7a9dc60"
                },
                {
                  "line": {
                    "color": "rgba(55, 128, 191, 1.0)",
                    "dash": "solid",
                    "shape": "linear",
                    "width": 1.3
                  },
                  "mode": "lines",
                  "name": "loss",
                  "text": "",
                  "x": [
                    0,
                    1,
                    2,
                    3,
                    4,
                    5,
                    6,
                    7,
                    8,
                    9,
                    10,
                    11,
                    12,
                    13,
                    14,
                    15,
                    16,
                    17,
                    18,
                    19,
                    20,
                    21,
                    22,
                    23,
                    24,
                    25,
                    26,
                    27,
                    28,
                    29,
                    30,
                    31,
                    32,
                    33,
                    34,
                    35,
                    36,
                    37,
                    38,
                    39,
                    40,
                    41,
                    42,
                    43,
                    44,
                    45,
                    46,
                    47,
                    48,
                    49,
                    50,
                    51,
                    52,
                    53,
                    54,
                    55,
                    56,
                    57,
                    58,
                    59,
                    60,
                    61,
                    62,
                    63,
                    64,
                    65,
                    66,
                    67,
                    68,
                    69,
                    70,
                    71,
                    72,
                    73,
                    74,
                    75,
                    76,
                    77,
                    78,
                    79,
                    80,
                    81,
                    82,
                    83,
                    84,
                    85,
                    86,
                    87,
                    88,
                    89,
                    90,
                    91,
                    92,
                    93,
                    94,
                    95,
                    96,
                    97,
                    98,
                    99
                  ],
                  "y": [
                    1.2016013916826311,
                    0.7857130095362663,
                    0.6580329267357005,
                    0.5948258978436919,
                    0.5577645733747192,
                    0.535133110487643,
                    0.5185198793468845,
                    0.5068377442340174,
                    0.4952604947782799,
                    0.48718430045405475,
                    0.4783576132773649,
                    0.47224406845955635,
                    0.4651759050821939,
                    0.45924377783013415,
                    0.4538199059821646,
                    0.4481021246617401,
                    0.4434153472099043,
                    0.4373924277449061,
                    0.43252125422450716,
                    0.42690249613188014,
                    0.42312300373162104,
                    0.41846001377999,
                    0.4131239635391366,
                    0.4099049876979369,
                    0.40605114318132207,
                    0.40163817688678527,
                    0.3975833806470819,
                    0.3938887030649515,
                    0.3912761210903325,
                    0.387504122702752,
                    0.38387187379057913,
                    0.38063818843561054,
                    0.3777758175466855,
                    0.37452476261014955,
                    0.3696130894783278,
                    0.36722308920092606,
                    0.3640237300292518,
                    0.36038912287204383,
                    0.3576254867655262,
                    0.35323099872944363,
                    0.3508144023160883,
                    0.34869415977947765,
                    0.34563594754495636,
                    0.34203318690146584,
                    0.33887393091404394,
                    0.33736350670825993,
                    0.33300396514808384,
                    0.331836083661606,
                    0.329190866731711,
                    0.3257351121901879,
                    0.3227228846980303,
                    0.3195050623814216,
                    0.31704167068539935,
                    0.314124095109273,
                    0.31093351224182525,
                    0.3086193989634788,
                    0.30617764810518194,
                    0.30454605227040515,
                    0.30054517522646146,
                    0.29955241846680286,
                    0.29758178176779393,
                    0.29481869481816847,
                    0.29411802048109875,
                    0.2905939640761463,
                    0.29010764279465734,
                    0.2865768393887857,
                    0.28492012906885583,
                    0.2831765656679407,
                    0.2819728490766969,
                    0.28014054535438976,
                    0.27825075290483614,
                    0.2772381316636398,
                    0.27572436959041513,
                    0.27385743386191597,
                    0.2723386937369204,
                    0.2702540504296061,
                    0.26993681169423617,
                    0.2679333887590044,
                    0.26692803588596825,
                    0.2660399121624965,
                    0.26501781264230795,
                    0.2633216143666713,
                    0.26119566396742894,
                    0.26114761129142644,
                    0.259287255446902,
                    0.2578450343527298,
                    0.2585074959573057,
                    0.25733774229505263,
                    0.25593218354940944,
                    0.25529488824038116,
                    0.25470924948013984,
                    0.25190626966551294,
                    0.2528539001458909,
                    0.25065930350698906,
                    0.2503458952281888,
                    0.24926360660468488,
                    0.2491815998342702,
                    0.24740579425802778,
                    0.2467376402456416,
                    0.24524302732014877
                  ],
                  "type": "scatter",
                  "uid": "6d45bd66-b7ea-471a-8199-32983b030e56"
                }
              ],
              "layout": {
                "legend": {
                  "bgcolor": "#F5F6F9",
                  "font": {
                    "color": "#4D5663"
                  }
                },
                "paper_bgcolor": "#F5F6F9",
                "plot_bgcolor": "#F5F6F9",
                "title": {
                  "font": {
                    "color": "#4D5663"
                  }
                },
                "xaxis": {
                  "gridcolor": "#E1E5ED",
                  "showgrid": true,
                  "tickfont": {
                    "color": "#4D5663"
                  },
                  "title": {
                    "text": "",
                    "font": {
                      "color": "#4D5663"
                    }
                  },
                  "zerolinecolor": "#E1E5ED"
                },
                "yaxis": {
                  "gridcolor": "#E1E5ED",
                  "showgrid": true,
                  "tickfont": {
                    "color": "#4D5663"
                  },
                  "title": {
                    "text": "",
                    "font": {
                      "color": "#4D5663"
                    }
                  },
                  "zerolinecolor": "#E1E5ED"
                }
              },
              "config": {
                "showLink": true,
                "linkText": "Export to plot.ly",
                "plotlyServerURL": "https://plot.ly"
              }
            },
            "text/html": "<div id=\"0c351357-13cd-415c-a8ef-c99ede84ade4\" style=\"height: 525px; width: 100%;\" class=\"plotly-graph-div\"></div><script type=\"text/javascript\">require([\"plotly\"], function(Plotly) { window.PLOTLYENV=window.PLOTLYENV || {};window.PLOTLYENV.BASE_URL=\"https://plot.ly\";\nif (document.getElementById(\"0c351357-13cd-415c-a8ef-c99ede84ade4\")) {\n    Plotly.newPlot(\"0c351357-13cd-415c-a8ef-c99ede84ade4\", [{\"line\": {\"color\": \"rgba(255, 153, 51, 1.0)\", \"dash\": \"solid\", \"shape\": \"linear\", \"width\": 1.3}, \"mode\": \"lines\", \"name\": \"val_loss\", \"text\": \"\", \"x\": [0, 1, 2, 3, 4, 5, 6, 7, 8, 9, 10, 11, 12, 13, 14, 15, 16, 17, 18, 19, 20, 21, 22, 23, 24, 25, 26, 27, 28, 29, 30, 31, 32, 33, 34, 35, 36, 37, 38, 39, 40, 41, 42, 43, 44, 45, 46, 47, 48, 49, 50, 51, 52, 53, 54, 55, 56, 57, 58, 59, 60, 61, 62, 63, 64, 65, 66, 67, 68, 69, 70, 71, 72, 73, 74, 75, 76, 77, 78, 79, 80, 81, 82, 83, 84, 85, 86, 87, 88, 89, 90, 91, 92, 93, 94, 95, 96, 97, 98, 99], \"y\": [0.8860982377130998, 0.7134478406545528, 0.6215121735601131, 0.5758016518221831, 0.5671892894035954, 0.5246427293959761, 0.5084414208879856, 0.5213020034769936, 0.49751794109917846, 0.48637542539958173, 0.4956668650858554, 0.49445759399923594, 0.4657193634395055, 0.46291985332946295, 0.44765112821130065, 0.4433331494182935, 0.44368976996502696, 0.43787804006884884, 0.44309898898289035, 0.42673309691240546, 0.43809488787024903, 0.4447048931062378, 0.39965486584910803, 0.4055194576879538, 0.41028588150537465, 0.4002344406862545, 0.3891683677211404, 0.40928723326251104, 0.3725376569487526, 0.39630846344570086, 0.3978545099516397, 0.3784938541551431, 0.3808760683998231, 0.3601498158130394, 0.4181554148516317, 0.374287525837229, 0.3579767665671786, 0.3689092322560687, 0.35388965181654364, 0.39257111429943264, 0.359230210970393, 0.33929002947684894, 0.338431768699884, 0.3353146134993047, 0.3225970558585047, 0.3405834808933434, 0.3424109086281867, 0.3574633413211997, 0.3432895597852669, 0.3235788831433521, 0.2976798335984936, 0.3148090517028599, 0.34314575146399734, 0.3147593017990195, 0.30341565508390544, 0.31872806242444696, 0.3107576029548749, 0.4719279566681956, 0.31753779830303525, 0.3011868683232625, 0.29321831229003514, 0.2963374999359133, 0.2812121767279377, 0.28599542166837283, 0.3062214773304741, 0.34217233318356394, 0.28128333777443476, 0.30525227780074976, 0.314465308843029, 0.26941530638572386, 0.3227054953680244, 0.2889470894248995, 0.2773676441207509, 0.2929495377087198, 0.2647996561142208, 0.26915470142164355, 0.27415156822952286, 0.26199999197906865, 0.26623094622339083, 0.24866515782898843, 0.37872034198362525, 0.255426955303627, 0.24527577804389294, 0.2492435287923755, 0.268123354512851, 0.26193557960455477, 0.2421067159019748, 0.2899169447132707, 0.28322655923500795, 0.24887376196200903, 0.299677795999417, 0.23956150657025574, 0.2765999695480486, 0.2562606301784437, 0.2487929248662905, 0.24865253249994843, 0.25144637692927474, 0.2545781370158872, 0.2596732657720528, 0.24130012473614587], \"type\": \"scatter\", \"uid\": \"02a8d4ea-d53c-4507-9073-4b69b7c956b9\"}, {\"line\": {\"color\": \"rgba(55, 128, 191, 1.0)\", \"dash\": \"solid\", \"shape\": \"linear\", \"width\": 1.3}, \"mode\": \"lines\", \"name\": \"loss\", \"text\": \"\", \"x\": [0, 1, 2, 3, 4, 5, 6, 7, 8, 9, 10, 11, 12, 13, 14, 15, 16, 17, 18, 19, 20, 21, 22, 23, 24, 25, 26, 27, 28, 29, 30, 31, 32, 33, 34, 35, 36, 37, 38, 39, 40, 41, 42, 43, 44, 45, 46, 47, 48, 49, 50, 51, 52, 53, 54, 55, 56, 57, 58, 59, 60, 61, 62, 63, 64, 65, 66, 67, 68, 69, 70, 71, 72, 73, 74, 75, 76, 77, 78, 79, 80, 81, 82, 83, 84, 85, 86, 87, 88, 89, 90, 91, 92, 93, 94, 95, 96, 97, 98, 99], \"y\": [1.2016013916826311, 0.7857130095362663, 0.6580329267357005, 0.5948258978436919, 0.5577645733747192, 0.535133110487643, 0.5185198793468845, 0.5068377442340174, 0.4952604947782799, 0.48718430045405475, 0.4783576132773649, 0.47224406845955635, 0.4651759050821939, 0.45924377783013415, 0.4538199059821646, 0.4481021246617401, 0.4434153472099043, 0.4373924277449061, 0.43252125422450716, 0.42690249613188014, 0.42312300373162104, 0.41846001377999, 0.4131239635391366, 0.4099049876979369, 0.40605114318132207, 0.40163817688678527, 0.3975833806470819, 0.3938887030649515, 0.3912761210903325, 0.387504122702752, 0.38387187379057913, 0.38063818843561054, 0.3777758175466855, 0.37452476261014955, 0.3696130894783278, 0.36722308920092606, 0.3640237300292518, 0.36038912287204383, 0.3576254867655262, 0.35323099872944363, 0.3508144023160883, 0.34869415977947765, 0.34563594754495636, 0.34203318690146584, 0.33887393091404394, 0.33736350670825993, 0.33300396514808384, 0.331836083661606, 0.329190866731711, 0.3257351121901879, 0.3227228846980303, 0.3195050623814216, 0.31704167068539935, 0.314124095109273, 0.31093351224182525, 0.3086193989634788, 0.30617764810518194, 0.30454605227040515, 0.30054517522646146, 0.29955241846680286, 0.29758178176779393, 0.29481869481816847, 0.29411802048109875, 0.2905939640761463, 0.29010764279465734, 0.2865768393887857, 0.28492012906885583, 0.2831765656679407, 0.2819728490766969, 0.28014054535438976, 0.27825075290483614, 0.2772381316636398, 0.27572436959041513, 0.27385743386191597, 0.2723386937369204, 0.2702540504296061, 0.26993681169423617, 0.2679333887590044, 0.26692803588596825, 0.2660399121624965, 0.26501781264230795, 0.2633216143666713, 0.26119566396742894, 0.26114761129142644, 0.259287255446902, 0.2578450343527298, 0.2585074959573057, 0.25733774229505263, 0.25593218354940944, 0.25529488824038116, 0.25470924948013984, 0.25190626966551294, 0.2528539001458909, 0.25065930350698906, 0.2503458952281888, 0.24926360660468488, 0.2491815998342702, 0.24740579425802778, 0.2467376402456416, 0.24524302732014877], \"type\": \"scatter\", \"uid\": \"c995c6cc-98cf-4f26-b0c1-3b83bb4a539f\"}], {\"legend\": {\"bgcolor\": \"#F5F6F9\", \"font\": {\"color\": \"#4D5663\"}}, \"paper_bgcolor\": \"#F5F6F9\", \"plot_bgcolor\": \"#F5F6F9\", \"title\": {\"font\": {\"color\": \"#4D5663\"}}, \"xaxis\": {\"gridcolor\": \"#E1E5ED\", \"showgrid\": true, \"tickfont\": {\"color\": \"#4D5663\"}, \"title\": {\"text\": \"\", \"font\": {\"color\": \"#4D5663\"}}, \"zerolinecolor\": \"#E1E5ED\"}, \"yaxis\": {\"gridcolor\": \"#E1E5ED\", \"showgrid\": true, \"tickfont\": {\"color\": \"#4D5663\"}, \"title\": {\"text\": \"\", \"font\": {\"color\": \"#4D5663\"}}, \"zerolinecolor\": \"#E1E5ED\"}}, {\"showLink\": true, \"linkText\": \"Export to plot.ly\", \"plotlyServerURL\": \"https://plot.ly\"}); \n}\n});</script><script type=\"text/javascript\">window.addEventListener(\"resize\", function(){if (document.getElementById(\"0c351357-13cd-415c-a8ef-c99ede84ade4\")) {window._Plotly.Plots.resize(document.getElementById(\"0c351357-13cd-415c-a8ef-c99ede84ade4\"));};})</script>",
            "text/vnd.plotly.v1+html": "<div id=\"0c351357-13cd-415c-a8ef-c99ede84ade4\" style=\"height: 525px; width: 100%;\" class=\"plotly-graph-div\"></div><script type=\"text/javascript\">require([\"plotly\"], function(Plotly) { window.PLOTLYENV=window.PLOTLYENV || {};window.PLOTLYENV.BASE_URL=\"https://plot.ly\";\nif (document.getElementById(\"0c351357-13cd-415c-a8ef-c99ede84ade4\")) {\n    Plotly.newPlot(\"0c351357-13cd-415c-a8ef-c99ede84ade4\", [{\"line\": {\"color\": \"rgba(255, 153, 51, 1.0)\", \"dash\": \"solid\", \"shape\": \"linear\", \"width\": 1.3}, \"mode\": \"lines\", \"name\": \"val_loss\", \"text\": \"\", \"x\": [0, 1, 2, 3, 4, 5, 6, 7, 8, 9, 10, 11, 12, 13, 14, 15, 16, 17, 18, 19, 20, 21, 22, 23, 24, 25, 26, 27, 28, 29, 30, 31, 32, 33, 34, 35, 36, 37, 38, 39, 40, 41, 42, 43, 44, 45, 46, 47, 48, 49, 50, 51, 52, 53, 54, 55, 56, 57, 58, 59, 60, 61, 62, 63, 64, 65, 66, 67, 68, 69, 70, 71, 72, 73, 74, 75, 76, 77, 78, 79, 80, 81, 82, 83, 84, 85, 86, 87, 88, 89, 90, 91, 92, 93, 94, 95, 96, 97, 98, 99], \"y\": [0.8860982377130998, 0.7134478406545528, 0.6215121735601131, 0.5758016518221831, 0.5671892894035954, 0.5246427293959761, 0.5084414208879856, 0.5213020034769936, 0.49751794109917846, 0.48637542539958173, 0.4956668650858554, 0.49445759399923594, 0.4657193634395055, 0.46291985332946295, 0.44765112821130065, 0.4433331494182935, 0.44368976996502696, 0.43787804006884884, 0.44309898898289035, 0.42673309691240546, 0.43809488787024903, 0.4447048931062378, 0.39965486584910803, 0.4055194576879538, 0.41028588150537465, 0.4002344406862545, 0.3891683677211404, 0.40928723326251104, 0.3725376569487526, 0.39630846344570086, 0.3978545099516397, 0.3784938541551431, 0.3808760683998231, 0.3601498158130394, 0.4181554148516317, 0.374287525837229, 0.3579767665671786, 0.3689092322560687, 0.35388965181654364, 0.39257111429943264, 0.359230210970393, 0.33929002947684894, 0.338431768699884, 0.3353146134993047, 0.3225970558585047, 0.3405834808933434, 0.3424109086281867, 0.3574633413211997, 0.3432895597852669, 0.3235788831433521, 0.2976798335984936, 0.3148090517028599, 0.34314575146399734, 0.3147593017990195, 0.30341565508390544, 0.31872806242444696, 0.3107576029548749, 0.4719279566681956, 0.31753779830303525, 0.3011868683232625, 0.29321831229003514, 0.2963374999359133, 0.2812121767279377, 0.28599542166837283, 0.3062214773304741, 0.34217233318356394, 0.28128333777443476, 0.30525227780074976, 0.314465308843029, 0.26941530638572386, 0.3227054953680244, 0.2889470894248995, 0.2773676441207509, 0.2929495377087198, 0.2647996561142208, 0.26915470142164355, 0.27415156822952286, 0.26199999197906865, 0.26623094622339083, 0.24866515782898843, 0.37872034198362525, 0.255426955303627, 0.24527577804389294, 0.2492435287923755, 0.268123354512851, 0.26193557960455477, 0.2421067159019748, 0.2899169447132707, 0.28322655923500795, 0.24887376196200903, 0.299677795999417, 0.23956150657025574, 0.2765999695480486, 0.2562606301784437, 0.2487929248662905, 0.24865253249994843, 0.25144637692927474, 0.2545781370158872, 0.2596732657720528, 0.24130012473614587], \"type\": \"scatter\", \"uid\": \"02a8d4ea-d53c-4507-9073-4b69b7c956b9\"}, {\"line\": {\"color\": \"rgba(55, 128, 191, 1.0)\", \"dash\": \"solid\", \"shape\": \"linear\", \"width\": 1.3}, \"mode\": \"lines\", \"name\": \"loss\", \"text\": \"\", \"x\": [0, 1, 2, 3, 4, 5, 6, 7, 8, 9, 10, 11, 12, 13, 14, 15, 16, 17, 18, 19, 20, 21, 22, 23, 24, 25, 26, 27, 28, 29, 30, 31, 32, 33, 34, 35, 36, 37, 38, 39, 40, 41, 42, 43, 44, 45, 46, 47, 48, 49, 50, 51, 52, 53, 54, 55, 56, 57, 58, 59, 60, 61, 62, 63, 64, 65, 66, 67, 68, 69, 70, 71, 72, 73, 74, 75, 76, 77, 78, 79, 80, 81, 82, 83, 84, 85, 86, 87, 88, 89, 90, 91, 92, 93, 94, 95, 96, 97, 98, 99], \"y\": [1.2016013916826311, 0.7857130095362663, 0.6580329267357005, 0.5948258978436919, 0.5577645733747192, 0.535133110487643, 0.5185198793468845, 0.5068377442340174, 0.4952604947782799, 0.48718430045405475, 0.4783576132773649, 0.47224406845955635, 0.4651759050821939, 0.45924377783013415, 0.4538199059821646, 0.4481021246617401, 0.4434153472099043, 0.4373924277449061, 0.43252125422450716, 0.42690249613188014, 0.42312300373162104, 0.41846001377999, 0.4131239635391366, 0.4099049876979369, 0.40605114318132207, 0.40163817688678527, 0.3975833806470819, 0.3938887030649515, 0.3912761210903325, 0.387504122702752, 0.38387187379057913, 0.38063818843561054, 0.3777758175466855, 0.37452476261014955, 0.3696130894783278, 0.36722308920092606, 0.3640237300292518, 0.36038912287204383, 0.3576254867655262, 0.35323099872944363, 0.3508144023160883, 0.34869415977947765, 0.34563594754495636, 0.34203318690146584, 0.33887393091404394, 0.33736350670825993, 0.33300396514808384, 0.331836083661606, 0.329190866731711, 0.3257351121901879, 0.3227228846980303, 0.3195050623814216, 0.31704167068539935, 0.314124095109273, 0.31093351224182525, 0.3086193989634788, 0.30617764810518194, 0.30454605227040515, 0.30054517522646146, 0.29955241846680286, 0.29758178176779393, 0.29481869481816847, 0.29411802048109875, 0.2905939640761463, 0.29010764279465734, 0.2865768393887857, 0.28492012906885583, 0.2831765656679407, 0.2819728490766969, 0.28014054535438976, 0.27825075290483614, 0.2772381316636398, 0.27572436959041513, 0.27385743386191597, 0.2723386937369204, 0.2702540504296061, 0.26993681169423617, 0.2679333887590044, 0.26692803588596825, 0.2660399121624965, 0.26501781264230795, 0.2633216143666713, 0.26119566396742894, 0.26114761129142644, 0.259287255446902, 0.2578450343527298, 0.2585074959573057, 0.25733774229505263, 0.25593218354940944, 0.25529488824038116, 0.25470924948013984, 0.25190626966551294, 0.2528539001458909, 0.25065930350698906, 0.2503458952281888, 0.24926360660468488, 0.2491815998342702, 0.24740579425802778, 0.2467376402456416, 0.24524302732014877], \"type\": \"scatter\", \"uid\": \"c995c6cc-98cf-4f26-b0c1-3b83bb4a539f\"}], {\"legend\": {\"bgcolor\": \"#F5F6F9\", \"font\": {\"color\": \"#4D5663\"}}, \"paper_bgcolor\": \"#F5F6F9\", \"plot_bgcolor\": \"#F5F6F9\", \"title\": {\"font\": {\"color\": \"#4D5663\"}}, \"xaxis\": {\"gridcolor\": \"#E1E5ED\", \"showgrid\": true, \"tickfont\": {\"color\": \"#4D5663\"}, \"title\": {\"text\": \"\", \"font\": {\"color\": \"#4D5663\"}}, \"zerolinecolor\": \"#E1E5ED\"}, \"yaxis\": {\"gridcolor\": \"#E1E5ED\", \"showgrid\": true, \"tickfont\": {\"color\": \"#4D5663\"}, \"title\": {\"text\": \"\", \"font\": {\"color\": \"#4D5663\"}}, \"zerolinecolor\": \"#E1E5ED\"}}, {\"showLink\": true, \"linkText\": \"Export to plot.ly\", \"plotlyServerURL\": \"https://plot.ly\"}); \n}\n});</script><script type=\"text/javascript\">window.addEventListener(\"resize\", function(){if (document.getElementById(\"0c351357-13cd-415c-a8ef-c99ede84ade4\")) {window._Plotly.Plots.resize(document.getElementById(\"0c351357-13cd-415c-a8ef-c99ede84ade4\"));};})</script>"
          },
          "metadata": {}
        }
      ]
    },
    {
      "metadata": {
        "_uuid": "e329fef416e3eed32a699084ef3b0774abb5536d"
      },
      "cell_type": "markdown",
      "source": "#### Model evaluation"
    },
    {
      "metadata": {
        "_kg_hide-input": true,
        "trusted": true,
        "_uuid": "3cfa5400527314db84f0629e45b347ec4515ece7"
      },
      "cell_type": "code",
      "source": "train_pred = model.predict_classes(X_train)\nval_pred = model.predict_classes(X_val)\nY_train = np.argmax(Y_train, axis=1)\nY_val = np.argmax(Y_val, axis=1)\n\nprint('Train accuracy', accuracy_score(Y_train, train_pred))\nprint('Validation accuracy', accuracy_score(Y_val, val_pred))",
      "execution_count": 10,
      "outputs": [
        {
          "output_type": "stream",
          "text": "Train accuracy 0.911742843667979\nValidation accuracy 0.9100947342519685\n",
          "name": "stdout"
        }
      ]
    },
    {
      "metadata": {
        "_uuid": "39c0e9e8bc4ab06af679743de7cbe387ff62bea4"
      },
      "cell_type": "markdown",
      "source": "#### Model confusion matrix"
    },
    {
      "metadata": {
        "_kg_hide-input": true,
        "trusted": true,
        "_uuid": "580ebf9db14b7f1deba7db6d1575640c68d96ce5"
      },
      "cell_type": "code",
      "source": "cnf_matrix = confusion_matrix(Y_train, train_pred)\ncnf_matrix_norm = cnf_matrix.astype('float') / cnf_matrix.sum(axis=1)[:, np.newaxis]\ndf_cm = pd.DataFrame(cnf_matrix_norm, index=labels_names, columns=labels_names)\n\nplt.figure(figsize=(20, 7))\nax = plt.axes()\nax.set_title('Train')\nsns.heatmap(df_cm, annot=True, fmt='.2f', cmap=\"Blues\", ax=ax)\nplt.show()\n\ncnf_matrix = confusion_matrix(Y_val, val_pred)\ncnf_matrix_norm = cnf_matrix.astype('float') / cnf_matrix.sum(axis=1)[:, np.newaxis]\ndf_cm = pd.DataFrame(cnf_matrix_norm, index=labels_names, columns=labels_names)\n\nplt.figure(figsize=(20, 7))\nax = plt.axes()\nax.set_title('Validation')\nsns.heatmap(df_cm, annot=True, fmt='.2f', cmap=\"Blues\", ax=ax)\nplt.show()",
      "execution_count": 11,
      "outputs": [
        {
          "output_type": "display_data",
          "data": {
            "text/plain": "<Figure size 1440x504 with 2 Axes>",
            "image/png": "[encoded data removed]"
          },
          "metadata": {}
        },
        {
          "output_type": "display_data",
          "data": {
            "text/plain": "<Figure size 1440x504 with 2 Axes>",
            "image/png": "[encoded data removed]"
          },
          "metadata": {}
        }
      ]
    },
    {
      "metadata": {
        "_uuid": "c5c5577b77d5be2e5f94fb3d47a900098177ac21"
      },
      "cell_type": "markdown",
      "source": "### Test predictions"
    },
    {
      "metadata": {
        "_kg_hide-input": true,
        "trusted": true,
        "_uuid": "b2bfea52ae3a9c0e325f4022538f843da0839671"
      },
      "cell_type": "code",
      "source": "predictions = model.predict_classes(test[features].values)\ntest['surface'] = le.inverse_transform(predictions)\ndf = test[['series_id', 'surface']]\ndf = df.groupby('series_id', as_index=False).agg(lambda x:x.value_counts().index[0])\ndf.to_csv('submission.csv', index=False)\ndf.head(10)",
      "execution_count": null,
      "outputs": []
    }
  ],
  "metadata": {
    "kernelspec": {
      "display_name": "Python 3",
      "language": "python",
      "name": "python3"
    },
    "language_info": {
      "name": "python",
      "version": "3.6.6",
      "mimetype": "text/x-python",
      "codemirror_mode": {
        "name": "ipython",
        "version": 3
      },
      "pygments_lexer": "ipython3",
      "nbconvert_exporter": "python",
      "file_extension": ".py"
    }
  },
  "nbformat": 4,
  "nbformat_minor": 1
}