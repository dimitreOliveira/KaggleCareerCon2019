{
 "cells": [
  {
   "cell_type": "code",
   "execution_count": 1,
   "metadata": {
    "_uuid": "8f2839f25d086af736a60e9eeb907d3b93b6e0e5",
    "_cell_guid": "b1076dfc-b9ad-4769-8c92-a6c4dae69d19",
    "trusted": true,
    "_kg_hide-output": true
   },
   "outputs": [
    {
     "name": "stderr",
     "output_type": "stream",
     "text": [
      "Using TensorFlow backend.\n"
     ]
    }
   ],
   "source": [
    "import warnings\n",
    "import numpy as np\n",
    "import pandas as pd\n",
    "import seaborn as sns\n",
    "import matplotlib.pyplot as plt\n",
    "from keras import optimizers\n",
    "from keras.layers import Dense, Dropout, LSTM\n",
    "from keras.utils import to_categorical\n",
    "from keras.models import Sequential, Model\n",
    "from sklearn.metrics import confusion_matrix, accuracy_score\n",
    "from sklearn.preprocessing import LabelEncoder, MinMaxScaler\n",
    "from sklearn.model_selection import train_test_split\n",
    "\n",
    "%matplotlib inline\n",
    "sns.set(style=\"whitegrid\")\n",
    "warnings.filterwarnings(\"ignore\")\n",
    "\n",
    "# Set seeds to make the experiment more reproducible.\n",
    "from tensorflow import set_random_seed\n",
    "from numpy.random import seed\n",
    "set_random_seed(0)\n",
    "seed(0)"
   ]
  },
  {
   "cell_type": "markdown",
   "metadata": {
    "_uuid": "26200cd7d762b5eeaf9a8fdbfb1e11647cc69c37"
   },
   "source": [
    "### Load data"
   ]
  },
  {
   "cell_type": "code",
   "execution_count": 2,
   "metadata": {
    "trusted": true,
    "_uuid": "1c9ef2cc61c34a83808fb2603e7b380e8d9b4b15",
    "_kg_hide-input": true
   },
   "outputs": [],
   "source": [
    "train = pd.read_csv('../input/X_train.csv')\n",
    "labels = pd.read_csv('../input/y_train.csv')\n",
    "test = pd.read_csv('../input/X_test.csv').sort_values(['series_id', 'measurement_number'])"
   ]
  },
  {
   "cell_type": "markdown",
   "metadata": {
    "_uuid": "6afb5115ad084e2876b194640897df39bcb25356"
   },
   "source": [
    "### Join train features with labels"
   ]
  },
  {
   "cell_type": "code",
   "execution_count": 3,
   "metadata": {
    "trusted": true,
    "_uuid": "101f2f8fae95b8d165be94c1b6f9e056ba338b51"
   },
   "outputs": [
    {
     "name": "stdout",
     "output_type": "stream",
     "text": [
      "(487680, 15)\n"
     ]
    },
    {
     "data": {
      "text/html": [
       "<div>\n<style scoped>\n    .dataframe tbody tr th:only-of-type {\n        vertical-align: middle;\n    }\n\n    .dataframe tbody tr th {\n        vertical-align: top;\n    }\n\n    .dataframe thead th {\n        text-align: right;\n    }\n</style>\n<table border=\"1\" class=\"dataframe\">\n  <thead>\n    <tr style=\"text-align: right;\">\n      <th></th>\n      <th>row_id</th>\n      <th>series_id</th>\n      <th>measurement_number</th>\n      <th>orientation_X</th>\n      <th>orientation_Y</th>\n      <th>orientation_Z</th>\n      <th>orientation_W</th>\n      <th>angular_velocity_X</th>\n      <th>angular_velocity_Y</th>\n      <th>angular_velocity_Z</th>\n      <th>linear_acceleration_X</th>\n      <th>linear_acceleration_Y</th>\n      <th>linear_acceleration_Z</th>\n      <th>group_id</th>\n      <th>surface</th>\n    </tr>\n  </thead>\n  <tbody>\n    <tr>\n      <th>0</th>\n      <td>0_0</td>\n      <td>0</td>\n      <td>0</td>\n      <td>-0.75853</td>\n      <td>-0.63435</td>\n      <td>-0.10488</td>\n      <td>-0.10597</td>\n      <td>0.107650</td>\n      <td>0.017561</td>\n      <td>0.000767</td>\n      <td>-0.74857</td>\n      <td>2.1030</td>\n      <td>-9.7532</td>\n      <td>13</td>\n      <td>fine_concrete</td>\n    </tr>\n    <tr>\n      <th>1</th>\n      <td>0_1</td>\n      <td>0</td>\n      <td>1</td>\n      <td>-0.75853</td>\n      <td>-0.63434</td>\n      <td>-0.10490</td>\n      <td>-0.10600</td>\n      <td>0.067851</td>\n      <td>0.029939</td>\n      <td>0.003385</td>\n      <td>0.33995</td>\n      <td>1.5064</td>\n      <td>-9.4128</td>\n      <td>13</td>\n      <td>fine_concrete</td>\n    </tr>\n    <tr>\n      <th>2</th>\n      <td>0_2</td>\n      <td>0</td>\n      <td>2</td>\n      <td>-0.75853</td>\n      <td>-0.63435</td>\n      <td>-0.10492</td>\n      <td>-0.10597</td>\n      <td>0.007275</td>\n      <td>0.028934</td>\n      <td>-0.005978</td>\n      <td>-0.26429</td>\n      <td>1.5922</td>\n      <td>-8.7267</td>\n      <td>13</td>\n      <td>fine_concrete</td>\n    </tr>\n    <tr>\n      <th>3</th>\n      <td>0_3</td>\n      <td>0</td>\n      <td>3</td>\n      <td>-0.75852</td>\n      <td>-0.63436</td>\n      <td>-0.10495</td>\n      <td>-0.10597</td>\n      <td>-0.013053</td>\n      <td>0.019448</td>\n      <td>-0.008974</td>\n      <td>0.42684</td>\n      <td>1.0993</td>\n      <td>-10.0960</td>\n      <td>13</td>\n      <td>fine_concrete</td>\n    </tr>\n    <tr>\n      <th>4</th>\n      <td>0_4</td>\n      <td>0</td>\n      <td>4</td>\n      <td>-0.75852</td>\n      <td>-0.63435</td>\n      <td>-0.10495</td>\n      <td>-0.10596</td>\n      <td>0.005135</td>\n      <td>0.007652</td>\n      <td>0.005245</td>\n      <td>-0.50969</td>\n      <td>1.4689</td>\n      <td>-10.4410</td>\n      <td>13</td>\n      <td>fine_concrete</td>\n    </tr>\n  </tbody>\n</table>\n</div>"
      ],
      "text/plain": [
       "  row_id  series_id      ...        group_id        surface\n0    0_0          0      ...              13  fine_concrete\n1    0_1          0      ...              13  fine_concrete\n2    0_2          0      ...              13  fine_concrete\n3    0_3          0      ...              13  fine_concrete\n4    0_4          0      ...              13  fine_concrete\n\n[5 rows x 15 columns]"
      ]
     },
     "metadata": {},
     "output_type": "execute_result"
    },
    {
     "data": {
      "text/html": [
       "<div>\n<style scoped>\n    .dataframe tbody tr th:only-of-type {\n        vertical-align: middle;\n    }\n\n    .dataframe tbody tr th {\n        vertical-align: top;\n    }\n\n    .dataframe thead th {\n        text-align: right;\n    }\n</style>\n<table border=\"1\" class=\"dataframe\">\n  <thead>\n    <tr style=\"text-align: right;\">\n      <th></th>\n      <th>count</th>\n      <th>mean</th>\n      <th>std</th>\n      <th>min</th>\n      <th>25%</th>\n      <th>50%</th>\n      <th>75%</th>\n      <th>max</th>\n    </tr>\n  </thead>\n  <tbody>\n    <tr>\n      <th>series_id</th>\n      <td>487680.0</td>\n      <td>1904.500000</td>\n      <td>1099.853353</td>\n      <td>0.00000</td>\n      <td>952.000000</td>\n      <td>1904.500000</td>\n      <td>2857.000000</td>\n      <td>3809.00000</td>\n    </tr>\n    <tr>\n      <th>measurement_number</th>\n      <td>487680.0</td>\n      <td>63.500000</td>\n      <td>36.949327</td>\n      <td>0.00000</td>\n      <td>31.750000</td>\n      <td>63.500000</td>\n      <td>95.250000</td>\n      <td>127.00000</td>\n    </tr>\n    <tr>\n      <th>orientation_X</th>\n      <td>487680.0</td>\n      <td>-0.018050</td>\n      <td>0.685696</td>\n      <td>-0.98910</td>\n      <td>-0.705120</td>\n      <td>-0.105960</td>\n      <td>0.651803</td>\n      <td>0.98910</td>\n    </tr>\n    <tr>\n      <th>orientation_Y</th>\n      <td>487680.0</td>\n      <td>0.075062</td>\n      <td>0.708226</td>\n      <td>-0.98965</td>\n      <td>-0.688980</td>\n      <td>0.237855</td>\n      <td>0.809550</td>\n      <td>0.98898</td>\n    </tr>\n    <tr>\n      <th>orientation_Z</th>\n      <td>487680.0</td>\n      <td>0.012458</td>\n      <td>0.105972</td>\n      <td>-0.16283</td>\n      <td>-0.089466</td>\n      <td>0.031949</td>\n      <td>0.122870</td>\n      <td>0.15571</td>\n    </tr>\n    <tr>\n      <th>orientation_W</th>\n      <td>487680.0</td>\n      <td>-0.003804</td>\n      <td>0.104299</td>\n      <td>-0.15662</td>\n      <td>-0.106060</td>\n      <td>-0.018704</td>\n      <td>0.097215</td>\n      <td>0.15477</td>\n    </tr>\n    <tr>\n      <th>angular_velocity_X</th>\n      <td>487680.0</td>\n      <td>0.000178</td>\n      <td>0.117764</td>\n      <td>-2.37100</td>\n      <td>-0.040752</td>\n      <td>0.000084</td>\n      <td>0.040527</td>\n      <td>2.28220</td>\n    </tr>\n    <tr>\n      <th>angular_velocity_Y</th>\n      <td>487680.0</td>\n      <td>0.008338</td>\n      <td>0.088677</td>\n      <td>-0.92786</td>\n      <td>-0.033191</td>\n      <td>0.005412</td>\n      <td>0.048068</td>\n      <td>1.07910</td>\n    </tr>\n    <tr>\n      <th>angular_velocity_Z</th>\n      <td>487680.0</td>\n      <td>-0.019184</td>\n      <td>0.229153</td>\n      <td>-1.26880</td>\n      <td>-0.090743</td>\n      <td>-0.005335</td>\n      <td>0.064604</td>\n      <td>1.38730</td>\n    </tr>\n    <tr>\n      <th>linear_acceleration_X</th>\n      <td>487680.0</td>\n      <td>0.129281</td>\n      <td>1.870600</td>\n      <td>-36.06700</td>\n      <td>-0.530833</td>\n      <td>0.124980</td>\n      <td>0.792263</td>\n      <td>36.79700</td>\n    </tr>\n    <tr>\n      <th>linear_acceleration_Y</th>\n      <td>487680.0</td>\n      <td>2.886468</td>\n      <td>2.140067</td>\n      <td>-121.49000</td>\n      <td>1.957900</td>\n      <td>2.879600</td>\n      <td>3.798800</td>\n      <td>73.00800</td>\n    </tr>\n    <tr>\n      <th>linear_acceleration_Z</th>\n      <td>487680.0</td>\n      <td>-9.364886</td>\n      <td>2.845341</td>\n      <td>-75.38600</td>\n      <td>-10.193000</td>\n      <td>-9.365300</td>\n      <td>-8.522700</td>\n      <td>65.83900</td>\n    </tr>\n    <tr>\n      <th>group_id</th>\n      <td>487680.0</td>\n      <td>37.601312</td>\n      <td>20.980011</td>\n      <td>0.00000</td>\n      <td>19.000000</td>\n      <td>39.000000</td>\n      <td>55.000000</td>\n      <td>72.00000</td>\n    </tr>\n  </tbody>\n</table>\n</div>"
      ],
      "text/plain": [
       "                          count     ...             max\nseries_id              487680.0     ...      3809.00000\nmeasurement_number     487680.0     ...       127.00000\norientation_X          487680.0     ...         0.98910\norientation_Y          487680.0     ...         0.98898\norientation_Z          487680.0     ...         0.15571\norientation_W          487680.0     ...         0.15477\nangular_velocity_X     487680.0     ...         2.28220\nangular_velocity_Y     487680.0     ...         1.07910\nangular_velocity_Z     487680.0     ...         1.38730\nlinear_acceleration_X  487680.0     ...        36.79700\nlinear_acceleration_Y  487680.0     ...        73.00800\nlinear_acceleration_Z  487680.0     ...        65.83900\ngroup_id               487680.0     ...        72.00000\n\n[13 rows x 8 columns]"
      ]
     },
     "metadata": {},
     "output_type": "execute_result"
    }
   ],
   "source": [
    "train = pd.merge(train, labels, how='inner').sort_values(['series_id', 'measurement_number'])\n",
    "print(train.shape)\n",
    "display(train.head())\n",
    "display(train.describe().T)"
   ]
  },
  {
   "cell_type": "markdown",
   "metadata": {
    "_uuid": "9c99017140c34cf046f9aa0fec70a5b869120171"
   },
   "source": [
    "### Turn data into series"
   ]
  },
  {
   "cell_type": "code",
   "execution_count": 4,
   "metadata": {
    "trusted": true,
    "_uuid": "54a2856b79ff6a24bf30d4ee6cac16ea6ebf06f8"
   },
   "outputs": [],
   "source": [
    "def series_to_supervised(data, features, window=1, dropnan=True):\n",
    "    cols, names = list(), list()\n",
    "    # Input sequence (t-n, ... t-1)\n",
    "    for i in range(window, 0, -1):\n",
    "        cols.append(data[features].shift(i))\n",
    "        names += [('%s(t-%d)' % (col, i)) for col in features]\n",
    "    # Current timestep (t=0)\n",
    "    cols.append(data)\n",
    "    names += [(col) for col in data.columns]\n",
    "    # Put it all together\n",
    "    agg = pd.concat(cols, axis=1)\n",
    "    agg.columns = names\n",
    "    return agg"
   ]
  },
  {
   "cell_type": "code",
   "execution_count": 5,
   "metadata": {
    "trusted": true,
    "_uuid": "7f1cd7149185069dadf9c3f83d69902a4b73b4b0"
   },
   "outputs": [
    {
     "data": {
      "text/html": [
       "<div>\n<style scoped>\n    .dataframe tbody tr th:only-of-type {\n        vertical-align: middle;\n    }\n\n    .dataframe tbody tr th {\n        vertical-align: top;\n    }\n\n    .dataframe thead th {\n        text-align: right;\n    }\n</style>\n<table border=\"1\" class=\"dataframe\">\n  <thead>\n    <tr style=\"text-align: right;\">\n      <th></th>\n      <th>angular_velocity_X(t-5)</th>\n      <th>angular_velocity_Y(t-5)</th>\n      <th>angular_velocity_Z(t-5)</th>\n      <th>linear_acceleration_X(t-5)</th>\n      <th>linear_acceleration_Y(t-5)</th>\n      <th>linear_acceleration_Z(t-5)</th>\n      <th>series_id(t-5)</th>\n      <th>angular_velocity_X(t-4)</th>\n      <th>angular_velocity_Y(t-4)</th>\n      <th>angular_velocity_Z(t-4)</th>\n      <th>linear_acceleration_X(t-4)</th>\n      <th>linear_acceleration_Y(t-4)</th>\n      <th>linear_acceleration_Z(t-4)</th>\n      <th>series_id(t-4)</th>\n      <th>angular_velocity_X(t-3)</th>\n      <th>angular_velocity_Y(t-3)</th>\n      <th>angular_velocity_Z(t-3)</th>\n      <th>linear_acceleration_X(t-3)</th>\n      <th>linear_acceleration_Y(t-3)</th>\n      <th>linear_acceleration_Z(t-3)</th>\n      <th>series_id(t-3)</th>\n      <th>angular_velocity_X(t-2)</th>\n      <th>angular_velocity_Y(t-2)</th>\n      <th>angular_velocity_Z(t-2)</th>\n      <th>linear_acceleration_X(t-2)</th>\n      <th>linear_acceleration_Y(t-2)</th>\n      <th>linear_acceleration_Z(t-2)</th>\n      <th>series_id(t-2)</th>\n      <th>angular_velocity_X(t-1)</th>\n      <th>angular_velocity_Y(t-1)</th>\n      <th>angular_velocity_Z(t-1)</th>\n      <th>linear_acceleration_X(t-1)</th>\n      <th>linear_acceleration_Y(t-1)</th>\n      <th>linear_acceleration_Z(t-1)</th>\n      <th>series_id(t-1)</th>\n      <th>angular_velocity_X</th>\n      <th>angular_velocity_Y</th>\n      <th>angular_velocity_Z</th>\n      <th>linear_acceleration_X</th>\n      <th>linear_acceleration_Y</th>\n      <th>linear_acceleration_Z</th>\n      <th>series_id</th>\n      <th>surface</th>\n    </tr>\n  </thead>\n  <tbody>\n    <tr>\n      <th>5</th>\n      <td>0.107650</td>\n      <td>0.017561</td>\n      <td>0.000767</td>\n      <td>-0.74857</td>\n      <td>2.1030</td>\n      <td>-9.7532</td>\n      <td>0.0</td>\n      <td>0.067851</td>\n      <td>0.029939</td>\n      <td>0.003385</td>\n      <td>0.33995</td>\n      <td>1.50640</td>\n      <td>-9.4128</td>\n      <td>0.0</td>\n      <td>0.007275</td>\n      <td>0.028934</td>\n      <td>-0.005978</td>\n      <td>-0.26429</td>\n      <td>1.59220</td>\n      <td>-8.7267</td>\n      <td>0.0</td>\n      <td>-0.013053</td>\n      <td>0.019448</td>\n      <td>-0.008974</td>\n      <td>0.42684</td>\n      <td>1.099300</td>\n      <td>-10.0960</td>\n      <td>0.0</td>\n      <td>0.005135</td>\n      <td>0.007652</td>\n      <td>0.005245</td>\n      <td>-0.50969</td>\n      <td>1.468900</td>\n      <td>-10.4410</td>\n      <td>0.0</td>\n      <td>0.059664</td>\n      <td>0.013043</td>\n      <td>-0.013231</td>\n      <td>-0.44745</td>\n      <td>0.992810</td>\n      <td>-10.4020</td>\n      <td>0</td>\n      <td>fine_concrete</td>\n    </tr>\n    <tr>\n      <th>6</th>\n      <td>0.067851</td>\n      <td>0.029939</td>\n      <td>0.003385</td>\n      <td>0.33995</td>\n      <td>1.5064</td>\n      <td>-9.4128</td>\n      <td>0.0</td>\n      <td>0.007275</td>\n      <td>0.028934</td>\n      <td>-0.005978</td>\n      <td>-0.26429</td>\n      <td>1.59220</td>\n      <td>-8.7267</td>\n      <td>0.0</td>\n      <td>-0.013053</td>\n      <td>0.019448</td>\n      <td>-0.008974</td>\n      <td>0.42684</td>\n      <td>1.09930</td>\n      <td>-10.0960</td>\n      <td>0.0</td>\n      <td>0.005135</td>\n      <td>0.007652</td>\n      <td>0.005245</td>\n      <td>-0.50969</td>\n      <td>1.468900</td>\n      <td>-10.4410</td>\n      <td>0.0</td>\n      <td>0.059664</td>\n      <td>0.013043</td>\n      <td>-0.013231</td>\n      <td>-0.44745</td>\n      <td>0.992810</td>\n      <td>-10.4020</td>\n      <td>0.0</td>\n      <td>0.082140</td>\n      <td>0.044356</td>\n      <td>-0.002696</td>\n      <td>-0.14163</td>\n      <td>0.734970</td>\n      <td>-9.4296</td>\n      <td>0</td>\n      <td>fine_concrete</td>\n    </tr>\n    <tr>\n      <th>7</th>\n      <td>0.007275</td>\n      <td>0.028934</td>\n      <td>-0.005978</td>\n      <td>-0.26429</td>\n      <td>1.5922</td>\n      <td>-8.7267</td>\n      <td>0.0</td>\n      <td>-0.013053</td>\n      <td>0.019448</td>\n      <td>-0.008974</td>\n      <td>0.42684</td>\n      <td>1.09930</td>\n      <td>-10.0960</td>\n      <td>0.0</td>\n      <td>0.005135</td>\n      <td>0.007652</td>\n      <td>0.005245</td>\n      <td>-0.50969</td>\n      <td>1.46890</td>\n      <td>-10.4410</td>\n      <td>0.0</td>\n      <td>0.059664</td>\n      <td>0.013043</td>\n      <td>-0.013231</td>\n      <td>-0.44745</td>\n      <td>0.992810</td>\n      <td>-10.4020</td>\n      <td>0.0</td>\n      <td>0.082140</td>\n      <td>0.044356</td>\n      <td>-0.002696</td>\n      <td>-0.14163</td>\n      <td>0.734970</td>\n      <td>-9.4296</td>\n      <td>0.0</td>\n      <td>0.056218</td>\n      <td>0.038162</td>\n      <td>-0.022931</td>\n      <td>-0.12160</td>\n      <td>0.075417</td>\n      <td>-8.6088</td>\n      <td>0</td>\n      <td>fine_concrete</td>\n    </tr>\n    <tr>\n      <th>8</th>\n      <td>-0.013053</td>\n      <td>0.019448</td>\n      <td>-0.008974</td>\n      <td>0.42684</td>\n      <td>1.0993</td>\n      <td>-10.0960</td>\n      <td>0.0</td>\n      <td>0.005135</td>\n      <td>0.007652</td>\n      <td>0.005245</td>\n      <td>-0.50969</td>\n      <td>1.46890</td>\n      <td>-10.4410</td>\n      <td>0.0</td>\n      <td>0.059664</td>\n      <td>0.013043</td>\n      <td>-0.013231</td>\n      <td>-0.44745</td>\n      <td>0.99281</td>\n      <td>-10.4020</td>\n      <td>0.0</td>\n      <td>0.082140</td>\n      <td>0.044356</td>\n      <td>-0.002696</td>\n      <td>-0.14163</td>\n      <td>0.734970</td>\n      <td>-9.4296</td>\n      <td>0.0</td>\n      <td>0.056218</td>\n      <td>0.038162</td>\n      <td>-0.022931</td>\n      <td>-0.12160</td>\n      <td>0.075417</td>\n      <td>-8.6088</td>\n      <td>0.0</td>\n      <td>-0.012846</td>\n      <td>0.039004</td>\n      <td>-0.007831</td>\n      <td>1.60000</td>\n      <td>0.816110</td>\n      <td>-7.6426</td>\n      <td>0</td>\n      <td>fine_concrete</td>\n    </tr>\n    <tr>\n      <th>9</th>\n      <td>0.005135</td>\n      <td>0.007652</td>\n      <td>0.005245</td>\n      <td>-0.50969</td>\n      <td>1.4689</td>\n      <td>-10.4410</td>\n      <td>0.0</td>\n      <td>0.059664</td>\n      <td>0.013043</td>\n      <td>-0.013231</td>\n      <td>-0.44745</td>\n      <td>0.99281</td>\n      <td>-10.4020</td>\n      <td>0.0</td>\n      <td>0.082140</td>\n      <td>0.044356</td>\n      <td>-0.002696</td>\n      <td>-0.14163</td>\n      <td>0.73497</td>\n      <td>-9.4296</td>\n      <td>0.0</td>\n      <td>0.056218</td>\n      <td>0.038162</td>\n      <td>-0.022931</td>\n      <td>-0.12160</td>\n      <td>0.075417</td>\n      <td>-8.6088</td>\n      <td>0.0</td>\n      <td>-0.012846</td>\n      <td>0.039004</td>\n      <td>-0.007831</td>\n      <td>1.60000</td>\n      <td>0.816110</td>\n      <td>-7.6426</td>\n      <td>0.0</td>\n      <td>-0.090082</td>\n      <td>0.027299</td>\n      <td>-0.009970</td>\n      <td>0.47496</td>\n      <td>0.909600</td>\n      <td>-8.8120</td>\n      <td>0</td>\n      <td>fine_concrete</td>\n    </tr>\n  </tbody>\n</table>\n</div>"
      ],
      "text/plain": [
       "   angular_velocity_X(t-5)      ...              surface\n5                 0.107650      ...        fine_concrete\n6                 0.067851      ...        fine_concrete\n7                 0.007275      ...        fine_concrete\n8                -0.013053      ...        fine_concrete\n9                 0.005135      ...        fine_concrete\n\n[5 rows x 43 columns]"
      ]
     },
     "metadata": {},
     "output_type": "execute_result"
    },
    {
     "data": {
      "text/html": [
       "<div>\n<style scoped>\n    .dataframe tbody tr th:only-of-type {\n        vertical-align: middle;\n    }\n\n    .dataframe tbody tr th {\n        vertical-align: top;\n    }\n\n    .dataframe thead th {\n        text-align: right;\n    }\n</style>\n<table border=\"1\" class=\"dataframe\">\n  <thead>\n    <tr style=\"text-align: right;\">\n      <th></th>\n      <th>angular_velocity_X(t-5)</th>\n      <th>angular_velocity_Y(t-5)</th>\n      <th>angular_velocity_Z(t-5)</th>\n      <th>linear_acceleration_X(t-5)</th>\n      <th>linear_acceleration_Y(t-5)</th>\n      <th>linear_acceleration_Z(t-5)</th>\n      <th>series_id(t-5)</th>\n      <th>angular_velocity_X(t-4)</th>\n      <th>angular_velocity_Y(t-4)</th>\n      <th>angular_velocity_Z(t-4)</th>\n      <th>linear_acceleration_X(t-4)</th>\n      <th>linear_acceleration_Y(t-4)</th>\n      <th>linear_acceleration_Z(t-4)</th>\n      <th>series_id(t-4)</th>\n      <th>angular_velocity_X(t-3)</th>\n      <th>angular_velocity_Y(t-3)</th>\n      <th>angular_velocity_Z(t-3)</th>\n      <th>linear_acceleration_X(t-3)</th>\n      <th>linear_acceleration_Y(t-3)</th>\n      <th>linear_acceleration_Z(t-3)</th>\n      <th>series_id(t-3)</th>\n      <th>angular_velocity_X(t-2)</th>\n      <th>angular_velocity_Y(t-2)</th>\n      <th>angular_velocity_Z(t-2)</th>\n      <th>linear_acceleration_X(t-2)</th>\n      <th>linear_acceleration_Y(t-2)</th>\n      <th>linear_acceleration_Z(t-2)</th>\n      <th>series_id(t-2)</th>\n      <th>angular_velocity_X(t-1)</th>\n      <th>angular_velocity_Y(t-1)</th>\n      <th>angular_velocity_Z(t-1)</th>\n      <th>linear_acceleration_X(t-1)</th>\n      <th>linear_acceleration_Y(t-1)</th>\n      <th>linear_acceleration_Z(t-1)</th>\n      <th>series_id(t-1)</th>\n      <th>angular_velocity_X</th>\n      <th>angular_velocity_Y</th>\n      <th>angular_velocity_Z</th>\n      <th>linear_acceleration_X</th>\n      <th>linear_acceleration_Y</th>\n      <th>linear_acceleration_Z</th>\n      <th>series_id</th>\n    </tr>\n  </thead>\n  <tbody>\n    <tr>\n      <th>0</th>\n      <td>-0.006524</td>\n      <td>-0.001071</td>\n      <td>-0.027390</td>\n      <td>0.10043</td>\n      <td>4.2061</td>\n      <td>-5.5439</td>\n      <td>1907.480474</td>\n      <td>-0.006524</td>\n      <td>-0.001071</td>\n      <td>-0.027390</td>\n      <td>0.10043</td>\n      <td>4.2061</td>\n      <td>-5.5439</td>\n      <td>1907.484379</td>\n      <td>-0.006524</td>\n      <td>-0.001071</td>\n      <td>-0.027390</td>\n      <td>0.10043</td>\n      <td>4.2061</td>\n      <td>-5.5439</td>\n      <td>1907.488284</td>\n      <td>-0.006524</td>\n      <td>-0.001071</td>\n      <td>-0.027390</td>\n      <td>0.10043</td>\n      <td>4.2061</td>\n      <td>-5.5439</td>\n      <td>1907.49219</td>\n      <td>-0.006524</td>\n      <td>-0.001071</td>\n      <td>-0.027390</td>\n      <td>0.10043</td>\n      <td>4.2061</td>\n      <td>-5.5439</td>\n      <td>1907.496095</td>\n      <td>-0.006524</td>\n      <td>-0.001071</td>\n      <td>-0.027390</td>\n      <td>0.10043</td>\n      <td>4.2061</td>\n      <td>-5.5439</td>\n      <td>0</td>\n    </tr>\n    <tr>\n      <th>1</th>\n      <td>-0.113960</td>\n      <td>0.083987</td>\n      <td>-0.060590</td>\n      <td>-0.70889</td>\n      <td>3.9905</td>\n      <td>-8.0273</td>\n      <td>1907.480474</td>\n      <td>-0.113960</td>\n      <td>0.083987</td>\n      <td>-0.060590</td>\n      <td>-0.70889</td>\n      <td>3.9905</td>\n      <td>-8.0273</td>\n      <td>1907.484379</td>\n      <td>-0.113960</td>\n      <td>0.083987</td>\n      <td>-0.060590</td>\n      <td>-0.70889</td>\n      <td>3.9905</td>\n      <td>-8.0273</td>\n      <td>1907.488284</td>\n      <td>-0.113960</td>\n      <td>0.083987</td>\n      <td>-0.060590</td>\n      <td>-0.70889</td>\n      <td>3.9905</td>\n      <td>-8.0273</td>\n      <td>1907.49219</td>\n      <td>-0.006524</td>\n      <td>-0.001071</td>\n      <td>-0.027390</td>\n      <td>0.10043</td>\n      <td>4.2061</td>\n      <td>-5.5439</td>\n      <td>0.000000</td>\n      <td>-0.113960</td>\n      <td>0.083987</td>\n      <td>-0.060590</td>\n      <td>-0.70889</td>\n      <td>3.9905</td>\n      <td>-8.0273</td>\n      <td>0</td>\n    </tr>\n    <tr>\n      <th>2</th>\n      <td>-0.080518</td>\n      <td>0.114860</td>\n      <td>-0.037177</td>\n      <td>1.45710</td>\n      <td>2.2828</td>\n      <td>-11.2990</td>\n      <td>1907.480474</td>\n      <td>-0.080518</td>\n      <td>0.114860</td>\n      <td>-0.037177</td>\n      <td>1.45710</td>\n      <td>2.2828</td>\n      <td>-11.2990</td>\n      <td>1907.484379</td>\n      <td>-0.080518</td>\n      <td>0.114860</td>\n      <td>-0.037177</td>\n      <td>1.45710</td>\n      <td>2.2828</td>\n      <td>-11.2990</td>\n      <td>1907.488284</td>\n      <td>-0.006524</td>\n      <td>-0.001071</td>\n      <td>-0.027390</td>\n      <td>0.10043</td>\n      <td>4.2061</td>\n      <td>-5.5439</td>\n      <td>0.00000</td>\n      <td>-0.113960</td>\n      <td>0.083987</td>\n      <td>-0.060590</td>\n      <td>-0.70889</td>\n      <td>3.9905</td>\n      <td>-8.0273</td>\n      <td>0.000000</td>\n      <td>-0.080518</td>\n      <td>0.114860</td>\n      <td>-0.037177</td>\n      <td>1.45710</td>\n      <td>2.2828</td>\n      <td>-11.2990</td>\n      <td>0</td>\n    </tr>\n    <tr>\n      <th>3</th>\n      <td>0.070067</td>\n      <td>0.033820</td>\n      <td>-0.035904</td>\n      <td>0.71096</td>\n      <td>1.8582</td>\n      <td>-12.2270</td>\n      <td>1907.480474</td>\n      <td>0.070067</td>\n      <td>0.033820</td>\n      <td>-0.035904</td>\n      <td>0.71096</td>\n      <td>1.8582</td>\n      <td>-12.2270</td>\n      <td>1907.484379</td>\n      <td>-0.006524</td>\n      <td>-0.001071</td>\n      <td>-0.027390</td>\n      <td>0.10043</td>\n      <td>4.2061</td>\n      <td>-5.5439</td>\n      <td>0.000000</td>\n      <td>-0.113960</td>\n      <td>0.083987</td>\n      <td>-0.060590</td>\n      <td>-0.70889</td>\n      <td>3.9905</td>\n      <td>-8.0273</td>\n      <td>0.00000</td>\n      <td>-0.080518</td>\n      <td>0.114860</td>\n      <td>-0.037177</td>\n      <td>1.45710</td>\n      <td>2.2828</td>\n      <td>-11.2990</td>\n      <td>0.000000</td>\n      <td>0.070067</td>\n      <td>0.033820</td>\n      <td>-0.035904</td>\n      <td>0.71096</td>\n      <td>1.8582</td>\n      <td>-12.2270</td>\n      <td>0</td>\n    </tr>\n    <tr>\n      <th>4</th>\n      <td>0.152050</td>\n      <td>-0.029016</td>\n      <td>-0.015314</td>\n      <td>3.39960</td>\n      <td>2.7881</td>\n      <td>-10.4100</td>\n      <td>1907.480474</td>\n      <td>-0.006524</td>\n      <td>-0.001071</td>\n      <td>-0.027390</td>\n      <td>0.10043</td>\n      <td>4.2061</td>\n      <td>-5.5439</td>\n      <td>0.000000</td>\n      <td>-0.113960</td>\n      <td>0.083987</td>\n      <td>-0.060590</td>\n      <td>-0.70889</td>\n      <td>3.9905</td>\n      <td>-8.0273</td>\n      <td>0.000000</td>\n      <td>-0.080518</td>\n      <td>0.114860</td>\n      <td>-0.037177</td>\n      <td>1.45710</td>\n      <td>2.2828</td>\n      <td>-11.2990</td>\n      <td>0.00000</td>\n      <td>0.070067</td>\n      <td>0.033820</td>\n      <td>-0.035904</td>\n      <td>0.71096</td>\n      <td>1.8582</td>\n      <td>-12.2270</td>\n      <td>0.000000</td>\n      <td>0.152050</td>\n      <td>-0.029016</td>\n      <td>-0.015314</td>\n      <td>3.39960</td>\n      <td>2.7881</td>\n      <td>-10.4100</td>\n      <td>0</td>\n    </tr>\n  </tbody>\n</table>\n</div>"
      ],
      "text/plain": [
       "   angular_velocity_X(t-5)    ...      series_id\n0                -0.006524    ...              0\n1                -0.113960    ...              0\n2                -0.080518    ...              0\n3                 0.070067    ...              0\n4                 0.152050    ...              0\n\n[5 rows x 42 columns]"
      ]
     },
     "metadata": {},
     "output_type": "execute_result"
    }
   ],
   "source": [
    "window = 5\n",
    "features = ['angular_velocity_X', 'angular_velocity_Y', 'angular_velocity_Z', \n",
    "            'linear_acceleration_X', 'linear_acceleration_Y', 'linear_acceleration_Z', \n",
    "            'series_id']\n",
    "use_cols = features + ['surface']\n",
    "# Train\n",
    "train_series = series_to_supervised(train[use_cols], features, window=window)\n",
    "train_series.dropna(inplace=True)        \n",
    "train_series = train_series[(train_series['series_id'] == train_series['series_id(t-%s)' % window])]\n",
    "display(train_series.head())\n",
    "\n",
    "# Test\n",
    "test_series = series_to_supervised(test[features], features, window=window)\n",
    "test_series.fillna(test_series.mean(), inplace=True)\n",
    "# Backwards inputation\n",
    "for index, row in test_series.iterrows():\n",
    "    for i in range(1, window+1):\n",
    "        if row['series_id'] != row['series_id(t-%s)' % i]:\n",
    "            for feature in features:\n",
    "                if feature != 'series_id':\n",
    "                    test_series.at[index, '%s(t-%s)' % (feature, i)] = row[feature]\n",
    "display(test_series.head())"
   ]
  },
  {
   "cell_type": "markdown",
   "metadata": {
    "_uuid": "3c1dc87be92191226e643ad4ae4cb8aaa6294e0d"
   },
   "source": [
    "### Pre process the labels"
   ]
  },
  {
   "cell_type": "code",
   "execution_count": 6,
   "metadata": {
    "trusted": true,
    "_uuid": "aa623a1887ff5315c2af5ddbd6e3fd4bb918e9f4"
   },
   "outputs": [],
   "source": [
    "n_labels =  train_series['surface'].nunique()\n",
    "labels_names = train_series['surface'].unique()\n",
    "le = LabelEncoder()\n",
    "train_series['surface'] = le.fit_transform(train_series['surface'].values)"
   ]
  },
  {
   "cell_type": "markdown",
   "metadata": {
    "_uuid": "fbe8a1d661556eea446e5156cf9155a961f7d85e"
   },
   "source": [
    "### Train/validation split"
   ]
  },
  {
   "cell_type": "code",
   "execution_count": 7,
   "metadata": {
    "trusted": true,
    "_uuid": "ab8b8b27654242e0411156969a2cc34695486372"
   },
   "outputs": [],
   "source": [
    "train_splited = []\n",
    "val_splited = []\n",
    "gp_surface = train.groupby(['surface', 'series_id'], as_index=False).count()[['surface', 'series_id']]\n",
    "for surface in gp_surface['surface'].unique():\n",
    "    df = gp_surface[gp_surface['surface'] == surface]\n",
    "    tra, val = train_test_split(df, test_size=0.2, random_state=0)\n",
    "    train_splited += list(tra['series_id'].values)\n",
    "    val_splited += list(val['series_id'].values)\n",
    "    \n",
    "train_splited = pd.DataFrame(train_splited, columns=['series_id'])\n",
    "val_splited = pd.DataFrame(val_splited, columns=['series_id'])"
   ]
  },
  {
   "cell_type": "code",
   "execution_count": 8,
   "metadata": {
    "trusted": true,
    "_uuid": "6980633f0c1181f7506b93233d9d9ae5b3b03c62"
   },
   "outputs": [
    {
     "name": "stdout",
     "output_type": "stream",
     "text": [
      "Train shape (374412, 36)\nValidation shape (94218, 36)\n"
     ]
    },
    {
     "data": {
      "text/html": [
       "<div>\n<style scoped>\n    .dataframe tbody tr th:only-of-type {\n        vertical-align: middle;\n    }\n\n    .dataframe tbody tr th {\n        vertical-align: top;\n    }\n\n    .dataframe thead th {\n        text-align: right;\n    }\n</style>\n<table border=\"1\" class=\"dataframe\">\n  <thead>\n    <tr style=\"text-align: right;\">\n      <th></th>\n      <th>angular_velocity_X(t-5)</th>\n      <th>angular_velocity_Y(t-5)</th>\n      <th>angular_velocity_Z(t-5)</th>\n      <th>linear_acceleration_X(t-5)</th>\n      <th>linear_acceleration_Y(t-5)</th>\n      <th>linear_acceleration_Z(t-5)</th>\n      <th>angular_velocity_X(t-4)</th>\n      <th>angular_velocity_Y(t-4)</th>\n      <th>angular_velocity_Z(t-4)</th>\n      <th>linear_acceleration_X(t-4)</th>\n      <th>linear_acceleration_Y(t-4)</th>\n      <th>linear_acceleration_Z(t-4)</th>\n      <th>angular_velocity_X(t-3)</th>\n      <th>angular_velocity_Y(t-3)</th>\n      <th>angular_velocity_Z(t-3)</th>\n      <th>linear_acceleration_X(t-3)</th>\n      <th>linear_acceleration_Y(t-3)</th>\n      <th>linear_acceleration_Z(t-3)</th>\n      <th>angular_velocity_X(t-2)</th>\n      <th>angular_velocity_Y(t-2)</th>\n      <th>angular_velocity_Z(t-2)</th>\n      <th>linear_acceleration_X(t-2)</th>\n      <th>linear_acceleration_Y(t-2)</th>\n      <th>linear_acceleration_Z(t-2)</th>\n      <th>angular_velocity_X(t-1)</th>\n      <th>angular_velocity_Y(t-1)</th>\n      <th>angular_velocity_Z(t-1)</th>\n      <th>linear_acceleration_X(t-1)</th>\n      <th>linear_acceleration_Y(t-1)</th>\n      <th>linear_acceleration_Z(t-1)</th>\n      <th>angular_velocity_X</th>\n      <th>angular_velocity_Y</th>\n      <th>angular_velocity_Z</th>\n      <th>linear_acceleration_X</th>\n      <th>linear_acceleration_Y</th>\n      <th>linear_acceleration_Z</th>\n    </tr>\n  </thead>\n  <tbody>\n    <tr>\n      <th>0</th>\n      <td>0.028959</td>\n      <td>-0.011703</td>\n      <td>0.026238</td>\n      <td>0.032400</td>\n      <td>4.1378</td>\n      <td>-8.8985</td>\n      <td>0.014238</td>\n      <td>-0.015342</td>\n      <td>0.030203</td>\n      <td>0.422020</td>\n      <td>3.7190</td>\n      <td>-9.1178</td>\n      <td>0.017162</td>\n      <td>-0.026594</td>\n      <td>0.038941</td>\n      <td>0.074069</td>\n      <td>3.3176</td>\n      <td>-9.4564</td>\n      <td>0.035360</td>\n      <td>-0.032865</td>\n      <td>0.037684</td>\n      <td>0.16020</td>\n      <td>3.9802</td>\n      <td>-9.1033</td>\n      <td>0.028209</td>\n      <td>-0.006577</td>\n      <td>0.039904</td>\n      <td>0.09113</td>\n      <td>3.9570</td>\n      <td>-9.1022</td>\n      <td>0.023578</td>\n      <td>-0.013967</td>\n      <td>0.033559</td>\n      <td>-0.42657</td>\n      <td>4.0422</td>\n      <td>-9.0786</td>\n    </tr>\n    <tr>\n      <th>1</th>\n      <td>0.014238</td>\n      <td>-0.015342</td>\n      <td>0.030203</td>\n      <td>0.422020</td>\n      <td>3.7190</td>\n      <td>-9.1178</td>\n      <td>0.017162</td>\n      <td>-0.026594</td>\n      <td>0.038941</td>\n      <td>0.074069</td>\n      <td>3.3176</td>\n      <td>-9.4564</td>\n      <td>0.035360</td>\n      <td>-0.032865</td>\n      <td>0.037684</td>\n      <td>0.160200</td>\n      <td>3.9802</td>\n      <td>-9.1033</td>\n      <td>0.028209</td>\n      <td>-0.006577</td>\n      <td>0.039904</td>\n      <td>0.09113</td>\n      <td>3.9570</td>\n      <td>-9.1022</td>\n      <td>0.023578</td>\n      <td>-0.013967</td>\n      <td>0.033559</td>\n      <td>-0.42657</td>\n      <td>4.0422</td>\n      <td>-9.0786</td>\n      <td>0.034825</td>\n      <td>-0.020897</td>\n      <td>0.042671</td>\n      <td>0.13972</td>\n      <td>3.6555</td>\n      <td>-9.5355</td>\n    </tr>\n    <tr>\n      <th>2</th>\n      <td>0.017162</td>\n      <td>-0.026594</td>\n      <td>0.038941</td>\n      <td>0.074069</td>\n      <td>3.3176</td>\n      <td>-9.4564</td>\n      <td>0.035360</td>\n      <td>-0.032865</td>\n      <td>0.037684</td>\n      <td>0.160200</td>\n      <td>3.9802</td>\n      <td>-9.1033</td>\n      <td>0.028209</td>\n      <td>-0.006577</td>\n      <td>0.039904</td>\n      <td>0.091130</td>\n      <td>3.9570</td>\n      <td>-9.1022</td>\n      <td>0.023578</td>\n      <td>-0.013967</td>\n      <td>0.033559</td>\n      <td>-0.42657</td>\n      <td>4.0422</td>\n      <td>-9.0786</td>\n      <td>0.034825</td>\n      <td>-0.020897</td>\n      <td>0.042671</td>\n      <td>0.13972</td>\n      <td>3.6555</td>\n      <td>-9.5355</td>\n      <td>0.060540</td>\n      <td>-0.014815</td>\n      <td>0.045493</td>\n      <td>-0.53125</td>\n      <td>3.1171</td>\n      <td>-9.6271</td>\n    </tr>\n    <tr>\n      <th>3</th>\n      <td>0.035360</td>\n      <td>-0.032865</td>\n      <td>0.037684</td>\n      <td>0.160200</td>\n      <td>3.9802</td>\n      <td>-9.1033</td>\n      <td>0.028209</td>\n      <td>-0.006577</td>\n      <td>0.039904</td>\n      <td>0.091130</td>\n      <td>3.9570</td>\n      <td>-9.1022</td>\n      <td>0.023578</td>\n      <td>-0.013967</td>\n      <td>0.033559</td>\n      <td>-0.426570</td>\n      <td>4.0422</td>\n      <td>-9.0786</td>\n      <td>0.034825</td>\n      <td>-0.020897</td>\n      <td>0.042671</td>\n      <td>0.13972</td>\n      <td>3.6555</td>\n      <td>-9.5355</td>\n      <td>0.060540</td>\n      <td>-0.014815</td>\n      <td>0.045493</td>\n      <td>-0.53125</td>\n      <td>3.1171</td>\n      <td>-9.6271</td>\n      <td>0.065362</td>\n      <td>-0.005506</td>\n      <td>0.040376</td>\n      <td>0.14338</td>\n      <td>3.3331</td>\n      <td>-9.2001</td>\n    </tr>\n    <tr>\n      <th>4</th>\n      <td>0.028209</td>\n      <td>-0.006577</td>\n      <td>0.039904</td>\n      <td>0.091130</td>\n      <td>3.9570</td>\n      <td>-9.1022</td>\n      <td>0.023578</td>\n      <td>-0.013967</td>\n      <td>0.033559</td>\n      <td>-0.426570</td>\n      <td>4.0422</td>\n      <td>-9.0786</td>\n      <td>0.034825</td>\n      <td>-0.020897</td>\n      <td>0.042671</td>\n      <td>0.139720</td>\n      <td>3.6555</td>\n      <td>-9.5355</td>\n      <td>0.060540</td>\n      <td>-0.014815</td>\n      <td>0.045493</td>\n      <td>-0.53125</td>\n      <td>3.1171</td>\n      <td>-9.6271</td>\n      <td>0.065362</td>\n      <td>-0.005506</td>\n      <td>0.040376</td>\n      <td>0.14338</td>\n      <td>3.3331</td>\n      <td>-9.2001</td>\n      <td>0.050770</td>\n      <td>-0.008735</td>\n      <td>0.042182</td>\n      <td>-0.25085</td>\n      <td>3.4112</td>\n      <td>-8.6230</td>\n    </tr>\n  </tbody>\n</table>\n</div>"
      ],
      "text/plain": [
       "   angular_velocity_X(t-5)          ...            linear_acceleration_Z\n0                 0.028959          ...                          -9.0786\n1                 0.014238          ...                          -9.5355\n2                 0.017162          ...                          -9.6271\n3                 0.035360          ...                          -9.2001\n4                 0.028209          ...                          -8.6230\n\n[5 rows x 36 columns]"
      ]
     },
     "metadata": {},
     "output_type": "execute_result"
    }
   ],
   "source": [
    "X_train = train_splited.merge(train_series)\n",
    "X_val = val_splited.merge(train_series)\n",
    "\n",
    "Y_train = X_train['surface']\n",
    "Y_train = to_categorical(Y_train)\n",
    "X_train.drop('surface', axis=1, inplace=True)\n",
    "X_train = X_train\n",
    "\n",
    "Y_val = X_val['surface']\n",
    "Y_val = to_categorical(Y_val)\n",
    "X_val.drop('surface', axis=1, inplace=True)\n",
    "X_val = X_val\n",
    "\n",
    "series_cols = list(X_train.filter(regex='series_id'))\n",
    "X_train.drop(series_cols, axis=1, inplace=True)\n",
    "X_val.drop(series_cols, axis=1, inplace=True)\n",
    "test_series.drop(series_cols, axis=1, inplace=True)\n",
    "\n",
    "print('Train shape', X_train.shape)\n",
    "print('Validation shape', X_val.shape)\n",
    "display(X_train.head())"
   ]
  },
  {
   "cell_type": "markdown",
   "metadata": {
    "_uuid": "d805d09ba97701817bbceb23833d2f3c6d6cca52"
   },
   "source": [
    "### Feature engineering"
   ]
  },
  {
   "cell_type": "code",
   "execution_count": 9,
   "metadata": {
    "trusted": true,
    "_uuid": "11b64bca1cec4958ae37839f8fea933baebb83ad"
   },
   "outputs": [
    {
     "name": "stdout",
     "output_type": "stream",
     "text": [
      "Train shape (374412, 36)\nValidation shape (94218, 36)\n"
     ]
    },
    {
     "data": {
      "text/html": [
       "<div>\n<style scoped>\n    .dataframe tbody tr th:only-of-type {\n        vertical-align: middle;\n    }\n\n    .dataframe tbody tr th {\n        vertical-align: top;\n    }\n\n    .dataframe thead th {\n        text-align: right;\n    }\n</style>\n<table border=\"1\" class=\"dataframe\">\n  <thead>\n    <tr style=\"text-align: right;\">\n      <th></th>\n      <th>count</th>\n      <th>mean</th>\n      <th>std</th>\n      <th>min</th>\n      <th>25%</th>\n      <th>50%</th>\n      <th>75%</th>\n      <th>max</th>\n    </tr>\n  </thead>\n  <tbody>\n    <tr>\n      <th>angular_velocity_X(t-5)</th>\n      <td>374412.0</td>\n      <td>0.000262</td>\n      <td>0.116795</td>\n      <td>-2.37100</td>\n      <td>-0.040808</td>\n      <td>0.000086</td>\n      <td>0.040638</td>\n      <td>2.2822</td>\n    </tr>\n    <tr>\n      <th>angular_velocity_Y(t-5)</th>\n      <td>374412.0</td>\n      <td>0.008466</td>\n      <td>0.088008</td>\n      <td>-0.92786</td>\n      <td>-0.033414</td>\n      <td>0.005343</td>\n      <td>0.047913</td>\n      <td>1.0791</td>\n    </tr>\n    <tr>\n      <th>angular_velocity_Z(t-5)</th>\n      <td>374412.0</td>\n      <td>-0.019526</td>\n      <td>0.226591</td>\n      <td>-1.26880</td>\n      <td>-0.090264</td>\n      <td>-0.005179</td>\n      <td>0.065480</td>\n      <td>1.3873</td>\n    </tr>\n    <tr>\n      <th>linear_acceleration_X(t-5)</th>\n      <td>374412.0</td>\n      <td>0.128795</td>\n      <td>1.871716</td>\n      <td>-31.14200</td>\n      <td>-0.537065</td>\n      <td>0.123860</td>\n      <td>0.795427</td>\n      <td>36.7970</td>\n    </tr>\n    <tr>\n      <th>linear_acceleration_Y(t-5)</th>\n      <td>374412.0</td>\n      <td>2.887226</td>\n      <td>2.105540</td>\n      <td>-82.75300</td>\n      <td>1.958300</td>\n      <td>2.878900</td>\n      <td>3.803000</td>\n      <td>55.9480</td>\n    </tr>\n    <tr>\n      <th>linear_acceleration_Z(t-5)</th>\n      <td>374412.0</td>\n      <td>-9.365155</td>\n      <td>2.825914</td>\n      <td>-65.49200</td>\n      <td>-10.200000</td>\n      <td>-9.365900</td>\n      <td>-8.513100</td>\n      <td>65.8390</td>\n    </tr>\n    <tr>\n      <th>angular_velocity_X(t-4)</th>\n      <td>374412.0</td>\n      <td>0.000260</td>\n      <td>0.116806</td>\n      <td>-2.37100</td>\n      <td>-0.040805</td>\n      <td>0.000076</td>\n      <td>0.040627</td>\n      <td>2.2822</td>\n    </tr>\n    <tr>\n      <th>angular_velocity_Y(t-4)</th>\n      <td>374412.0</td>\n      <td>0.008467</td>\n      <td>0.087985</td>\n      <td>-0.92786</td>\n      <td>-0.033414</td>\n      <td>0.005352</td>\n      <td>0.047893</td>\n      <td>1.0791</td>\n    </tr>\n    <tr>\n      <th>angular_velocity_Z(t-4)</th>\n      <td>374412.0</td>\n      <td>-0.019530</td>\n      <td>0.226580</td>\n      <td>-1.26880</td>\n      <td>-0.090284</td>\n      <td>-0.005193</td>\n      <td>0.065504</td>\n      <td>1.3873</td>\n    </tr>\n    <tr>\n      <th>linear_acceleration_X(t-4)</th>\n      <td>374412.0</td>\n      <td>0.128691</td>\n      <td>1.871152</td>\n      <td>-31.14200</td>\n      <td>-0.536843</td>\n      <td>0.123710</td>\n      <td>0.795592</td>\n      <td>36.7970</td>\n    </tr>\n    <tr>\n      <th>linear_acceleration_Y(t-4)</th>\n      <td>374412.0</td>\n      <td>2.887178</td>\n      <td>2.105259</td>\n      <td>-82.75300</td>\n      <td>1.957800</td>\n      <td>2.878700</td>\n      <td>3.802600</td>\n      <td>55.9480</td>\n    </tr>\n    <tr>\n      <th>linear_acceleration_Z(t-4)</th>\n      <td>374412.0</td>\n      <td>-9.364864</td>\n      <td>2.825267</td>\n      <td>-65.49200</td>\n      <td>-10.200000</td>\n      <td>-9.365700</td>\n      <td>-8.512900</td>\n      <td>65.8390</td>\n    </tr>\n    <tr>\n      <th>angular_velocity_X(t-3)</th>\n      <td>374412.0</td>\n      <td>0.000238</td>\n      <td>0.116879</td>\n      <td>-2.37100</td>\n      <td>-0.040821</td>\n      <td>0.000060</td>\n      <td>0.040590</td>\n      <td>2.2822</td>\n    </tr>\n    <tr>\n      <th>angular_velocity_Y(t-3)</th>\n      <td>374412.0</td>\n      <td>0.008486</td>\n      <td>0.087994</td>\n      <td>-0.92786</td>\n      <td>-0.033373</td>\n      <td>0.005372</td>\n      <td>0.047891</td>\n      <td>1.0791</td>\n    </tr>\n    <tr>\n      <th>angular_velocity_Z(t-3)</th>\n      <td>374412.0</td>\n      <td>-0.019539</td>\n      <td>0.226573</td>\n      <td>-1.26880</td>\n      <td>-0.090292</td>\n      <td>-0.005213</td>\n      <td>0.065514</td>\n      <td>1.3873</td>\n    </tr>\n    <tr>\n      <th>linear_acceleration_X(t-3)</th>\n      <td>374412.0</td>\n      <td>0.129055</td>\n      <td>1.871693</td>\n      <td>-31.14200</td>\n      <td>-0.536730</td>\n      <td>0.123670</td>\n      <td>0.795390</td>\n      <td>36.7970</td>\n    </tr>\n    <tr>\n      <th>linear_acceleration_Y(t-3)</th>\n      <td>374412.0</td>\n      <td>2.887082</td>\n      <td>2.104531</td>\n      <td>-82.75300</td>\n      <td>1.958100</td>\n      <td>2.878700</td>\n      <td>3.802000</td>\n      <td>55.9480</td>\n    </tr>\n    <tr>\n      <th>linear_acceleration_Z(t-3)</th>\n      <td>374412.0</td>\n      <td>-9.364819</td>\n      <td>2.825270</td>\n      <td>-65.49200</td>\n      <td>-10.199000</td>\n      <td>-9.365600</td>\n      <td>-8.512900</td>\n      <td>65.8390</td>\n    </tr>\n    <tr>\n      <th>angular_velocity_X(t-2)</th>\n      <td>374412.0</td>\n      <td>0.000224</td>\n      <td>0.116889</td>\n      <td>-2.37100</td>\n      <td>-0.040854</td>\n      <td>0.000054</td>\n      <td>0.040588</td>\n      <td>2.2822</td>\n    </tr>\n    <tr>\n      <th>angular_velocity_Y(t-2)</th>\n      <td>374412.0</td>\n      <td>0.008493</td>\n      <td>0.088009</td>\n      <td>-0.92786</td>\n      <td>-0.033344</td>\n      <td>0.005356</td>\n      <td>0.047890</td>\n      <td>1.0791</td>\n    </tr>\n    <tr>\n      <th>angular_velocity_Z(t-2)</th>\n      <td>374412.0</td>\n      <td>-0.019543</td>\n      <td>0.226562</td>\n      <td>-1.26880</td>\n      <td>-0.090319</td>\n      <td>-0.005237</td>\n      <td>0.065522</td>\n      <td>1.3873</td>\n    </tr>\n    <tr>\n      <th>linear_acceleration_X(t-2)</th>\n      <td>374412.0</td>\n      <td>0.129014</td>\n      <td>1.872024</td>\n      <td>-31.14200</td>\n      <td>-0.536650</td>\n      <td>0.123665</td>\n      <td>0.795075</td>\n      <td>36.7970</td>\n    </tr>\n    <tr>\n      <th>linear_acceleration_Y(t-2)</th>\n      <td>374412.0</td>\n      <td>2.886865</td>\n      <td>2.105339</td>\n      <td>-82.75300</td>\n      <td>1.957900</td>\n      <td>2.878750</td>\n      <td>3.802100</td>\n      <td>55.9480</td>\n    </tr>\n    <tr>\n      <th>linear_acceleration_Z(t-2)</th>\n      <td>374412.0</td>\n      <td>-9.364790</td>\n      <td>2.826612</td>\n      <td>-65.49200</td>\n      <td>-10.199000</td>\n      <td>-9.365400</td>\n      <td>-8.512800</td>\n      <td>65.8390</td>\n    </tr>\n    <tr>\n      <th>angular_velocity_X(t-1)</th>\n      <td>374412.0</td>\n      <td>0.000229</td>\n      <td>0.116883</td>\n      <td>-2.37100</td>\n      <td>-0.040860</td>\n      <td>0.000048</td>\n      <td>0.040573</td>\n      <td>2.2822</td>\n    </tr>\n    <tr>\n      <th>angular_velocity_Y(t-1)</th>\n      <td>374412.0</td>\n      <td>0.008473</td>\n      <td>0.088015</td>\n      <td>-0.92786</td>\n      <td>-0.033332</td>\n      <td>0.005356</td>\n      <td>0.047871</td>\n      <td>1.0791</td>\n    </tr>\n    <tr>\n      <th>angular_velocity_Z(t-1)</th>\n      <td>374412.0</td>\n      <td>-0.019547</td>\n      <td>0.226554</td>\n      <td>-1.26880</td>\n      <td>-0.090344</td>\n      <td>-0.005248</td>\n      <td>0.065523</td>\n      <td>1.3873</td>\n    </tr>\n    <tr>\n      <th>linear_acceleration_X(t-1)</th>\n      <td>374412.0</td>\n      <td>0.129130</td>\n      <td>1.870853</td>\n      <td>-31.14200</td>\n      <td>-0.536163</td>\n      <td>0.123860</td>\n      <td>0.795162</td>\n      <td>36.7970</td>\n    </tr>\n    <tr>\n      <th>linear_acceleration_Y(t-1)</th>\n      <td>374412.0</td>\n      <td>2.886394</td>\n      <td>2.104493</td>\n      <td>-82.75300</td>\n      <td>1.957675</td>\n      <td>2.878400</td>\n      <td>3.801300</td>\n      <td>55.9480</td>\n    </tr>\n    <tr>\n      <th>linear_acceleration_Z(t-1)</th>\n      <td>374412.0</td>\n      <td>-9.365166</td>\n      <td>2.827701</td>\n      <td>-65.49200</td>\n      <td>-10.198250</td>\n      <td>-9.365500</td>\n      <td>-8.512900</td>\n      <td>65.8390</td>\n    </tr>\n    <tr>\n      <th>angular_velocity_X</th>\n      <td>374412.0</td>\n      <td>0.000239</td>\n      <td>0.116915</td>\n      <td>-2.37100</td>\n      <td>-0.040880</td>\n      <td>0.000049</td>\n      <td>0.040585</td>\n      <td>2.2822</td>\n    </tr>\n    <tr>\n      <th>angular_velocity_Y</th>\n      <td>374412.0</td>\n      <td>0.008464</td>\n      <td>0.088030</td>\n      <td>-0.92786</td>\n      <td>-0.033338</td>\n      <td>0.005352</td>\n      <td>0.047837</td>\n      <td>1.0791</td>\n    </tr>\n    <tr>\n      <th>angular_velocity_Z</th>\n      <td>374412.0</td>\n      <td>-0.019549</td>\n      <td>0.226540</td>\n      <td>-1.26880</td>\n      <td>-0.090374</td>\n      <td>-0.005266</td>\n      <td>0.065536</td>\n      <td>1.3873</td>\n    </tr>\n    <tr>\n      <th>linear_acceleration_X</th>\n      <td>374412.0</td>\n      <td>0.129216</td>\n      <td>1.871914</td>\n      <td>-31.14200</td>\n      <td>-0.535835</td>\n      <td>0.123960</td>\n      <td>0.795103</td>\n      <td>36.7970</td>\n    </tr>\n    <tr>\n      <th>linear_acceleration_Y</th>\n      <td>374412.0</td>\n      <td>2.886160</td>\n      <td>2.104317</td>\n      <td>-82.75300</td>\n      <td>1.957300</td>\n      <td>2.878500</td>\n      <td>3.801000</td>\n      <td>55.9480</td>\n    </tr>\n    <tr>\n      <th>linear_acceleration_Z</th>\n      <td>374412.0</td>\n      <td>-9.365398</td>\n      <td>2.828376</td>\n      <td>-65.49200</td>\n      <td>-10.199000</td>\n      <td>-9.365600</td>\n      <td>-8.513175</td>\n      <td>65.8390</td>\n    </tr>\n  </tbody>\n</table>\n</div>"
      ],
      "text/plain": [
       "                               count      mean   ...          75%      max\nangular_velocity_X(t-5)     374412.0  0.000262   ...     0.040638   2.2822\nangular_velocity_Y(t-5)     374412.0  0.008466   ...     0.047913   1.0791\nangular_velocity_Z(t-5)     374412.0 -0.019526   ...     0.065480   1.3873\nlinear_acceleration_X(t-5)  374412.0  0.128795   ...     0.795427  36.7970\nlinear_acceleration_Y(t-5)  374412.0  2.887226   ...     3.803000  55.9480\nlinear_acceleration_Z(t-5)  374412.0 -9.365155   ...    -8.513100  65.8390\nangular_velocity_X(t-4)     374412.0  0.000260   ...     0.040627   2.2822\nangular_velocity_Y(t-4)     374412.0  0.008467   ...     0.047893   1.0791\nangular_velocity_Z(t-4)     374412.0 -0.019530   ...     0.065504   1.3873\nlinear_acceleration_X(t-4)  374412.0  0.128691   ...     0.795592  36.7970\nlinear_acceleration_Y(t-4)  374412.0  2.887178   ...     3.802600  55.9480\nlinear_acceleration_Z(t-4)  374412.0 -9.364864   ...    -8.512900  65.8390\nangular_velocity_X(t-3)     374412.0  0.000238   ...     0.040590   2.2822\nangular_velocity_Y(t-3)     374412.0  0.008486   ...     0.047891   1.0791\nangular_velocity_Z(t-3)     374412.0 -0.019539   ...     0.065514   1.3873\nlinear_acceleration_X(t-3)  374412.0  0.129055   ...     0.795390  36.7970\nlinear_acceleration_Y(t-3)  374412.0  2.887082   ...     3.802000  55.9480\nlinear_acceleration_Z(t-3)  374412.0 -9.364819   ...    -8.512900  65.8390\nangular_velocity_X(t-2)     374412.0  0.000224   ...     0.040588   2.2822\nangular_velocity_Y(t-2)     374412.0  0.008493   ...     0.047890   1.0791\nangular_velocity_Z(t-2)     374412.0 -0.019543   ...     0.065522   1.3873\nlinear_acceleration_X(t-2)  374412.0  0.129014   ...     0.795075  36.7970\nlinear_acceleration_Y(t-2)  374412.0  2.886865   ...     3.802100  55.9480\nlinear_acceleration_Z(t-2)  374412.0 -9.364790   ...    -8.512800  65.8390\nangular_velocity_X(t-1)     374412.0  0.000229   ...     0.040573   2.2822\nangular_velocity_Y(t-1)     374412.0  0.008473   ...     0.047871   1.0791\nangular_velocity_Z(t-1)     374412.0 -0.019547   ...     0.065523   1.3873\nlinear_acceleration_X(t-1)  374412.0  0.129130   ...     0.795162  36.7970\nlinear_acceleration_Y(t-1)  374412.0  2.886394   ...     3.801300  55.9480\nlinear_acceleration_Z(t-1)  374412.0 -9.365166   ...    -8.512900  65.8390\nangular_velocity_X          374412.0  0.000239   ...     0.040585   2.2822\nangular_velocity_Y          374412.0  0.008464   ...     0.047837   1.0791\nangular_velocity_Z          374412.0 -0.019549   ...     0.065536   1.3873\nlinear_acceleration_X       374412.0  0.129216   ...     0.795103  36.7970\nlinear_acceleration_Y       374412.0  2.886160   ...     3.801000  55.9480\nlinear_acceleration_Z       374412.0 -9.365398   ...    -8.513175  65.8390\n\n[36 rows x 8 columns]"
      ]
     },
     "metadata": {},
     "output_type": "execute_result"
    }
   ],
   "source": [
    "features = list(X_train.columns)\n",
    "print('Train shape', X_train.shape)\n",
    "print('Validation shape', X_val.shape)\n",
    "display(X_train.describe().T)"
   ]
  },
  {
   "cell_type": "markdown",
   "metadata": {
    "_uuid": "0b0a4026f595e293585f8d89b6b6a4d7f68a1d4e"
   },
   "source": [
    "### Scale the data"
   ]
  },
  {
   "cell_type": "code",
   "execution_count": 10,
   "metadata": {
    "trusted": true,
    "_uuid": "c5c153851a8b36f11ee84300c2abd69fbbb247de"
   },
   "outputs": [],
   "source": [
    "scaler = MinMaxScaler()\n",
    "X_train = scaler.fit_transform(X_train)\n",
    "X_val = scaler.transform(X_val)\n",
    "X_test = scaler.transform(test_series)"
   ]
  },
  {
   "cell_type": "code",
   "execution_count": 11,
   "metadata": {
    "trusted": true,
    "_uuid": "d2eb1651def8c837afc77bbe031edc669775e9e7"
   },
   "outputs": [
    {
     "name": "stdout",
     "output_type": "stream",
     "text": [
      "Validation set shape (94218, 6, 6)\n"
     ]
    }
   ],
   "source": [
    "X_val_series = X_val.reshape(X_val.shape[0], (window+1), (X_val.shape[1] // (window+1)))\n",
    "print('Validation set shape', X_val_series.shape)"
   ]
  },
  {
   "cell_type": "code",
   "execution_count": 12,
   "metadata": {
    "trusted": true,
    "_uuid": "c1f782202d9a56f4f0383eee7ce17d3f0db59128"
   },
   "outputs": [
    {
     "name": "stdout",
     "output_type": "stream",
     "text": [
      "Train set shape (374412, 6, 6)\nValidation set shape (94218, 6, 6)\nTest set shape (488448, 6, 6)\n"
     ]
    }
   ],
   "source": [
    "X_train_series = X_train.reshape(X_train.shape[0], (window+1), (X_train.shape[1] // (window+1)))\n",
    "X_val_series = X_val.reshape(X_val.shape[0], (window+1), (X_val.shape[1] // (window+1)))\n",
    "X_test_series = X_test.reshape(X_test.shape[0], (window+1), (X_test.shape[1] // (window+1)))\n",
    "print('Train set shape', X_train_series.shape)\n",
    "print('Validation set shape', X_val_series.shape)\n",
    "print('Test set shape', X_test_series.shape)"
   ]
  },
  {
   "cell_type": "markdown",
   "metadata": {
    "_uuid": "80355b7633b30811f6b6f0f7bf9a91665db1aea4"
   },
   "source": [
    "### Model"
   ]
  },
  {
   "cell_type": "code",
   "execution_count": 13,
   "metadata": {
    "trusted": true,
    "_uuid": "a9d7bfe7e1f5cc139c9ba5b11d7503126a625c96"
   },
   "outputs": [
    {
     "name": "stdout",
     "output_type": "stream",
     "text": [
      "WARNING:tensorflow:From /opt/conda/lib/python3.6/site-packages/tensorflow/python/framework/op_def_library.py:263: colocate_with (from tensorflow.python.framework.ops) is deprecated and will be removed in a future version.\nInstructions for updating:\nColocations handled automatically by placer.\n"
     ]
    }
   ],
   "source": [
    "epochs = 50\n",
    "batch = 128\n",
    "lr = 0.001\n",
    "adam = optimizers.Adam(lr)"
   ]
  },
  {
   "cell_type": "code",
   "execution_count": 14,
   "metadata": {
    "trusted": true,
    "_uuid": "0bddfb168af71d1025217862bb411c80a001401f"
   },
   "outputs": [
    {
     "name": "stdout",
     "output_type": "stream",
     "text": [
      "_________________________________________________________________\nLayer (type)                 Output Shape              Param #   \n=================================================================\nlstm_1 (LSTM)                (None, 20)                2160      \n_________________________________________________________________\ndense_1 (Dense)              (None, 9)                 189       \n=================================================================\nTotal params: 2,349\nTrainable params: 2,349\nNon-trainable params: 0\n_________________________________________________________________\n"
     ]
    }
   ],
   "source": [
    "model = Sequential()\n",
    "model.add(LSTM(20, activation='relu', input_shape=(X_train_series.shape[1], X_train_series.shape[2])))\n",
    "# model.add(LSTM(30, activation='relu', return_sequences=True, input_shape=(X_train_series.shape[1], X_train_series.shape[2])))\n",
    "# model.add(LSTM(15, activation='relu'))\n",
    "model.add(Dense(n_labels, activation=\"softmax\"))\n",
    "model.compile(loss='categorical_crossentropy', optimizer=adam)\n",
    "model.summary()"
   ]
  },
  {
   "cell_type": "code",
   "execution_count": null,
   "metadata": {
    "trusted": true,
    "_uuid": "5b1044b1be70cee50631ad78ecc0c41423d1c8eb",
    "_kg_hide-output": true
   },
   "outputs": [
    {
     "name": "stdout",
     "output_type": "stream",
     "text": [
      "WARNING:tensorflow:From /opt/conda/lib/python3.6/site-packages/tensorflow/python/ops/math_ops.py:3066: to_int32 (from tensorflow.python.ops.math_ops) is deprecated and will be removed in a future version.\nInstructions for updating:\nUse tf.cast instead.\n"
     ]
    }
   ],
   "source": [
    "history = model.fit(X_train_series, Y_train, validation_data=(X_val_series, Y_val), epochs=epochs, verbose=2)"
   ]
  },
  {
   "cell_type": "markdown",
   "metadata": {
    "_uuid": "c164caa2228a2254968b8be1c253508cf14a54bb"
   },
   "source": [
    "#### Model loss plot"
   ]
  },
  {
   "cell_type": "code",
   "execution_count": null,
   "metadata": {
    "trusted": true,
    "_uuid": "2343460f84e47f425aa85f272edb896fe2d2e98e",
    "_kg_hide-input": true
   },
   "outputs": [],
   "source": [
    "history_pd = pd.DataFrame.from_dict(history.history)\n",
    "plt.figure(figsize=(20, 8))\n",
    "ax = plt.axes()\n",
    "ax.set_title('Model Loss')\n",
    "sns.lineplot(data=history_pd)\n",
    "plt.show()"
   ]
  },
  {
   "cell_type": "markdown",
   "metadata": {
    "_uuid": "e329fef416e3eed32a699084ef3b0774abb5536d"
   },
   "source": [
    "#### Model evaluation"
   ]
  },
  {
   "cell_type": "code",
   "execution_count": null,
   "metadata": {
    "_kg_hide-input": true,
    "trusted": true,
    "_uuid": "3cfa5400527314db84f0629e45b347ec4515ece7"
   },
   "outputs": [],
   "source": [
    "train_pred = model.predict_classes(X_train_series)\n",
    "val_pred = model.predict_classes(X_val_series)\n",
    "Y_train_max = np.argmax(Y_train, axis=1)\n",
    "Y_val_max = np.argmax(Y_val, axis=1)\n",
    "\n",
    "print('Train accuracy', accuracy_score(Y_train_max, train_pred))\n",
    "print('Validation accuracy', accuracy_score(Y_val_max, val_pred))"
   ]
  },
  {
   "cell_type": "markdown",
   "metadata": {
    "_uuid": "39c0e9e8bc4ab06af679743de7cbe387ff62bea4"
   },
   "source": [
    "#### Model confusion matrix"
   ]
  },
  {
   "cell_type": "code",
   "execution_count": null,
   "metadata": {
    "_kg_hide-input": true,
    "trusted": true,
    "_uuid": "580ebf9db14b7f1deba7db6d1575640c68d96ce5"
   },
   "outputs": [],
   "source": [
    "cnf_matrix = confusion_matrix(Y_train_max, train_pred)\n",
    "cnf_matrix_norm = cnf_matrix.astype('float') / cnf_matrix.sum(axis=1)[:, np.newaxis]\n",
    "df_cm = pd.DataFrame(cnf_matrix_norm, index=labels_names, columns=labels_names)\n",
    "\n",
    "plt.figure(figsize=(20, 7))\n",
    "ax = plt.axes()\n",
    "ax.set_title('Train')\n",
    "sns.heatmap(df_cm, annot=True, fmt='.2f', cmap=\"Blues\", ax=ax)\n",
    "plt.show()\n",
    "\n",
    "cnf_matrix = confusion_matrix(Y_val_max, val_pred)\n",
    "cnf_matrix_norm = cnf_matrix.astype('float') / cnf_matrix.sum(axis=1)[:, np.newaxis]\n",
    "df_cm = pd.DataFrame(cnf_matrix_norm, index=labels_names, columns=labels_names)\n",
    "\n",
    "plt.figure(figsize=(20, 7))\n",
    "ax = plt.axes()\n",
    "ax.set_title('Validation')\n",
    "sns.heatmap(df_cm, annot=True, fmt='.2f', cmap=\"Blues\", ax=ax)\n",
    "plt.show()"
   ]
  },
  {
   "cell_type": "markdown",
   "metadata": {
    "_uuid": "e82092fdd7a414e29ca1fe00167c99d85720c8f1"
   },
   "source": [
    "### Test predictions"
   ]
  },
  {
   "cell_type": "code",
   "execution_count": null,
   "metadata": {
    "_kg_hide-input": true,
    "trusted": true,
    "_uuid": "b2bfea52ae3a9c0e325f4022538f843da0839671"
   },
   "outputs": [],
   "source": [
    "predictions = model.predict_classes(X_test_series)\n",
    "test['surface'] = le.inverse_transform(predictions)\n",
    "df = test[['series_id', 'surface']]\n",
    "df = df.groupby('series_id', as_index=False).agg(lambda x:x.value_counts().index[0])\n",
    "df.to_csv('submission.csv', index=False)\n",
    "df.head(10)"
   ]
  }
 ],
 "metadata": {
  "kernelspec": {
   "display_name": "Python 3",
   "language": "python",
   "name": "python3"
  },
  "language_info": {
   "name": "python",
   "version": "3.6.6",
   "mimetype": "text/x-python",
   "codemirror_mode": {
    "name": "ipython",
    "version": 3.0
   },
   "pygments_lexer": "ipython3",
   "nbconvert_exporter": "python",
   "file_extension": ".py"
  }
 },
 "nbformat": 4,
 "nbformat_minor": 0
}