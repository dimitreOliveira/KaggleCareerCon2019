{
 "cells": [
  {
   "cell_type": "markdown",
   "metadata": {},
   "source": [
    "# CareerCon 2019 - Help Navigate Robots\n",
    "\n",
    "Robots are smart… by design. To fully understand and properly navigate a task, however, they need input about their environment.\n",
    "\n",
    "**Objective:** Improve the navigation of robots without assistance across many different surfaces, so they won’t fall down on the job.\n",
    "\n",
    "**Study:** In this notebook I do an analysis with the data to show that there are different patterns for different surfaces, I also purpose a new categorization based in how easy is to move in a given surface.\n",
    "\n",
    "### Content:\n",
    "1. [Information about the surface](#Information-about-the-surface);\n",
    "2. [Surface distribution](#Surface-distribution);\n",
    "3. [Correlation between surface and speed](#Correlation-between-surface-and-speed);\n",
    "4. [New surface categories](#New-surface-categories)\n",
    "5. [Results](#Results)"
   ]
  },
  {
   "cell_type": "code",
   "execution_count": 1,
   "metadata": {
    "_cell_guid": "b1076dfc-b9ad-4769-8c92-a6c4dae69d19",
    "_uuid": "8f2839f25d086af736a60e9eeb907d3b93b6e0e5"
   },
   "outputs": [
    {
     "data": {
      "text/html": [
       "<script type=\"text/javascript\">window.PlotlyConfig = {MathJaxConfig: 'local'};</script><script type=\"text/javascript\">if (window.MathJax) {MathJax.Hub.Config({SVG: {font: \"STIX-Web\"}});}</script><script>requirejs.config({paths: { 'plotly': ['https://cdn.plot.ly/plotly-latest.min']},});if(!window._Plotly) {require(['plotly'],function(plotly) {window._Plotly=plotly;});}</script>"
      ],
      "text/vnd.plotly.v1+html": [
       "<script type=\"text/javascript\">window.PlotlyConfig = {MathJaxConfig: 'local'};</script><script type=\"text/javascript\">if (window.MathJax) {MathJax.Hub.Config({SVG: {font: \"STIX-Web\"}});}</script><script>requirejs.config({paths: { 'plotly': ['https://cdn.plot.ly/plotly-latest.min']},});if(!window._Plotly) {require(['plotly'],function(plotly) {window._Plotly=plotly;});}</script>"
      ]
     },
     "metadata": {},
     "output_type": "display_data"
    }
   ],
   "source": [
    "import numpy as np # linear algebra\n",
    "import pandas as pd # data processing, CSV file I/O (e.g. pd.read_csv)\n",
    "\n",
    "### Visualization ###\n",
    "# plotly\n",
    "import plotly.plotly as py\n",
    "from plotly.offline import init_notebook_mode, iplot\n",
    "init_notebook_mode(connected=True)\n",
    "import plotly.graph_objs as go\n",
    "\n",
    "### Utils ###\n",
    "import warnings\n",
    "warnings.filterwarnings(\"ignore\")"
   ]
  },
  {
   "cell_type": "code",
   "execution_count": 2,
   "metadata": {
    "_cell_guid": "79c7e3d0-c299-4dcb-8224-4455121ee9b0",
    "_uuid": "d629ff2d2480ee46fbb7e2d37f6b5fab8052498a"
   },
   "outputs": [],
   "source": [
    "movement_cols = ['orientation_X', 'orientation_Y', 'orientation_Z',\n",
    "                 'orientation_W', 'angular_velocity_X', 'angular_velocity_Y',\n",
    "                 'angular_velocity_Z', 'linear_acceleration_X', 'linear_acceleration_Y', 'linear_acceleration_Z']\n",
    "label = ['surface']\n",
    "\n",
    "train = pd.read_csv('../input/carrercon-join-of-x-and-y-train/x_y_train/x_y_train.csv')"
   ]
  },
  {
   "cell_type": "markdown",
   "metadata": {},
   "source": [
    "## Information about the surface\n",
    "\n",
    "**Carpet:** It's really bad.\n",
    "![image](https://images-na.ssl-images-amazon.com/images/I/61%2B2hk3eDRL.jpg)\n",
    "\n",
    "**Concrete:** Best floor.\n",
    "![image](https://www.floormastervt.com/wp-content/uploads/2016/05/polish1.jpg?x40097)\n",
    "\n",
    "**Fine concrete:** Good superficies to work with.\n",
    "![image](https://flowingstone.co.nz/wp-content/uploads/2016/08/Concrete-Types-1.jpeg)\n",
    "\n",
    "**Hard tiles:** Can be difficult depending of how the tittle can be organized.\n",
    "* Good: ![image](https://previews.123rf.com/images/mehaniq/mehaniq1704/mehaniq170400385/75713143-the-texture-of-solid-granite-tiles-hard-and-slippery-gray-granite-surface-with-a-relief-discharge-wh.jpg)\n",
    "* Bad: ![image](https://www.cmmonline.com/images/content/magazines/2015/06-2015/06-2015-tips-detail.jpg?Action=thumbnail&Width=750&Height=392&algorithm=fill_proportional)\n",
    "\n",
    "**Hard tiles large:** Fits[](http://) in the *bad* case for surface hard tile.\n",
    "\n",
    "**Soft PVC:** Better than soft tiles but depending of the weight of the robot.\n",
    "![image](https://sc01.alicdn.com/kf/HTB1N.KJKpXXXXbfXFXXq6xXFXXX9/Soft-PVC-kindergarten-flooring-in-bright-color.jpg_350x350.jpg)\n",
    "\n",
    "**Soft tiles:** Not as bad as the carpet but it's lower and can have irregularities.\n",
    "![image](https://assets.incstores.com/products/reviews/5-8%20Soft%20Tiles-6.jpg)\n",
    "\n",
    "**Tiled:** Bad since there will be many space.\n",
    "![image](https://us.123rf.com/450wm/ericmilos/ericmilos1102/ericmilos110200013/8713937-tiled-concrete-pavement.jpg?ver=6)\n",
    "\n",
    "**Wood:** Very good surface, except in cases that the join is uneven.\n",
    "![image](https://static.flooringsupplies.co.uk/images/grain/CAS1472.jpg)"
   ]
  },
  {
   "cell_type": "markdown",
   "metadata": {},
   "source": [
    "## Surface distribution\n",
    "\n",
    "* Most surfaces are concrete, what is a good surface for the robot to move."
   ]
  },
  {
   "cell_type": "code",
   "execution_count": 3,
   "metadata": {},
   "outputs": [
    {
     "data": {
      "application/vnd.plotly.v1+json": {
       "config": {
        "linkText": "Export to plot.ly",
        "plotlyServerURL": "https://plot.ly",
        "showLink": false
       },
       "data": [
        {
         "orientation": "h",
         "text": [
          2688.0,
          24192.0,
          38016.0,
          39424.0,
          46464.0,
          65792.0,
          77696.0,
          93696.0,
          99712.0
         ],
         "type": "bar",
         "uid": "45e66811-672d-499b-924d-3ef7f6f8fdda",
         "x": [
          2688,
          24192,
          38016,
          39424,
          46464,
          65792,
          77696,
          93696,
          99712
         ],
         "y": [
          "hard_tiles",
          "carpet",
          "soft_tiles",
          "hard_tiles_large_space",
          "fine_concrete",
          "tiled",
          "wood",
          "soft_pvc",
          "concrete"
         ]
        }
       ],
       "layout": {
        "height": 600,
        "title": {
         "font": {
          "size": 20
         },
         "text": "Distribution of surfaces"
        },
        "width": 800
       }
      },
      "text/html": [
       "<div id=\"61313f8e-825d-4570-af93-3dd4dc7dc6f5\" style=\"height: 600px; width: 800px;\" class=\"plotly-graph-div\"></div><script type=\"text/javascript\">require([\"plotly\"], function(Plotly) { window.PLOTLYENV=window.PLOTLYENV || {};window.PLOTLYENV.BASE_URL=\"https://plot.ly\";\n",
       "if (document.getElementById(\"61313f8e-825d-4570-af93-3dd4dc7dc6f5\")) {\n",
       "    Plotly.newPlot(\"61313f8e-825d-4570-af93-3dd4dc7dc6f5\", [{\"orientation\": \"h\", \"text\": [2688.0, 24192.0, 38016.0, 39424.0, 46464.0, 65792.0, 77696.0, 93696.0, 99712.0], \"x\": [2688, 24192, 38016, 39424, 46464, 65792, 77696, 93696, 99712], \"y\": [\"hard_tiles\", \"carpet\", \"soft_tiles\", \"hard_tiles_large_space\", \"fine_concrete\", \"tiled\", \"wood\", \"soft_pvc\", \"concrete\"], \"type\": \"bar\", \"uid\": \"45e66811-672d-499b-924d-3ef7f6f8fdda\"}], {\"height\": 600, \"title\": {\"font\": {\"size\": 20}, \"text\": \"Distribution of surfaces\"}, \"width\": 800}, {\"showLink\": false, \"linkText\": \"Export to plot.ly\", \"plotlyServerURL\": \"https://plot.ly\"}); \n",
       "}\n",
       "});</script>"
      ],
      "text/vnd.plotly.v1+html": [
       "<div id=\"61313f8e-825d-4570-af93-3dd4dc7dc6f5\" style=\"height: 600px; width: 800px;\" class=\"plotly-graph-div\"></div><script type=\"text/javascript\">require([\"plotly\"], function(Plotly) { window.PLOTLYENV=window.PLOTLYENV || {};window.PLOTLYENV.BASE_URL=\"https://plot.ly\";\n",
       "if (document.getElementById(\"61313f8e-825d-4570-af93-3dd4dc7dc6f5\")) {\n",
       "    Plotly.newPlot(\"61313f8e-825d-4570-af93-3dd4dc7dc6f5\", [{\"orientation\": \"h\", \"text\": [2688.0, 24192.0, 38016.0, 39424.0, 46464.0, 65792.0, 77696.0, 93696.0, 99712.0], \"x\": [2688, 24192, 38016, 39424, 46464, 65792, 77696, 93696, 99712], \"y\": [\"hard_tiles\", \"carpet\", \"soft_tiles\", \"hard_tiles_large_space\", \"fine_concrete\", \"tiled\", \"wood\", \"soft_pvc\", \"concrete\"], \"type\": \"bar\", \"uid\": \"45e66811-672d-499b-924d-3ef7f6f8fdda\"}], {\"height\": 600, \"title\": {\"font\": {\"size\": 20}, \"text\": \"Distribution of surfaces\"}, \"width\": 800}, {\"showLink\": false, \"linkText\": \"Export to plot.ly\", \"plotlyServerURL\": \"https://plot.ly\"}); \n",
       "}\n",
       "});</script>"
      ]
     },
     "metadata": {},
     "output_type": "display_data"
    }
   ],
   "source": [
    "surface_distribution = (train\n",
    "                       .groupby('surface')\n",
    "                       .size()\n",
    "                       .to_frame('count')\n",
    "                       .reset_index()\n",
    "                       .sort_values('count', ascending=True))\n",
    "\n",
    "data = [go.Bar(\n",
    "            y=surface_distribution['surface'],\n",
    "            x=surface_distribution['count'],\n",
    "            orientation = 'h',\n",
    "            text=surface_distribution['count']\n",
    "    )]\n",
    "\n",
    "layout = go.Layout(\n",
    "    title='Distribution of surfaces',\n",
    "    titlefont=dict(size=20),\n",
    "    width=800,\n",
    "    height=600\n",
    ")\n",
    "\n",
    "fig = go.Figure(data=data, layout=layout)\n",
    "\n",
    "iplot(fig)"
   ]
  },
  {
   "cell_type": "markdown",
   "metadata": {},
   "source": [
    "## Correlation between surface and speed\n",
    "In order to prove the hypothesis that the floor is correlated of how well will the robot move."
   ]
  },
  {
   "cell_type": "code",
   "execution_count": 4,
   "metadata": {},
   "outputs": [],
   "source": [
    "metrics = (train[movement_cols+label]\n",
    "                   .groupby('surface')\n",
    "                   .agg(['min','max','mean', 'std'])\n",
    "              )"
   ]
  },
  {
   "cell_type": "code",
   "execution_count": 5,
   "metadata": {},
   "outputs": [
    {
     "data": {
      "text/plain": [
       "['carpet',\n",
       " 'concrete',\n",
       " 'fine_concrete',\n",
       " 'hard_tiles',\n",
       " 'hard_tiles_large_space',\n",
       " 'soft_pvc',\n",
       " 'soft_tiles',\n",
       " 'tiled',\n",
       " 'wood']"
      ]
     },
     "execution_count": 5,
     "metadata": {},
     "output_type": "execute_result"
    }
   ],
   "source": [
    "surfaces = list(surface_distribution.sort_values('surface').surface)\n",
    "surfaces"
   ]
  },
  {
   "cell_type": "code",
   "execution_count": 6,
   "metadata": {},
   "outputs": [
    {
     "data": {
      "text/html": [
       "<div>\n",
       "<style scoped>\n",
       "    .dataframe tbody tr th:only-of-type {\n",
       "        vertical-align: middle;\n",
       "    }\n",
       "\n",
       "    .dataframe tbody tr th {\n",
       "        vertical-align: top;\n",
       "    }\n",
       "\n",
       "    .dataframe thead tr th {\n",
       "        text-align: left;\n",
       "    }\n",
       "\n",
       "    .dataframe thead tr:last-of-type th {\n",
       "        text-align: right;\n",
       "    }\n",
       "</style>\n",
       "<table border=\"1\" class=\"dataframe\">\n",
       "  <thead>\n",
       "    <tr>\n",
       "      <th></th>\n",
       "      <th colspan=\"4\" halign=\"left\">orientation_X</th>\n",
       "      <th colspan=\"4\" halign=\"left\">orientation_Y</th>\n",
       "      <th colspan=\"4\" halign=\"left\">orientation_Z</th>\n",
       "      <th colspan=\"4\" halign=\"left\">orientation_W</th>\n",
       "      <th colspan=\"4\" halign=\"left\">angular_velocity_X</th>\n",
       "      <th colspan=\"4\" halign=\"left\">angular_velocity_Y</th>\n",
       "      <th colspan=\"4\" halign=\"left\">angular_velocity_Z</th>\n",
       "      <th colspan=\"4\" halign=\"left\">linear_acceleration_X</th>\n",
       "      <th colspan=\"4\" halign=\"left\">linear_acceleration_Y</th>\n",
       "      <th colspan=\"4\" halign=\"left\">linear_acceleration_Z</th>\n",
       "    </tr>\n",
       "    <tr>\n",
       "      <th></th>\n",
       "      <th>min</th>\n",
       "      <th>max</th>\n",
       "      <th>mean</th>\n",
       "      <th>std</th>\n",
       "      <th>min</th>\n",
       "      <th>max</th>\n",
       "      <th>mean</th>\n",
       "      <th>std</th>\n",
       "      <th>min</th>\n",
       "      <th>max</th>\n",
       "      <th>mean</th>\n",
       "      <th>std</th>\n",
       "      <th>min</th>\n",
       "      <th>max</th>\n",
       "      <th>mean</th>\n",
       "      <th>std</th>\n",
       "      <th>min</th>\n",
       "      <th>max</th>\n",
       "      <th>mean</th>\n",
       "      <th>std</th>\n",
       "      <th>min</th>\n",
       "      <th>max</th>\n",
       "      <th>mean</th>\n",
       "      <th>std</th>\n",
       "      <th>min</th>\n",
       "      <th>max</th>\n",
       "      <th>mean</th>\n",
       "      <th>std</th>\n",
       "      <th>min</th>\n",
       "      <th>max</th>\n",
       "      <th>mean</th>\n",
       "      <th>std</th>\n",
       "      <th>min</th>\n",
       "      <th>max</th>\n",
       "      <th>mean</th>\n",
       "      <th>std</th>\n",
       "      <th>min</th>\n",
       "      <th>max</th>\n",
       "      <th>mean</th>\n",
       "      <th>std</th>\n",
       "    </tr>\n",
       "    <tr>\n",
       "      <th>surface</th>\n",
       "      <th></th>\n",
       "      <th></th>\n",
       "      <th></th>\n",
       "      <th></th>\n",
       "      <th></th>\n",
       "      <th></th>\n",
       "      <th></th>\n",
       "      <th></th>\n",
       "      <th></th>\n",
       "      <th></th>\n",
       "      <th></th>\n",
       "      <th></th>\n",
       "      <th></th>\n",
       "      <th></th>\n",
       "      <th></th>\n",
       "      <th></th>\n",
       "      <th></th>\n",
       "      <th></th>\n",
       "      <th></th>\n",
       "      <th></th>\n",
       "      <th></th>\n",
       "      <th></th>\n",
       "      <th></th>\n",
       "      <th></th>\n",
       "      <th></th>\n",
       "      <th></th>\n",
       "      <th></th>\n",
       "      <th></th>\n",
       "      <th></th>\n",
       "      <th></th>\n",
       "      <th></th>\n",
       "      <th></th>\n",
       "      <th></th>\n",
       "      <th></th>\n",
       "      <th></th>\n",
       "      <th></th>\n",
       "      <th></th>\n",
       "      <th></th>\n",
       "      <th></th>\n",
       "      <th></th>\n",
       "    </tr>\n",
       "  </thead>\n",
       "  <tbody>\n",
       "    <tr>\n",
       "      <th>carpet</th>\n",
       "      <td>-0.98859</td>\n",
       "      <td>0.38137</td>\n",
       "      <td>-0.385794</td>\n",
       "      <td>0.558090</td>\n",
       "      <td>-0.98905</td>\n",
       "      <td>0.98207</td>\n",
       "      <td>0.232877</td>\n",
       "      <td>0.680656</td>\n",
       "      <td>-0.15054</td>\n",
       "      <td>0.155660</td>\n",
       "      <td>0.032506</td>\n",
       "      <td>0.103843</td>\n",
       "      <td>-0.153450</td>\n",
       "      <td>0.052329</td>\n",
       "      <td>-0.060315</td>\n",
       "      <td>0.082027</td>\n",
       "      <td>-1.05470</td>\n",
       "      <td>1.21160</td>\n",
       "      <td>0.001029</td>\n",
       "      <td>0.103999</td>\n",
       "      <td>-0.92786</td>\n",
       "      <td>0.93619</td>\n",
       "      <td>0.024627</td>\n",
       "      <td>0.087537</td>\n",
       "      <td>-1.24450</td>\n",
       "      <td>1.12570</td>\n",
       "      <td>-0.072238</td>\n",
       "      <td>0.223227</td>\n",
       "      <td>-29.8950</td>\n",
       "      <td>23.2930</td>\n",
       "      <td>0.091456</td>\n",
       "      <td>2.033440</td>\n",
       "      <td>-54.5910</td>\n",
       "      <td>32.6230</td>\n",
       "      <td>2.872431</td>\n",
       "      <td>2.562971</td>\n",
       "      <td>-49.403</td>\n",
       "      <td>22.3360</td>\n",
       "      <td>-9.368058</td>\n",
       "      <td>2.288149</td>\n",
       "    </tr>\n",
       "    <tr>\n",
       "      <th>concrete</th>\n",
       "      <td>-0.98862</td>\n",
       "      <td>0.98889</td>\n",
       "      <td>-0.207607</td>\n",
       "      <td>0.724844</td>\n",
       "      <td>-0.96579</td>\n",
       "      <td>0.98898</td>\n",
       "      <td>0.078932</td>\n",
       "      <td>0.634656</td>\n",
       "      <td>-0.14873</td>\n",
       "      <td>0.148380</td>\n",
       "      <td>0.010351</td>\n",
       "      <td>0.095181</td>\n",
       "      <td>-0.151860</td>\n",
       "      <td>0.151540</td>\n",
       "      <td>-0.032107</td>\n",
       "      <td>0.110878</td>\n",
       "      <td>-2.37100</td>\n",
       "      <td>2.28220</td>\n",
       "      <td>0.000925</td>\n",
       "      <td>0.154918</td>\n",
       "      <td>-0.90875</td>\n",
       "      <td>0.83621</td>\n",
       "      <td>0.021816</td>\n",
       "      <td>0.097308</td>\n",
       "      <td>-1.25930</td>\n",
       "      <td>1.38730</td>\n",
       "      <td>-0.062718</td>\n",
       "      <td>0.222090</td>\n",
       "      <td>-36.0670</td>\n",
       "      <td>36.7970</td>\n",
       "      <td>0.111593</td>\n",
       "      <td>2.581342</td>\n",
       "      <td>-121.4900</td>\n",
       "      <td>73.0080</td>\n",
       "      <td>2.907733</td>\n",
       "      <td>3.096531</td>\n",
       "      <td>-75.386</td>\n",
       "      <td>65.8390</td>\n",
       "      <td>-9.356408</td>\n",
       "      <td>3.726617</td>\n",
       "    </tr>\n",
       "    <tr>\n",
       "      <th>fine_concrete</th>\n",
       "      <td>-0.89089</td>\n",
       "      <td>0.98642</td>\n",
       "      <td>-0.143290</td>\n",
       "      <td>0.628582</td>\n",
       "      <td>-0.98866</td>\n",
       "      <td>0.98866</td>\n",
       "      <td>0.188151</td>\n",
       "      <td>0.725514</td>\n",
       "      <td>-0.15396</td>\n",
       "      <td>0.151470</td>\n",
       "      <td>0.028501</td>\n",
       "      <td>0.111411</td>\n",
       "      <td>-0.137720</td>\n",
       "      <td>0.154770</td>\n",
       "      <td>-0.021683</td>\n",
       "      <td>0.094375</td>\n",
       "      <td>-0.61259</td>\n",
       "      <td>0.71355</td>\n",
       "      <td>-0.000099</td>\n",
       "      <td>0.085643</td>\n",
       "      <td>-0.36092</td>\n",
       "      <td>0.46764</td>\n",
       "      <td>0.003167</td>\n",
       "      <td>0.080723</td>\n",
       "      <td>-0.82227</td>\n",
       "      <td>0.94021</td>\n",
       "      <td>-0.002443</td>\n",
       "      <td>0.221343</td>\n",
       "      <td>-10.9300</td>\n",
       "      <td>12.3940</td>\n",
       "      <td>0.136297</td>\n",
       "      <td>1.379338</td>\n",
       "      <td>-9.6574</td>\n",
       "      <td>16.4520</td>\n",
       "      <td>2.922102</td>\n",
       "      <td>1.601250</td>\n",
       "      <td>-24.686</td>\n",
       "      <td>7.1959</td>\n",
       "      <td>-9.356070</td>\n",
       "      <td>2.047193</td>\n",
       "    </tr>\n",
       "    <tr>\n",
       "      <th>hard_tiles</th>\n",
       "      <td>0.46074</td>\n",
       "      <td>0.74929</td>\n",
       "      <td>0.650556</td>\n",
       "      <td>0.090707</td>\n",
       "      <td>-0.87507</td>\n",
       "      <td>-0.64475</td>\n",
       "      <td>-0.735114</td>\n",
       "      <td>0.075925</td>\n",
       "      <td>-0.12841</td>\n",
       "      <td>-0.092761</td>\n",
       "      <td>-0.106206</td>\n",
       "      <td>0.011803</td>\n",
       "      <td>0.074212</td>\n",
       "      <td>0.119020</td>\n",
       "      <td>0.103824</td>\n",
       "      <td>0.014121</td>\n",
       "      <td>-0.12939</td>\n",
       "      <td>0.16933</td>\n",
       "      <td>-0.000176</td>\n",
       "      <td>0.032907</td>\n",
       "      <td>-0.15695</td>\n",
       "      <td>0.14701</td>\n",
       "      <td>-0.006708</td>\n",
       "      <td>0.072593</td>\n",
       "      <td>-0.33992</td>\n",
       "      <td>0.44347</td>\n",
       "      <td>0.026448</td>\n",
       "      <td>0.226314</td>\n",
       "      <td>-2.2821</td>\n",
       "      <td>1.8960</td>\n",
       "      <td>0.145759</td>\n",
       "      <td>0.521849</td>\n",
       "      <td>-1.2135</td>\n",
       "      <td>7.1469</td>\n",
       "      <td>2.990207</td>\n",
       "      <td>0.945227</td>\n",
       "      <td>-11.452</td>\n",
       "      <td>-7.1307</td>\n",
       "      <td>-9.332681</td>\n",
       "      <td>0.599659</td>\n",
       "    </tr>\n",
       "    <tr>\n",
       "      <th>hard_tiles_large_space</th>\n",
       "      <td>-0.71222</td>\n",
       "      <td>0.98872</td>\n",
       "      <td>0.393165</td>\n",
       "      <td>0.522936</td>\n",
       "      <td>-0.98965</td>\n",
       "      <td>0.98840</td>\n",
       "      <td>-0.113644</td>\n",
       "      <td>0.732409</td>\n",
       "      <td>-0.15189</td>\n",
       "      <td>0.150650</td>\n",
       "      <td>-0.014866</td>\n",
       "      <td>0.113010</td>\n",
       "      <td>-0.120190</td>\n",
       "      <td>0.151870</td>\n",
       "      <td>0.060699</td>\n",
       "      <td>0.077233</td>\n",
       "      <td>-1.24550</td>\n",
       "      <td>1.19500</td>\n",
       "      <td>0.000434</td>\n",
       "      <td>0.195604</td>\n",
       "      <td>-0.82208</td>\n",
       "      <td>1.07910</td>\n",
       "      <td>0.016397</td>\n",
       "      <td>0.097617</td>\n",
       "      <td>-0.98636</td>\n",
       "      <td>0.97221</td>\n",
       "      <td>-0.044681</td>\n",
       "      <td>0.188297</td>\n",
       "      <td>-21.2210</td>\n",
       "      <td>24.9450</td>\n",
       "      <td>0.110250</td>\n",
       "      <td>2.832893</td>\n",
       "      <td>-23.7140</td>\n",
       "      <td>20.0050</td>\n",
       "      <td>2.885197</td>\n",
       "      <td>2.578976</td>\n",
       "      <td>-41.542</td>\n",
       "      <td>20.4500</td>\n",
       "      <td>-9.365567</td>\n",
       "      <td>4.866550</td>\n",
       "    </tr>\n",
       "    <tr>\n",
       "      <th>soft_pvc</th>\n",
       "      <td>-0.97853</td>\n",
       "      <td>0.98910</td>\n",
       "      <td>0.309570</td>\n",
       "      <td>0.612270</td>\n",
       "      <td>-0.91465</td>\n",
       "      <td>0.98865</td>\n",
       "      <td>-0.011457</td>\n",
       "      <td>0.712656</td>\n",
       "      <td>-0.16283</td>\n",
       "      <td>0.152640</td>\n",
       "      <td>0.005433</td>\n",
       "      <td>0.102576</td>\n",
       "      <td>-0.147770</td>\n",
       "      <td>0.149570</td>\n",
       "      <td>0.043331</td>\n",
       "      <td>0.094142</td>\n",
       "      <td>-0.64247</td>\n",
       "      <td>0.86514</td>\n",
       "      <td>0.000692</td>\n",
       "      <td>0.058173</td>\n",
       "      <td>-0.46152</td>\n",
       "      <td>0.42471</td>\n",
       "      <td>0.014869</td>\n",
       "      <td>0.057497</td>\n",
       "      <td>-1.26880</td>\n",
       "      <td>0.48411</td>\n",
       "      <td>-0.040387</td>\n",
       "      <td>0.157295</td>\n",
       "      <td>-11.5050</td>\n",
       "      <td>10.7160</td>\n",
       "      <td>0.128839</td>\n",
       "      <td>0.944897</td>\n",
       "      <td>-26.8300</td>\n",
       "      <td>18.5010</td>\n",
       "      <td>2.811946</td>\n",
       "      <td>1.356420</td>\n",
       "      <td>-27.907</td>\n",
       "      <td>15.9830</td>\n",
       "      <td>-9.386315</td>\n",
       "      <td>1.235721</td>\n",
       "    </tr>\n",
       "    <tr>\n",
       "      <th>soft_tiles</th>\n",
       "      <td>-0.96457</td>\n",
       "      <td>0.98874</td>\n",
       "      <td>0.276689</td>\n",
       "      <td>0.669783</td>\n",
       "      <td>-0.96176</td>\n",
       "      <td>0.98876</td>\n",
       "      <td>0.017786</td>\n",
       "      <td>0.672457</td>\n",
       "      <td>-0.14454</td>\n",
       "      <td>0.150090</td>\n",
       "      <td>0.004524</td>\n",
       "      <td>0.100333</td>\n",
       "      <td>-0.147440</td>\n",
       "      <td>0.149850</td>\n",
       "      <td>0.042025</td>\n",
       "      <td>0.102425</td>\n",
       "      <td>-0.38121</td>\n",
       "      <td>0.41735</td>\n",
       "      <td>0.000640</td>\n",
       "      <td>0.030014</td>\n",
       "      <td>-0.37008</td>\n",
       "      <td>0.28317</td>\n",
       "      <td>0.017502</td>\n",
       "      <td>0.041384</td>\n",
       "      <td>-0.41884</td>\n",
       "      <td>0.66076</td>\n",
       "      <td>-0.048913</td>\n",
       "      <td>0.124861</td>\n",
       "      <td>-9.8046</td>\n",
       "      <td>8.8783</td>\n",
       "      <td>0.084119</td>\n",
       "      <td>0.537524</td>\n",
       "      <td>-6.9817</td>\n",
       "      <td>11.8770</td>\n",
       "      <td>2.914124</td>\n",
       "      <td>0.872669</td>\n",
       "      <td>-18.902</td>\n",
       "      <td>-3.0539</td>\n",
       "      <td>-9.359474</td>\n",
       "      <td>0.485342</td>\n",
       "    </tr>\n",
       "    <tr>\n",
       "      <th>tiled</th>\n",
       "      <td>-0.98910</td>\n",
       "      <td>0.95521</td>\n",
       "      <td>-0.275754</td>\n",
       "      <td>0.589763</td>\n",
       "      <td>-0.98908</td>\n",
       "      <td>0.98747</td>\n",
       "      <td>0.075003</td>\n",
       "      <td>0.740189</td>\n",
       "      <td>-0.15101</td>\n",
       "      <td>0.151760</td>\n",
       "      <td>0.010869</td>\n",
       "      <td>0.110952</td>\n",
       "      <td>-0.156620</td>\n",
       "      <td>0.153950</td>\n",
       "      <td>-0.042090</td>\n",
       "      <td>0.091911</td>\n",
       "      <td>-1.02440</td>\n",
       "      <td>0.95938</td>\n",
       "      <td>0.000102</td>\n",
       "      <td>0.141375</td>\n",
       "      <td>-0.49977</td>\n",
       "      <td>0.54884</td>\n",
       "      <td>0.006403</td>\n",
       "      <td>0.082908</td>\n",
       "      <td>-0.77189</td>\n",
       "      <td>0.83011</td>\n",
       "      <td>-0.012668</td>\n",
       "      <td>0.165605</td>\n",
       "      <td>-16.0290</td>\n",
       "      <td>18.8060</td>\n",
       "      <td>0.135560</td>\n",
       "      <td>2.114298</td>\n",
       "      <td>-20.9990</td>\n",
       "      <td>17.9990</td>\n",
       "      <td>2.913803</td>\n",
       "      <td>2.251182</td>\n",
       "      <td>-37.273</td>\n",
       "      <td>20.4310</td>\n",
       "      <td>-9.357045</td>\n",
       "      <td>3.489906</td>\n",
       "    </tr>\n",
       "    <tr>\n",
       "      <th>wood</th>\n",
       "      <td>-0.98872</td>\n",
       "      <td>0.98865</td>\n",
       "      <td>-0.138246</td>\n",
       "      <td>0.630122</td>\n",
       "      <td>-0.98883</td>\n",
       "      <td>0.98893</td>\n",
       "      <td>0.209518</td>\n",
       "      <td>0.719346</td>\n",
       "      <td>-0.15023</td>\n",
       "      <td>0.155710</td>\n",
       "      <td>0.030993</td>\n",
       "      <td>0.109419</td>\n",
       "      <td>-0.153400</td>\n",
       "      <td>0.151500</td>\n",
       "      <td>-0.022491</td>\n",
       "      <td>0.095142</td>\n",
       "      <td>-0.91480</td>\n",
       "      <td>0.76485</td>\n",
       "      <td>-0.001783</td>\n",
       "      <td>0.087131</td>\n",
       "      <td>-0.52811</td>\n",
       "      <td>0.35950</td>\n",
       "      <td>-0.025233</td>\n",
       "      <td>0.116900</td>\n",
       "      <td>-0.91822</td>\n",
       "      <td>0.97238</td>\n",
       "      <td>0.089153</td>\n",
       "      <td>0.352725</td>\n",
       "      <td>-12.5060</td>\n",
       "      <td>15.0530</td>\n",
       "      <td>0.185963</td>\n",
       "      <td>1.377191</td>\n",
       "      <td>-10.4040</td>\n",
       "      <td>14.5110</td>\n",
       "      <td>2.892481</td>\n",
       "      <td>1.601598</td>\n",
       "      <td>-32.114</td>\n",
       "      <td>12.7350</td>\n",
       "      <td>-9.364265</td>\n",
       "      <td>2.134775</td>\n",
       "    </tr>\n",
       "  </tbody>\n",
       "</table>\n",
       "</div>"
      ],
      "text/plain": [
       "                       orientation_X             ...    linear_acceleration_Z          \n",
       "                                 min      max    ...                     mean       std\n",
       "surface                                          ...                                   \n",
       "carpet                      -0.98859  0.38137    ...                -9.368058  2.288149\n",
       "concrete                    -0.98862  0.98889    ...                -9.356408  3.726617\n",
       "fine_concrete               -0.89089  0.98642    ...                -9.356070  2.047193\n",
       "hard_tiles                   0.46074  0.74929    ...                -9.332681  0.599659\n",
       "hard_tiles_large_space      -0.71222  0.98872    ...                -9.365567  4.866550\n",
       "soft_pvc                    -0.97853  0.98910    ...                -9.386315  1.235721\n",
       "soft_tiles                  -0.96457  0.98874    ...                -9.359474  0.485342\n",
       "tiled                       -0.98910  0.95521    ...                -9.357045  3.489906\n",
       "wood                        -0.98872  0.98865    ...                -9.364265  2.134775\n",
       "\n",
       "[9 rows x 40 columns]"
      ]
     },
     "execution_count": 6,
     "metadata": {},
     "output_type": "execute_result"
    }
   ],
   "source": [
    "metrics"
   ]
  },
  {
   "cell_type": "code",
   "execution_count": 7,
   "metadata": {},
   "outputs": [
    {
     "data": {
      "text/plain": [
       "MultiIndex(levels=[['orientation_X', 'orientation_Y', 'orientation_Z', 'orientation_W', 'angular_velocity_X', 'angular_velocity_Y', 'angular_velocity_Z', 'linear_acceleration_X', 'linear_acceleration_Y', 'linear_acceleration_Z'], ['min', 'max', 'mean', 'std']],\n",
       "           labels=[[0, 0, 0, 0, 1, 1, 1, 1, 2, 2, 2, 2, 3, 3, 3, 3, 4, 4, 4, 4, 5, 5, 5, 5, 6, 6, 6, 6, 7, 7, 7, 7, 8, 8, 8, 8, 9, 9, 9, 9], [0, 1, 2, 3, 0, 1, 2, 3, 0, 1, 2, 3, 0, 1, 2, 3, 0, 1, 2, 3, 0, 1, 2, 3, 0, 1, 2, 3, 0, 1, 2, 3, 0, 1, 2, 3, 0, 1, 2, 3]])"
      ]
     },
     "execution_count": 7,
     "metadata": {},
     "output_type": "execute_result"
    }
   ],
   "source": [
    "metrics.columns"
   ]
  },
  {
   "cell_type": "code",
   "execution_count": 8,
   "metadata": {},
   "outputs": [],
   "source": [
    "def bars(df, col_x, col_y):\n",
    "    return go.Bar(\n",
    "            y=df[col_y],\n",
    "            x=df[col_x],\n",
    "            orientation = 'h',\n",
    "            text=df[col_x],\n",
    "            name=col_x\n",
    "    )"
   ]
  },
  {
   "cell_type": "code",
   "execution_count": 9,
   "metadata": {},
   "outputs": [],
   "source": [
    "metrics_name = ['std', 'mean', 'max', 'min']"
   ]
  },
  {
   "cell_type": "code",
   "execution_count": 10,
   "metadata": {},
   "outputs": [
    {
     "data": {
      "application/vnd.plotly.v1+json": {
       "config": {
        "linkText": "Export to plot.ly",
        "plotlyServerURL": "https://plot.ly",
        "showLink": false
       },
       "data": [
        {
         "name": "std",
         "orientation": "h",
         "text": [
          0.5580903133119656,
          0.7248438556364312,
          0.6285820784736608,
          0.09070669800853408,
          0.5229356520404375,
          0.6122700142207688,
          0.6697826313142445,
          0.589762810793687,
          0.6301215096604772
         ],
         "type": "bar",
         "uid": "f4e5a4bd-aca3-4666-8a0d-deb87b030add",
         "x": [
          0.5580903133119656,
          0.7248438556364312,
          0.6285820784736608,
          0.09070669800853408,
          0.5229356520404375,
          0.6122700142207688,
          0.6697826313142445,
          0.589762810793687,
          0.6301215096604772
         ],
         "y": [
          "carpet",
          "concrete",
          "fine_concrete",
          "hard_tiles",
          "hard_tiles_large_space",
          "soft_pvc",
          "soft_tiles",
          "tiled",
          "wood"
         ]
        },
        {
         "name": "mean",
         "orientation": "h",
         "text": [
          -0.38579370548115266,
          -0.20760698282583548,
          -0.14329015528718958,
          0.6505559598214278,
          0.39316524391750174,
          0.3095701356095574,
          0.27668916327335874,
          -0.27575429512817656,
          -0.13824581760185956
         ],
         "type": "bar",
         "uid": "37d8f5c8-ba9f-4650-9100-9d7250656c5d",
         "x": [
          -0.38579370548115266,
          -0.20760698282583548,
          -0.14329015528718958,
          0.6505559598214278,
          0.39316524391750174,
          0.3095701356095574,
          0.27668916327335874,
          -0.27575429512817656,
          -0.13824581760185956
         ],
         "y": [
          "carpet",
          "concrete",
          "fine_concrete",
          "hard_tiles",
          "hard_tiles_large_space",
          "soft_pvc",
          "soft_tiles",
          "tiled",
          "wood"
         ]
        },
        {
         "name": "max",
         "orientation": "h",
         "text": [
          0.38137,
          0.98889,
          0.98642,
          0.74929,
          0.98872,
          0.9891,
          0.98874,
          0.95521,
          0.98865
         ],
         "type": "bar",
         "uid": "1529b36d-2e15-427e-bfa0-ff7980382131",
         "x": [
          0.38137,
          0.98889,
          0.98642,
          0.74929,
          0.98872,
          0.9891,
          0.98874,
          0.95521,
          0.98865
         ],
         "y": [
          "carpet",
          "concrete",
          "fine_concrete",
          "hard_tiles",
          "hard_tiles_large_space",
          "soft_pvc",
          "soft_tiles",
          "tiled",
          "wood"
         ]
        },
        {
         "name": "min",
         "orientation": "h",
         "text": [
          -0.98859,
          -0.98862,
          -0.89089,
          0.46074,
          -0.71222,
          -0.97853,
          -0.96457,
          -0.9891,
          -0.98872
         ],
         "type": "bar",
         "uid": "2d5594e5-e424-438e-8705-f50dcddd3117",
         "x": [
          -0.98859,
          -0.98862,
          -0.89089,
          0.46074,
          -0.71222,
          -0.97853,
          -0.96457,
          -0.9891,
          -0.98872
         ],
         "y": [
          "carpet",
          "concrete",
          "fine_concrete",
          "hard_tiles",
          "hard_tiles_large_space",
          "soft_pvc",
          "soft_tiles",
          "tiled",
          "wood"
         ]
        }
       ],
       "layout": {
        "height": 600,
        "title": {
         "font": {
          "size": 20
         },
         "text": "Orientation X"
        },
        "width": 800
       }
      },
      "text/html": [
       "<div id=\"08820211-49cd-4cb6-b8f7-08cd0db8df0b\" style=\"height: 600px; width: 800px;\" class=\"plotly-graph-div\"></div><script type=\"text/javascript\">require([\"plotly\"], function(Plotly) { window.PLOTLYENV=window.PLOTLYENV || {};window.PLOTLYENV.BASE_URL=\"https://plot.ly\";\n",
       "if (document.getElementById(\"08820211-49cd-4cb6-b8f7-08cd0db8df0b\")) {\n",
       "    Plotly.newPlot(\"08820211-49cd-4cb6-b8f7-08cd0db8df0b\", [{\"name\": \"std\", \"orientation\": \"h\", \"text\": [0.5580903133119656, 0.7248438556364312, 0.6285820784736608, 0.09070669800853408, 0.5229356520404375, 0.6122700142207688, 0.6697826313142445, 0.589762810793687, 0.6301215096604772], \"x\": [0.5580903133119656, 0.7248438556364312, 0.6285820784736608, 0.09070669800853408, 0.5229356520404375, 0.6122700142207688, 0.6697826313142445, 0.589762810793687, 0.6301215096604772], \"y\": [\"carpet\", \"concrete\", \"fine_concrete\", \"hard_tiles\", \"hard_tiles_large_space\", \"soft_pvc\", \"soft_tiles\", \"tiled\", \"wood\"], \"type\": \"bar\", \"uid\": \"f4e5a4bd-aca3-4666-8a0d-deb87b030add\"}, {\"name\": \"mean\", \"orientation\": \"h\", \"text\": [-0.38579370548115266, -0.20760698282583548, -0.14329015528718958, 0.6505559598214278, 0.39316524391750174, 0.3095701356095574, 0.27668916327335874, -0.27575429512817656, -0.13824581760185956], \"x\": [-0.38579370548115266, -0.20760698282583548, -0.14329015528718958, 0.6505559598214278, 0.39316524391750174, 0.3095701356095574, 0.27668916327335874, -0.27575429512817656, -0.13824581760185956], \"y\": [\"carpet\", \"concrete\", \"fine_concrete\", \"hard_tiles\", \"hard_tiles_large_space\", \"soft_pvc\", \"soft_tiles\", \"tiled\", \"wood\"], \"type\": \"bar\", \"uid\": \"37d8f5c8-ba9f-4650-9100-9d7250656c5d\"}, {\"name\": \"max\", \"orientation\": \"h\", \"text\": [0.38137, 0.98889, 0.98642, 0.74929, 0.98872, 0.9891, 0.98874, 0.95521, 0.98865], \"x\": [0.38137, 0.98889, 0.98642, 0.74929, 0.98872, 0.9891, 0.98874, 0.95521, 0.98865], \"y\": [\"carpet\", \"concrete\", \"fine_concrete\", \"hard_tiles\", \"hard_tiles_large_space\", \"soft_pvc\", \"soft_tiles\", \"tiled\", \"wood\"], \"type\": \"bar\", \"uid\": \"1529b36d-2e15-427e-bfa0-ff7980382131\"}, {\"name\": \"min\", \"orientation\": \"h\", \"text\": [-0.98859, -0.98862, -0.89089, 0.46074, -0.71222, -0.97853, -0.96457, -0.9891, -0.98872], \"x\": [-0.98859, -0.98862, -0.89089, 0.46074, -0.71222, -0.97853, -0.96457, -0.9891, -0.98872], \"y\": [\"carpet\", \"concrete\", \"fine_concrete\", \"hard_tiles\", \"hard_tiles_large_space\", \"soft_pvc\", \"soft_tiles\", \"tiled\", \"wood\"], \"type\": \"bar\", \"uid\": \"2d5594e5-e424-438e-8705-f50dcddd3117\"}], {\"height\": 600, \"title\": {\"font\": {\"size\": 20}, \"text\": \"Orientation X\"}, \"width\": 800}, {\"showLink\": false, \"linkText\": \"Export to plot.ly\", \"plotlyServerURL\": \"https://plot.ly\"}); \n",
       "}\n",
       "});</script>"
      ],
      "text/vnd.plotly.v1+html": [
       "<div id=\"08820211-49cd-4cb6-b8f7-08cd0db8df0b\" style=\"height: 600px; width: 800px;\" class=\"plotly-graph-div\"></div><script type=\"text/javascript\">require([\"plotly\"], function(Plotly) { window.PLOTLYENV=window.PLOTLYENV || {};window.PLOTLYENV.BASE_URL=\"https://plot.ly\";\n",
       "if (document.getElementById(\"08820211-49cd-4cb6-b8f7-08cd0db8df0b\")) {\n",
       "    Plotly.newPlot(\"08820211-49cd-4cb6-b8f7-08cd0db8df0b\", [{\"name\": \"std\", \"orientation\": \"h\", \"text\": [0.5580903133119656, 0.7248438556364312, 0.6285820784736608, 0.09070669800853408, 0.5229356520404375, 0.6122700142207688, 0.6697826313142445, 0.589762810793687, 0.6301215096604772], \"x\": [0.5580903133119656, 0.7248438556364312, 0.6285820784736608, 0.09070669800853408, 0.5229356520404375, 0.6122700142207688, 0.6697826313142445, 0.589762810793687, 0.6301215096604772], \"y\": [\"carpet\", \"concrete\", \"fine_concrete\", \"hard_tiles\", \"hard_tiles_large_space\", \"soft_pvc\", \"soft_tiles\", \"tiled\", \"wood\"], \"type\": \"bar\", \"uid\": \"f4e5a4bd-aca3-4666-8a0d-deb87b030add\"}, {\"name\": \"mean\", \"orientation\": \"h\", \"text\": [-0.38579370548115266, -0.20760698282583548, -0.14329015528718958, 0.6505559598214278, 0.39316524391750174, 0.3095701356095574, 0.27668916327335874, -0.27575429512817656, -0.13824581760185956], \"x\": [-0.38579370548115266, -0.20760698282583548, -0.14329015528718958, 0.6505559598214278, 0.39316524391750174, 0.3095701356095574, 0.27668916327335874, -0.27575429512817656, -0.13824581760185956], \"y\": [\"carpet\", \"concrete\", \"fine_concrete\", \"hard_tiles\", \"hard_tiles_large_space\", \"soft_pvc\", \"soft_tiles\", \"tiled\", \"wood\"], \"type\": \"bar\", \"uid\": \"37d8f5c8-ba9f-4650-9100-9d7250656c5d\"}, {\"name\": \"max\", \"orientation\": \"h\", \"text\": [0.38137, 0.98889, 0.98642, 0.74929, 0.98872, 0.9891, 0.98874, 0.95521, 0.98865], \"x\": [0.38137, 0.98889, 0.98642, 0.74929, 0.98872, 0.9891, 0.98874, 0.95521, 0.98865], \"y\": [\"carpet\", \"concrete\", \"fine_concrete\", \"hard_tiles\", \"hard_tiles_large_space\", \"soft_pvc\", \"soft_tiles\", \"tiled\", \"wood\"], \"type\": \"bar\", \"uid\": \"1529b36d-2e15-427e-bfa0-ff7980382131\"}, {\"name\": \"min\", \"orientation\": \"h\", \"text\": [-0.98859, -0.98862, -0.89089, 0.46074, -0.71222, -0.97853, -0.96457, -0.9891, -0.98872], \"x\": [-0.98859, -0.98862, -0.89089, 0.46074, -0.71222, -0.97853, -0.96457, -0.9891, -0.98872], \"y\": [\"carpet\", \"concrete\", \"fine_concrete\", \"hard_tiles\", \"hard_tiles_large_space\", \"soft_pvc\", \"soft_tiles\", \"tiled\", \"wood\"], \"type\": \"bar\", \"uid\": \"2d5594e5-e424-438e-8705-f50dcddd3117\"}], {\"height\": 600, \"title\": {\"font\": {\"size\": 20}, \"text\": \"Orientation X\"}, \"width\": 800}, {\"showLink\": false, \"linkText\": \"Export to plot.ly\", \"plotlyServerURL\": \"https://plot.ly\"}); \n",
       "}\n",
       "});</script>"
      ]
     },
     "metadata": {},
     "output_type": "display_data"
    }
   ],
   "source": [
    "orientation_x = metrics.orientation_X\n",
    "orientation_x['surface'] = surfaces\n",
    "\n",
    "data = []\n",
    "\n",
    "for m in metrics_name:\n",
    "    data.append(bars(orientation_x, m, 'surface'))\n",
    "\n",
    "layout = go.Layout(\n",
    "    title='Orientation X',\n",
    "    titlefont=dict(size=20),\n",
    "    width=800,\n",
    "    height=600\n",
    ")\n",
    "\n",
    "fig = go.Figure(data=data, layout=layout)\n",
    "\n",
    "iplot(fig)"
   ]
  },
  {
   "cell_type": "code",
   "execution_count": 11,
   "metadata": {},
   "outputs": [
    {
     "data": {
      "application/vnd.plotly.v1+json": {
       "config": {
        "linkText": "Export to plot.ly",
        "plotlyServerURL": "https://plot.ly",
        "showLink": false
       },
       "data": [
        {
         "name": "std",
         "orientation": "h",
         "text": [
          0.680656340987338,
          0.6346561168750137,
          0.7255137841371276,
          0.07592466471340986,
          0.7324094327474145,
          0.7126558401156984,
          0.6724566096142237,
          0.740189300292924,
          0.7193457353691458
         ],
         "type": "bar",
         "uid": "61ef0b14-637c-48e5-a981-cfe72006e991",
         "x": [
          0.680656340987338,
          0.6346561168750137,
          0.7255137841371276,
          0.07592466471340986,
          0.7324094327474145,
          0.7126558401156984,
          0.6724566096142237,
          0.740189300292924,
          0.7193457353691458
         ],
         "y": [
          "carpet",
          "concrete",
          "fine_concrete",
          "hard_tiles",
          "hard_tiles_large_space",
          "soft_pvc",
          "soft_tiles",
          "tiled",
          "wood"
         ]
        },
        {
         "name": "mean",
         "orientation": "h",
         "text": [
          0.2328768258554443,
          0.07893235343891675,
          0.18815145712809916,
          -0.7351137686011899,
          -0.1136443761327133,
          -0.011456610371541448,
          0.01778571217908244,
          0.07500293547319196,
          0.20951798327580418
         ],
         "type": "bar",
         "uid": "604421ef-69fe-4218-8ba2-224e4b2e6d65",
         "x": [
          0.2328768258554443,
          0.07893235343891675,
          0.18815145712809916,
          -0.7351137686011899,
          -0.1136443761327133,
          -0.011456610371541448,
          0.01778571217908244,
          0.07500293547319196,
          0.20951798327580418
         ],
         "y": [
          "carpet",
          "concrete",
          "fine_concrete",
          "hard_tiles",
          "hard_tiles_large_space",
          "soft_pvc",
          "soft_tiles",
          "tiled",
          "wood"
         ]
        },
        {
         "name": "max",
         "orientation": "h",
         "text": [
          0.98207,
          0.98898,
          0.98866,
          -0.64475,
          0.9884,
          0.98865,
          0.98876,
          0.98747,
          0.98893
         ],
         "type": "bar",
         "uid": "8f6febed-46b0-45cc-b812-31c29696f56c",
         "x": [
          0.98207,
          0.98898,
          0.98866,
          -0.64475,
          0.9884,
          0.98865,
          0.98876,
          0.98747,
          0.98893
         ],
         "y": [
          "carpet",
          "concrete",
          "fine_concrete",
          "hard_tiles",
          "hard_tiles_large_space",
          "soft_pvc",
          "soft_tiles",
          "tiled",
          "wood"
         ]
        },
        {
         "name": "min",
         "orientation": "h",
         "text": [
          -0.98905,
          -0.96579,
          -0.98866,
          -0.8750700000000001,
          -0.98965,
          -0.91465,
          -0.96176,
          -0.98908,
          -0.98883
         ],
         "type": "bar",
         "uid": "c3e60fd8-b43a-47a6-920c-a4e27e6743a0",
         "x": [
          -0.98905,
          -0.96579,
          -0.98866,
          -0.8750700000000001,
          -0.98965,
          -0.91465,
          -0.96176,
          -0.98908,
          -0.98883
         ],
         "y": [
          "carpet",
          "concrete",
          "fine_concrete",
          "hard_tiles",
          "hard_tiles_large_space",
          "soft_pvc",
          "soft_tiles",
          "tiled",
          "wood"
         ]
        }
       ],
       "layout": {
        "height": 600,
        "title": {
         "font": {
          "size": 20
         },
         "text": "Orientation Y"
        },
        "width": 800
       }
      },
      "text/html": [
       "<div id=\"27c80021-06e0-4178-a20e-47e2bbac86c6\" style=\"height: 600px; width: 800px;\" class=\"plotly-graph-div\"></div><script type=\"text/javascript\">require([\"plotly\"], function(Plotly) { window.PLOTLYENV=window.PLOTLYENV || {};window.PLOTLYENV.BASE_URL=\"https://plot.ly\";\n",
       "if (document.getElementById(\"27c80021-06e0-4178-a20e-47e2bbac86c6\")) {\n",
       "    Plotly.newPlot(\"27c80021-06e0-4178-a20e-47e2bbac86c6\", [{\"name\": \"std\", \"orientation\": \"h\", \"text\": [0.680656340987338, 0.6346561168750137, 0.7255137841371276, 0.07592466471340986, 0.7324094327474145, 0.7126558401156984, 0.6724566096142237, 0.740189300292924, 0.7193457353691458], \"x\": [0.680656340987338, 0.6346561168750137, 0.7255137841371276, 0.07592466471340986, 0.7324094327474145, 0.7126558401156984, 0.6724566096142237, 0.740189300292924, 0.7193457353691458], \"y\": [\"carpet\", \"concrete\", \"fine_concrete\", \"hard_tiles\", \"hard_tiles_large_space\", \"soft_pvc\", \"soft_tiles\", \"tiled\", \"wood\"], \"type\": \"bar\", \"uid\": \"61ef0b14-637c-48e5-a981-cfe72006e991\"}, {\"name\": \"mean\", \"orientation\": \"h\", \"text\": [0.2328768258554443, 0.07893235343891675, 0.18815145712809916, -0.7351137686011899, -0.1136443761327133, -0.011456610371541448, 0.01778571217908244, 0.07500293547319196, 0.20951798327580418], \"x\": [0.2328768258554443, 0.07893235343891675, 0.18815145712809916, -0.7351137686011899, -0.1136443761327133, -0.011456610371541448, 0.01778571217908244, 0.07500293547319196, 0.20951798327580418], \"y\": [\"carpet\", \"concrete\", \"fine_concrete\", \"hard_tiles\", \"hard_tiles_large_space\", \"soft_pvc\", \"soft_tiles\", \"tiled\", \"wood\"], \"type\": \"bar\", \"uid\": \"604421ef-69fe-4218-8ba2-224e4b2e6d65\"}, {\"name\": \"max\", \"orientation\": \"h\", \"text\": [0.98207, 0.98898, 0.98866, -0.64475, 0.9884, 0.98865, 0.98876, 0.98747, 0.98893], \"x\": [0.98207, 0.98898, 0.98866, -0.64475, 0.9884, 0.98865, 0.98876, 0.98747, 0.98893], \"y\": [\"carpet\", \"concrete\", \"fine_concrete\", \"hard_tiles\", \"hard_tiles_large_space\", \"soft_pvc\", \"soft_tiles\", \"tiled\", \"wood\"], \"type\": \"bar\", \"uid\": \"8f6febed-46b0-45cc-b812-31c29696f56c\"}, {\"name\": \"min\", \"orientation\": \"h\", \"text\": [-0.98905, -0.96579, -0.98866, -0.8750700000000001, -0.98965, -0.91465, -0.96176, -0.98908, -0.98883], \"x\": [-0.98905, -0.96579, -0.98866, -0.8750700000000001, -0.98965, -0.91465, -0.96176, -0.98908, -0.98883], \"y\": [\"carpet\", \"concrete\", \"fine_concrete\", \"hard_tiles\", \"hard_tiles_large_space\", \"soft_pvc\", \"soft_tiles\", \"tiled\", \"wood\"], \"type\": \"bar\", \"uid\": \"c3e60fd8-b43a-47a6-920c-a4e27e6743a0\"}], {\"height\": 600, \"title\": {\"font\": {\"size\": 20}, \"text\": \"Orientation Y\"}, \"width\": 800}, {\"showLink\": false, \"linkText\": \"Export to plot.ly\", \"plotlyServerURL\": \"https://plot.ly\"}); \n",
       "}\n",
       "});</script>"
      ],
      "text/vnd.plotly.v1+html": [
       "<div id=\"27c80021-06e0-4178-a20e-47e2bbac86c6\" style=\"height: 600px; width: 800px;\" class=\"plotly-graph-div\"></div><script type=\"text/javascript\">require([\"plotly\"], function(Plotly) { window.PLOTLYENV=window.PLOTLYENV || {};window.PLOTLYENV.BASE_URL=\"https://plot.ly\";\n",
       "if (document.getElementById(\"27c80021-06e0-4178-a20e-47e2bbac86c6\")) {\n",
       "    Plotly.newPlot(\"27c80021-06e0-4178-a20e-47e2bbac86c6\", [{\"name\": \"std\", \"orientation\": \"h\", \"text\": [0.680656340987338, 0.6346561168750137, 0.7255137841371276, 0.07592466471340986, 0.7324094327474145, 0.7126558401156984, 0.6724566096142237, 0.740189300292924, 0.7193457353691458], \"x\": [0.680656340987338, 0.6346561168750137, 0.7255137841371276, 0.07592466471340986, 0.7324094327474145, 0.7126558401156984, 0.6724566096142237, 0.740189300292924, 0.7193457353691458], \"y\": [\"carpet\", \"concrete\", \"fine_concrete\", \"hard_tiles\", \"hard_tiles_large_space\", \"soft_pvc\", \"soft_tiles\", \"tiled\", \"wood\"], \"type\": \"bar\", \"uid\": \"61ef0b14-637c-48e5-a981-cfe72006e991\"}, {\"name\": \"mean\", \"orientation\": \"h\", \"text\": [0.2328768258554443, 0.07893235343891675, 0.18815145712809916, -0.7351137686011899, -0.1136443761327133, -0.011456610371541448, 0.01778571217908244, 0.07500293547319196, 0.20951798327580418], \"x\": [0.2328768258554443, 0.07893235343891675, 0.18815145712809916, -0.7351137686011899, -0.1136443761327133, -0.011456610371541448, 0.01778571217908244, 0.07500293547319196, 0.20951798327580418], \"y\": [\"carpet\", \"concrete\", \"fine_concrete\", \"hard_tiles\", \"hard_tiles_large_space\", \"soft_pvc\", \"soft_tiles\", \"tiled\", \"wood\"], \"type\": \"bar\", \"uid\": \"604421ef-69fe-4218-8ba2-224e4b2e6d65\"}, {\"name\": \"max\", \"orientation\": \"h\", \"text\": [0.98207, 0.98898, 0.98866, -0.64475, 0.9884, 0.98865, 0.98876, 0.98747, 0.98893], \"x\": [0.98207, 0.98898, 0.98866, -0.64475, 0.9884, 0.98865, 0.98876, 0.98747, 0.98893], \"y\": [\"carpet\", \"concrete\", \"fine_concrete\", \"hard_tiles\", \"hard_tiles_large_space\", \"soft_pvc\", \"soft_tiles\", \"tiled\", \"wood\"], \"type\": \"bar\", \"uid\": \"8f6febed-46b0-45cc-b812-31c29696f56c\"}, {\"name\": \"min\", \"orientation\": \"h\", \"text\": [-0.98905, -0.96579, -0.98866, -0.8750700000000001, -0.98965, -0.91465, -0.96176, -0.98908, -0.98883], \"x\": [-0.98905, -0.96579, -0.98866, -0.8750700000000001, -0.98965, -0.91465, -0.96176, -0.98908, -0.98883], \"y\": [\"carpet\", \"concrete\", \"fine_concrete\", \"hard_tiles\", \"hard_tiles_large_space\", \"soft_pvc\", \"soft_tiles\", \"tiled\", \"wood\"], \"type\": \"bar\", \"uid\": \"c3e60fd8-b43a-47a6-920c-a4e27e6743a0\"}], {\"height\": 600, \"title\": {\"font\": {\"size\": 20}, \"text\": \"Orientation Y\"}, \"width\": 800}, {\"showLink\": false, \"linkText\": \"Export to plot.ly\", \"plotlyServerURL\": \"https://plot.ly\"}); \n",
       "}\n",
       "});</script>"
      ]
     },
     "metadata": {},
     "output_type": "display_data"
    }
   ],
   "source": [
    "orientation_y = metrics.orientation_Y\n",
    "orientation_y['surface'] = surfaces\n",
    "\n",
    "data = []\n",
    "\n",
    "for m in metrics_name:\n",
    "    data.append(bars(orientation_y, m, 'surface'))\n",
    "\n",
    "layout = go.Layout(\n",
    "    title='Orientation Y',\n",
    "    titlefont=dict(size=20),\n",
    "    width=800,\n",
    "    height=600\n",
    ")\n",
    "\n",
    "fig = go.Figure(data=data, layout=layout)\n",
    "\n",
    "iplot(fig)"
   ]
  },
  {
   "cell_type": "code",
   "execution_count": 12,
   "metadata": {},
   "outputs": [
    {
     "data": {
      "application/vnd.plotly.v1+json": {
       "config": {
        "linkText": "Export to plot.ly",
        "plotlyServerURL": "https://plot.ly",
        "showLink": false
       },
       "data": [
        {
         "name": "std",
         "orientation": "h",
         "text": [
          0.10384330433196431,
          0.09518109101063192,
          0.1114107645495673,
          0.011803368304722044,
          0.11301037894219287,
          0.10257605026829336,
          0.10033310469036762,
          0.11095211413591134,
          0.10941874258715333
         ],
         "type": "bar",
         "uid": "31573f06-455a-4c38-a9b5-d7a886864433",
         "x": [
          0.10384330433196431,
          0.09518109101063192,
          0.1114107645495673,
          0.011803368304722044,
          0.11301037894219287,
          0.10257605026829336,
          0.10033310469036762,
          0.11095211413591134,
          0.10941874258715333
         ],
         "y": [
          "carpet",
          "concrete",
          "fine_concrete",
          "hard_tiles",
          "hard_tiles_large_space",
          "soft_pvc",
          "soft_tiles",
          "tiled",
          "wood"
         ]
        },
        {
         "name": "mean",
         "orientation": "h",
         "text": [
          0.03250585251455439,
          0.010350933960985648,
          0.028500649599690103,
          -0.10620572135416681,
          -0.01486617915764542,
          0.005433229750117538,
          0.0045242647667297865,
          0.010868717492775347,
          0.030992944197656268
         ],
         "type": "bar",
         "uid": "4d8e87ad-aa36-46ed-ae84-e3d3560d2dde",
         "x": [
          0.03250585251455439,
          0.010350933960985648,
          0.028500649599690103,
          -0.10620572135416681,
          -0.01486617915764542,
          0.005433229750117538,
          0.0045242647667297865,
          0.010868717492775347,
          0.030992944197656268
         ],
         "y": [
          "carpet",
          "concrete",
          "fine_concrete",
          "hard_tiles",
          "hard_tiles_large_space",
          "soft_pvc",
          "soft_tiles",
          "tiled",
          "wood"
         ]
        },
        {
         "name": "max",
         "orientation": "h",
         "text": [
          0.15566,
          0.14837999999999998,
          0.15147,
          -0.092761,
          0.15065,
          0.15264,
          0.15009,
          0.15175999999999998,
          0.15571
         ],
         "type": "bar",
         "uid": "d112032b-1be3-4e9b-936b-cd392469c77e",
         "x": [
          0.15566,
          0.14837999999999998,
          0.15147,
          -0.092761,
          0.15065,
          0.15264,
          0.15009,
          0.15175999999999998,
          0.15571
         ],
         "y": [
          "carpet",
          "concrete",
          "fine_concrete",
          "hard_tiles",
          "hard_tiles_large_space",
          "soft_pvc",
          "soft_tiles",
          "tiled",
          "wood"
         ]
        },
        {
         "name": "min",
         "orientation": "h",
         "text": [
          -0.15054,
          -0.14873,
          -0.15396,
          -0.12841,
          -0.15189,
          -0.16283,
          -0.14454,
          -0.15100999999999998,
          -0.15023
         ],
         "type": "bar",
         "uid": "b0d70d5d-620d-45f7-90be-14f3ac6fd79a",
         "x": [
          -0.15054,
          -0.14873,
          -0.15396,
          -0.12841,
          -0.15189,
          -0.16283,
          -0.14454,
          -0.15100999999999998,
          -0.15023
         ],
         "y": [
          "carpet",
          "concrete",
          "fine_concrete",
          "hard_tiles",
          "hard_tiles_large_space",
          "soft_pvc",
          "soft_tiles",
          "tiled",
          "wood"
         ]
        }
       ],
       "layout": {
        "height": 600,
        "title": {
         "font": {
          "size": 20
         },
         "text": "Orientation Z"
        },
        "width": 800
       }
      },
      "text/html": [
       "<div id=\"271f7aa9-6bc7-4dc3-95f1-f1813dd30b8e\" style=\"height: 600px; width: 800px;\" class=\"plotly-graph-div\"></div><script type=\"text/javascript\">require([\"plotly\"], function(Plotly) { window.PLOTLYENV=window.PLOTLYENV || {};window.PLOTLYENV.BASE_URL=\"https://plot.ly\";\n",
       "if (document.getElementById(\"271f7aa9-6bc7-4dc3-95f1-f1813dd30b8e\")) {\n",
       "    Plotly.newPlot(\"271f7aa9-6bc7-4dc3-95f1-f1813dd30b8e\", [{\"name\": \"std\", \"orientation\": \"h\", \"text\": [0.10384330433196431, 0.09518109101063192, 0.1114107645495673, 0.011803368304722044, 0.11301037894219287, 0.10257605026829336, 0.10033310469036762, 0.11095211413591134, 0.10941874258715333], \"x\": [0.10384330433196431, 0.09518109101063192, 0.1114107645495673, 0.011803368304722044, 0.11301037894219287, 0.10257605026829336, 0.10033310469036762, 0.11095211413591134, 0.10941874258715333], \"y\": [\"carpet\", \"concrete\", \"fine_concrete\", \"hard_tiles\", \"hard_tiles_large_space\", \"soft_pvc\", \"soft_tiles\", \"tiled\", \"wood\"], \"type\": \"bar\", \"uid\": \"31573f06-455a-4c38-a9b5-d7a886864433\"}, {\"name\": \"mean\", \"orientation\": \"h\", \"text\": [0.03250585251455439, 0.010350933960985648, 0.028500649599690103, -0.10620572135416681, -0.01486617915764542, 0.005433229750117538, 0.0045242647667297865, 0.010868717492775347, 0.030992944197656268], \"x\": [0.03250585251455439, 0.010350933960985648, 0.028500649599690103, -0.10620572135416681, -0.01486617915764542, 0.005433229750117538, 0.0045242647667297865, 0.010868717492775347, 0.030992944197656268], \"y\": [\"carpet\", \"concrete\", \"fine_concrete\", \"hard_tiles\", \"hard_tiles_large_space\", \"soft_pvc\", \"soft_tiles\", \"tiled\", \"wood\"], \"type\": \"bar\", \"uid\": \"4d8e87ad-aa36-46ed-ae84-e3d3560d2dde\"}, {\"name\": \"max\", \"orientation\": \"h\", \"text\": [0.15566, 0.14837999999999998, 0.15147, -0.092761, 0.15065, 0.15264, 0.15009, 0.15175999999999998, 0.15571], \"x\": [0.15566, 0.14837999999999998, 0.15147, -0.092761, 0.15065, 0.15264, 0.15009, 0.15175999999999998, 0.15571], \"y\": [\"carpet\", \"concrete\", \"fine_concrete\", \"hard_tiles\", \"hard_tiles_large_space\", \"soft_pvc\", \"soft_tiles\", \"tiled\", \"wood\"], \"type\": \"bar\", \"uid\": \"d112032b-1be3-4e9b-936b-cd392469c77e\"}, {\"name\": \"min\", \"orientation\": \"h\", \"text\": [-0.15054, -0.14873, -0.15396, -0.12841, -0.15189, -0.16283, -0.14454, -0.15100999999999998, -0.15023], \"x\": [-0.15054, -0.14873, -0.15396, -0.12841, -0.15189, -0.16283, -0.14454, -0.15100999999999998, -0.15023], \"y\": [\"carpet\", \"concrete\", \"fine_concrete\", \"hard_tiles\", \"hard_tiles_large_space\", \"soft_pvc\", \"soft_tiles\", \"tiled\", \"wood\"], \"type\": \"bar\", \"uid\": \"b0d70d5d-620d-45f7-90be-14f3ac6fd79a\"}], {\"height\": 600, \"title\": {\"font\": {\"size\": 20}, \"text\": \"Orientation Z\"}, \"width\": 800}, {\"showLink\": false, \"linkText\": \"Export to plot.ly\", \"plotlyServerURL\": \"https://plot.ly\"}); \n",
       "}\n",
       "});</script>"
      ],
      "text/vnd.plotly.v1+html": [
       "<div id=\"271f7aa9-6bc7-4dc3-95f1-f1813dd30b8e\" style=\"height: 600px; width: 800px;\" class=\"plotly-graph-div\"></div><script type=\"text/javascript\">require([\"plotly\"], function(Plotly) { window.PLOTLYENV=window.PLOTLYENV || {};window.PLOTLYENV.BASE_URL=\"https://plot.ly\";\n",
       "if (document.getElementById(\"271f7aa9-6bc7-4dc3-95f1-f1813dd30b8e\")) {\n",
       "    Plotly.newPlot(\"271f7aa9-6bc7-4dc3-95f1-f1813dd30b8e\", [{\"name\": \"std\", \"orientation\": \"h\", \"text\": [0.10384330433196431, 0.09518109101063192, 0.1114107645495673, 0.011803368304722044, 0.11301037894219287, 0.10257605026829336, 0.10033310469036762, 0.11095211413591134, 0.10941874258715333], \"x\": [0.10384330433196431, 0.09518109101063192, 0.1114107645495673, 0.011803368304722044, 0.11301037894219287, 0.10257605026829336, 0.10033310469036762, 0.11095211413591134, 0.10941874258715333], \"y\": [\"carpet\", \"concrete\", \"fine_concrete\", \"hard_tiles\", \"hard_tiles_large_space\", \"soft_pvc\", \"soft_tiles\", \"tiled\", \"wood\"], \"type\": \"bar\", \"uid\": \"31573f06-455a-4c38-a9b5-d7a886864433\"}, {\"name\": \"mean\", \"orientation\": \"h\", \"text\": [0.03250585251455439, 0.010350933960985648, 0.028500649599690103, -0.10620572135416681, -0.01486617915764542, 0.005433229750117538, 0.0045242647667297865, 0.010868717492775347, 0.030992944197656268], \"x\": [0.03250585251455439, 0.010350933960985648, 0.028500649599690103, -0.10620572135416681, -0.01486617915764542, 0.005433229750117538, 0.0045242647667297865, 0.010868717492775347, 0.030992944197656268], \"y\": [\"carpet\", \"concrete\", \"fine_concrete\", \"hard_tiles\", \"hard_tiles_large_space\", \"soft_pvc\", \"soft_tiles\", \"tiled\", \"wood\"], \"type\": \"bar\", \"uid\": \"4d8e87ad-aa36-46ed-ae84-e3d3560d2dde\"}, {\"name\": \"max\", \"orientation\": \"h\", \"text\": [0.15566, 0.14837999999999998, 0.15147, -0.092761, 0.15065, 0.15264, 0.15009, 0.15175999999999998, 0.15571], \"x\": [0.15566, 0.14837999999999998, 0.15147, -0.092761, 0.15065, 0.15264, 0.15009, 0.15175999999999998, 0.15571], \"y\": [\"carpet\", \"concrete\", \"fine_concrete\", \"hard_tiles\", \"hard_tiles_large_space\", \"soft_pvc\", \"soft_tiles\", \"tiled\", \"wood\"], \"type\": \"bar\", \"uid\": \"d112032b-1be3-4e9b-936b-cd392469c77e\"}, {\"name\": \"min\", \"orientation\": \"h\", \"text\": [-0.15054, -0.14873, -0.15396, -0.12841, -0.15189, -0.16283, -0.14454, -0.15100999999999998, -0.15023], \"x\": [-0.15054, -0.14873, -0.15396, -0.12841, -0.15189, -0.16283, -0.14454, -0.15100999999999998, -0.15023], \"y\": [\"carpet\", \"concrete\", \"fine_concrete\", \"hard_tiles\", \"hard_tiles_large_space\", \"soft_pvc\", \"soft_tiles\", \"tiled\", \"wood\"], \"type\": \"bar\", \"uid\": \"b0d70d5d-620d-45f7-90be-14f3ac6fd79a\"}], {\"height\": 600, \"title\": {\"font\": {\"size\": 20}, \"text\": \"Orientation Z\"}, \"width\": 800}, {\"showLink\": false, \"linkText\": \"Export to plot.ly\", \"plotlyServerURL\": \"https://plot.ly\"}); \n",
       "}\n",
       "});</script>"
      ]
     },
     "metadata": {},
     "output_type": "display_data"
    }
   ],
   "source": [
    "orientation_Z = metrics.orientation_Z\n",
    "orientation_Z['surface'] = surfaces\n",
    "\n",
    "data = []\n",
    "\n",
    "for m in metrics_name:\n",
    "    data.append(bars(orientation_Z, m, 'surface'))\n",
    "\n",
    "layout = go.Layout(\n",
    "    title='Orientation Z',\n",
    "    titlefont=dict(size=20),\n",
    "    width=800,\n",
    "    height=600\n",
    ")\n",
    "\n",
    "fig = go.Figure(data=data, layout=layout)\n",
    "\n",
    "iplot(fig)"
   ]
  },
  {
   "cell_type": "code",
   "execution_count": 13,
   "metadata": {},
   "outputs": [
    {
     "data": {
      "application/vnd.plotly.v1+json": {
       "config": {
        "linkText": "Export to plot.ly",
        "plotlyServerURL": "https://plot.ly",
        "showLink": false
       },
       "data": [
        {
         "name": "std",
         "orientation": "h",
         "text": [
          0.08202688790326663,
          0.11087831470296587,
          0.09437501989210785,
          0.01412141764088276,
          0.07723257816660078,
          0.09414225823707364,
          0.10242528850442763,
          0.09191066323717159,
          0.09514208357601507
         ],
         "type": "bar",
         "uid": "fc6faaf4-da7d-4af9-8ba7-4a29963c2e83",
         "x": [
          0.08202688790326663,
          0.11087831470296587,
          0.09437501989210785,
          0.01412141764088276,
          0.07723257816660078,
          0.09414225823707364,
          0.10242528850442763,
          0.09191066323717159,
          0.09514208357601507
         ],
         "y": [
          "carpet",
          "concrete",
          "fine_concrete",
          "hard_tiles",
          "hard_tiles_large_space",
          "soft_pvc",
          "soft_tiles",
          "tiled",
          "wood"
         ]
        },
        {
         "name": "mean",
         "orientation": "h",
         "text": [
          -0.06031509166584389,
          -0.032106644410265076,
          -0.021683156316919826,
          0.10382363392857134,
          0.060699474475314964,
          0.04333123022936968,
          0.04202545011104763,
          -0.042089857707410284,
          -0.022491269313178013
         ],
         "type": "bar",
         "uid": "8c441ae8-f7b6-48e1-b05e-4dbefd6e23f7",
         "x": [
          -0.06031509166584389,
          -0.032106644410265076,
          -0.021683156316919826,
          0.10382363392857134,
          0.060699474475314964,
          0.04333123022936968,
          0.04202545011104763,
          -0.042089857707410284,
          -0.022491269313178013
         ],
         "y": [
          "carpet",
          "concrete",
          "fine_concrete",
          "hard_tiles",
          "hard_tiles_large_space",
          "soft_pvc",
          "soft_tiles",
          "tiled",
          "wood"
         ]
        },
        {
         "name": "max",
         "orientation": "h",
         "text": [
          0.052329,
          0.15154,
          0.15477,
          0.11902,
          0.15187,
          0.14957,
          0.14985,
          0.15395,
          0.1515
         ],
         "type": "bar",
         "uid": "d2800fcb-00fe-4916-9a1a-4d8ab85e98da",
         "x": [
          0.052329,
          0.15154,
          0.15477,
          0.11902,
          0.15187,
          0.14957,
          0.14985,
          0.15395,
          0.1515
         ],
         "y": [
          "carpet",
          "concrete",
          "fine_concrete",
          "hard_tiles",
          "hard_tiles_large_space",
          "soft_pvc",
          "soft_tiles",
          "tiled",
          "wood"
         ]
        },
        {
         "name": "min",
         "orientation": "h",
         "text": [
          -0.15345,
          -0.15186,
          -0.13772,
          0.074212,
          -0.12019,
          -0.14777,
          -0.14744000000000002,
          -0.15662,
          -0.1534
         ],
         "type": "bar",
         "uid": "1e9b1bda-2aac-4ee4-ab69-07edea29e594",
         "x": [
          -0.15345,
          -0.15186,
          -0.13772,
          0.074212,
          -0.12019,
          -0.14777,
          -0.14744000000000002,
          -0.15662,
          -0.1534
         ],
         "y": [
          "carpet",
          "concrete",
          "fine_concrete",
          "hard_tiles",
          "hard_tiles_large_space",
          "soft_pvc",
          "soft_tiles",
          "tiled",
          "wood"
         ]
        }
       ],
       "layout": {
        "height": 600,
        "title": {
         "font": {
          "size": 20
         },
         "text": "Orientation W"
        },
        "width": 800
       }
      },
      "text/html": [
       "<div id=\"c4d103a2-2a03-4bd7-8376-831d81a6e85c\" style=\"height: 600px; width: 800px;\" class=\"plotly-graph-div\"></div><script type=\"text/javascript\">require([\"plotly\"], function(Plotly) { window.PLOTLYENV=window.PLOTLYENV || {};window.PLOTLYENV.BASE_URL=\"https://plot.ly\";\n",
       "if (document.getElementById(\"c4d103a2-2a03-4bd7-8376-831d81a6e85c\")) {\n",
       "    Plotly.newPlot(\"c4d103a2-2a03-4bd7-8376-831d81a6e85c\", [{\"name\": \"std\", \"orientation\": \"h\", \"text\": [0.08202688790326663, 0.11087831470296587, 0.09437501989210785, 0.01412141764088276, 0.07723257816660078, 0.09414225823707364, 0.10242528850442763, 0.09191066323717159, 0.09514208357601507], \"x\": [0.08202688790326663, 0.11087831470296587, 0.09437501989210785, 0.01412141764088276, 0.07723257816660078, 0.09414225823707364, 0.10242528850442763, 0.09191066323717159, 0.09514208357601507], \"y\": [\"carpet\", \"concrete\", \"fine_concrete\", \"hard_tiles\", \"hard_tiles_large_space\", \"soft_pvc\", \"soft_tiles\", \"tiled\", \"wood\"], \"type\": \"bar\", \"uid\": \"fc6faaf4-da7d-4af9-8ba7-4a29963c2e83\"}, {\"name\": \"mean\", \"orientation\": \"h\", \"text\": [-0.06031509166584389, -0.032106644410265076, -0.021683156316919826, 0.10382363392857134, 0.060699474475314964, 0.04333123022936968, 0.04202545011104763, -0.042089857707410284, -0.022491269313178013], \"x\": [-0.06031509166584389, -0.032106644410265076, -0.021683156316919826, 0.10382363392857134, 0.060699474475314964, 0.04333123022936968, 0.04202545011104763, -0.042089857707410284, -0.022491269313178013], \"y\": [\"carpet\", \"concrete\", \"fine_concrete\", \"hard_tiles\", \"hard_tiles_large_space\", \"soft_pvc\", \"soft_tiles\", \"tiled\", \"wood\"], \"type\": \"bar\", \"uid\": \"8c441ae8-f7b6-48e1-b05e-4dbefd6e23f7\"}, {\"name\": \"max\", \"orientation\": \"h\", \"text\": [0.052329, 0.15154, 0.15477, 0.11902, 0.15187, 0.14957, 0.14985, 0.15395, 0.1515], \"x\": [0.052329, 0.15154, 0.15477, 0.11902, 0.15187, 0.14957, 0.14985, 0.15395, 0.1515], \"y\": [\"carpet\", \"concrete\", \"fine_concrete\", \"hard_tiles\", \"hard_tiles_large_space\", \"soft_pvc\", \"soft_tiles\", \"tiled\", \"wood\"], \"type\": \"bar\", \"uid\": \"d2800fcb-00fe-4916-9a1a-4d8ab85e98da\"}, {\"name\": \"min\", \"orientation\": \"h\", \"text\": [-0.15345, -0.15186, -0.13772, 0.074212, -0.12019, -0.14777, -0.14744000000000002, -0.15662, -0.1534], \"x\": [-0.15345, -0.15186, -0.13772, 0.074212, -0.12019, -0.14777, -0.14744000000000002, -0.15662, -0.1534], \"y\": [\"carpet\", \"concrete\", \"fine_concrete\", \"hard_tiles\", \"hard_tiles_large_space\", \"soft_pvc\", \"soft_tiles\", \"tiled\", \"wood\"], \"type\": \"bar\", \"uid\": \"1e9b1bda-2aac-4ee4-ab69-07edea29e594\"}], {\"height\": 600, \"title\": {\"font\": {\"size\": 20}, \"text\": \"Orientation W\"}, \"width\": 800}, {\"showLink\": false, \"linkText\": \"Export to plot.ly\", \"plotlyServerURL\": \"https://plot.ly\"}); \n",
       "}\n",
       "});</script>"
      ],
      "text/vnd.plotly.v1+html": [
       "<div id=\"c4d103a2-2a03-4bd7-8376-831d81a6e85c\" style=\"height: 600px; width: 800px;\" class=\"plotly-graph-div\"></div><script type=\"text/javascript\">require([\"plotly\"], function(Plotly) { window.PLOTLYENV=window.PLOTLYENV || {};window.PLOTLYENV.BASE_URL=\"https://plot.ly\";\n",
       "if (document.getElementById(\"c4d103a2-2a03-4bd7-8376-831d81a6e85c\")) {\n",
       "    Plotly.newPlot(\"c4d103a2-2a03-4bd7-8376-831d81a6e85c\", [{\"name\": \"std\", \"orientation\": \"h\", \"text\": [0.08202688790326663, 0.11087831470296587, 0.09437501989210785, 0.01412141764088276, 0.07723257816660078, 0.09414225823707364, 0.10242528850442763, 0.09191066323717159, 0.09514208357601507], \"x\": [0.08202688790326663, 0.11087831470296587, 0.09437501989210785, 0.01412141764088276, 0.07723257816660078, 0.09414225823707364, 0.10242528850442763, 0.09191066323717159, 0.09514208357601507], \"y\": [\"carpet\", \"concrete\", \"fine_concrete\", \"hard_tiles\", \"hard_tiles_large_space\", \"soft_pvc\", \"soft_tiles\", \"tiled\", \"wood\"], \"type\": \"bar\", \"uid\": \"fc6faaf4-da7d-4af9-8ba7-4a29963c2e83\"}, {\"name\": \"mean\", \"orientation\": \"h\", \"text\": [-0.06031509166584389, -0.032106644410265076, -0.021683156316919826, 0.10382363392857134, 0.060699474475314964, 0.04333123022936968, 0.04202545011104763, -0.042089857707410284, -0.022491269313178013], \"x\": [-0.06031509166584389, -0.032106644410265076, -0.021683156316919826, 0.10382363392857134, 0.060699474475314964, 0.04333123022936968, 0.04202545011104763, -0.042089857707410284, -0.022491269313178013], \"y\": [\"carpet\", \"concrete\", \"fine_concrete\", \"hard_tiles\", \"hard_tiles_large_space\", \"soft_pvc\", \"soft_tiles\", \"tiled\", \"wood\"], \"type\": \"bar\", \"uid\": \"8c441ae8-f7b6-48e1-b05e-4dbefd6e23f7\"}, {\"name\": \"max\", \"orientation\": \"h\", \"text\": [0.052329, 0.15154, 0.15477, 0.11902, 0.15187, 0.14957, 0.14985, 0.15395, 0.1515], \"x\": [0.052329, 0.15154, 0.15477, 0.11902, 0.15187, 0.14957, 0.14985, 0.15395, 0.1515], \"y\": [\"carpet\", \"concrete\", \"fine_concrete\", \"hard_tiles\", \"hard_tiles_large_space\", \"soft_pvc\", \"soft_tiles\", \"tiled\", \"wood\"], \"type\": \"bar\", \"uid\": \"d2800fcb-00fe-4916-9a1a-4d8ab85e98da\"}, {\"name\": \"min\", \"orientation\": \"h\", \"text\": [-0.15345, -0.15186, -0.13772, 0.074212, -0.12019, -0.14777, -0.14744000000000002, -0.15662, -0.1534], \"x\": [-0.15345, -0.15186, -0.13772, 0.074212, -0.12019, -0.14777, -0.14744000000000002, -0.15662, -0.1534], \"y\": [\"carpet\", \"concrete\", \"fine_concrete\", \"hard_tiles\", \"hard_tiles_large_space\", \"soft_pvc\", \"soft_tiles\", \"tiled\", \"wood\"], \"type\": \"bar\", \"uid\": \"1e9b1bda-2aac-4ee4-ab69-07edea29e594\"}], {\"height\": 600, \"title\": {\"font\": {\"size\": 20}, \"text\": \"Orientation W\"}, \"width\": 800}, {\"showLink\": false, \"linkText\": \"Export to plot.ly\", \"plotlyServerURL\": \"https://plot.ly\"}); \n",
       "}\n",
       "});</script>"
      ]
     },
     "metadata": {},
     "output_type": "display_data"
    }
   ],
   "source": [
    "orientation_W = metrics.orientation_W\n",
    "orientation_W['surface'] = surfaces\n",
    "\n",
    "data = []\n",
    "\n",
    "for m in metrics_name:\n",
    "    data.append(bars(orientation_W, m, 'surface'))\n",
    "\n",
    "layout = go.Layout(\n",
    "    title='Orientation W',\n",
    "    titlefont=dict(size=20),\n",
    "    width=800,\n",
    "    height=600\n",
    ")\n",
    "\n",
    "fig = go.Figure(data=data, layout=layout)\n",
    "\n",
    "iplot(fig)"
   ]
  },
  {
   "cell_type": "code",
   "execution_count": 14,
   "metadata": {},
   "outputs": [
    {
     "data": {
      "application/vnd.plotly.v1+json": {
       "config": {
        "linkText": "Export to plot.ly",
        "plotlyServerURL": "https://plot.ly",
        "showLink": false
       },
       "data": [
        {
         "name": "std",
         "orientation": "h",
         "text": [
          0.10399891025322382,
          0.15491835399266593,
          0.08564296621932696,
          0.03290676181483022,
          0.1956039709582184,
          0.0581726417786139,
          0.030013538272695543,
          0.14137481069109192,
          0.0871308066727337
         ],
         "type": "bar",
         "uid": "5a22ef71-726c-4440-93e5-c9ded8b6f204",
         "x": [
          0.10399891025322382,
          0.15491835399266593,
          0.08564296621932696,
          0.03290676181483022,
          0.1956039709582184,
          0.0581726417786139,
          0.030013538272695543,
          0.14137481069109192,
          0.0871308066727337
         ],
         "y": [
          "carpet",
          "concrete",
          "fine_concrete",
          "hard_tiles",
          "hard_tiles_large_space",
          "soft_pvc",
          "soft_tiles",
          "tiled",
          "wood"
         ]
        },
        {
         "name": "mean",
         "orientation": "h",
         "text": [
          0.0010286220830398461,
          0.0009251717942464348,
          -9.915049058626044e-05,
          -0.0001761083736607143,
          0.000434205195424108,
          0.0006921253744300768,
          0.0006402503250815469,
          0.0001019472160612248,
          -0.0017825844033708014
         ],
         "type": "bar",
         "uid": "a0a2a08c-26fa-4891-852b-f4d44a4e1353",
         "x": [
          0.0010286220830398461,
          0.0009251717942464348,
          -9.915049058626044e-05,
          -0.0001761083736607143,
          0.000434205195424108,
          0.0006921253744300768,
          0.0006402503250815469,
          0.0001019472160612248,
          -0.0017825844033708014
         ],
         "y": [
          "carpet",
          "concrete",
          "fine_concrete",
          "hard_tiles",
          "hard_tiles_large_space",
          "soft_pvc",
          "soft_tiles",
          "tiled",
          "wood"
         ]
        },
        {
         "name": "max",
         "orientation": "h",
         "text": [
          1.2116,
          2.2822,
          0.71355,
          0.16933,
          1.195,
          0.8651399999999999,
          0.41735,
          0.95938,
          0.76485
         ],
         "type": "bar",
         "uid": "08fb7c18-0c95-478a-a092-620aac0f3cf8",
         "x": [
          1.2116,
          2.2822,
          0.71355,
          0.16933,
          1.195,
          0.8651399999999999,
          0.41735,
          0.95938,
          0.76485
         ],
         "y": [
          "carpet",
          "concrete",
          "fine_concrete",
          "hard_tiles",
          "hard_tiles_large_space",
          "soft_pvc",
          "soft_tiles",
          "tiled",
          "wood"
         ]
        },
        {
         "name": "min",
         "orientation": "h",
         "text": [
          -1.0547,
          -2.371,
          -0.61259,
          -0.12939,
          -1.2455,
          -0.64247,
          -0.38121,
          -1.0244,
          -0.9148
         ],
         "type": "bar",
         "uid": "ac238a1d-228e-48a7-864a-23717713a6b3",
         "x": [
          -1.0547,
          -2.371,
          -0.61259,
          -0.12939,
          -1.2455,
          -0.64247,
          -0.38121,
          -1.0244,
          -0.9148
         ],
         "y": [
          "carpet",
          "concrete",
          "fine_concrete",
          "hard_tiles",
          "hard_tiles_large_space",
          "soft_pvc",
          "soft_tiles",
          "tiled",
          "wood"
         ]
        }
       ],
       "layout": {
        "height": 600,
        "title": {
         "font": {
          "size": 20
         },
         "text": "Angular velocity X"
        },
        "width": 800
       }
      },
      "text/html": [
       "<div id=\"d33e6e5f-9a74-4320-8491-c34fa7f640f2\" style=\"height: 600px; width: 800px;\" class=\"plotly-graph-div\"></div><script type=\"text/javascript\">require([\"plotly\"], function(Plotly) { window.PLOTLYENV=window.PLOTLYENV || {};window.PLOTLYENV.BASE_URL=\"https://plot.ly\";\n",
       "if (document.getElementById(\"d33e6e5f-9a74-4320-8491-c34fa7f640f2\")) {\n",
       "    Plotly.newPlot(\"d33e6e5f-9a74-4320-8491-c34fa7f640f2\", [{\"name\": \"std\", \"orientation\": \"h\", \"text\": [0.10399891025322382, 0.15491835399266593, 0.08564296621932696, 0.03290676181483022, 0.1956039709582184, 0.0581726417786139, 0.030013538272695543, 0.14137481069109192, 0.0871308066727337], \"x\": [0.10399891025322382, 0.15491835399266593, 0.08564296621932696, 0.03290676181483022, 0.1956039709582184, 0.0581726417786139, 0.030013538272695543, 0.14137481069109192, 0.0871308066727337], \"y\": [\"carpet\", \"concrete\", \"fine_concrete\", \"hard_tiles\", \"hard_tiles_large_space\", \"soft_pvc\", \"soft_tiles\", \"tiled\", \"wood\"], \"type\": \"bar\", \"uid\": \"5a22ef71-726c-4440-93e5-c9ded8b6f204\"}, {\"name\": \"mean\", \"orientation\": \"h\", \"text\": [0.0010286220830398461, 0.0009251717942464348, -9.915049058626044e-05, -0.0001761083736607143, 0.000434205195424108, 0.0006921253744300768, 0.0006402503250815469, 0.0001019472160612248, -0.0017825844033708014], \"x\": [0.0010286220830398461, 0.0009251717942464348, -9.915049058626044e-05, -0.0001761083736607143, 0.000434205195424108, 0.0006921253744300768, 0.0006402503250815469, 0.0001019472160612248, -0.0017825844033708014], \"y\": [\"carpet\", \"concrete\", \"fine_concrete\", \"hard_tiles\", \"hard_tiles_large_space\", \"soft_pvc\", \"soft_tiles\", \"tiled\", \"wood\"], \"type\": \"bar\", \"uid\": \"a0a2a08c-26fa-4891-852b-f4d44a4e1353\"}, {\"name\": \"max\", \"orientation\": \"h\", \"text\": [1.2116, 2.2822, 0.71355, 0.16933, 1.195, 0.8651399999999999, 0.41735, 0.95938, 0.76485], \"x\": [1.2116, 2.2822, 0.71355, 0.16933, 1.195, 0.8651399999999999, 0.41735, 0.95938, 0.76485], \"y\": [\"carpet\", \"concrete\", \"fine_concrete\", \"hard_tiles\", \"hard_tiles_large_space\", \"soft_pvc\", \"soft_tiles\", \"tiled\", \"wood\"], \"type\": \"bar\", \"uid\": \"08fb7c18-0c95-478a-a092-620aac0f3cf8\"}, {\"name\": \"min\", \"orientation\": \"h\", \"text\": [-1.0547, -2.371, -0.61259, -0.12939, -1.2455, -0.64247, -0.38121, -1.0244, -0.9148], \"x\": [-1.0547, -2.371, -0.61259, -0.12939, -1.2455, -0.64247, -0.38121, -1.0244, -0.9148], \"y\": [\"carpet\", \"concrete\", \"fine_concrete\", \"hard_tiles\", \"hard_tiles_large_space\", \"soft_pvc\", \"soft_tiles\", \"tiled\", \"wood\"], \"type\": \"bar\", \"uid\": \"ac238a1d-228e-48a7-864a-23717713a6b3\"}], {\"height\": 600, \"title\": {\"font\": {\"size\": 20}, \"text\": \"Angular velocity X\"}, \"width\": 800}, {\"showLink\": false, \"linkText\": \"Export to plot.ly\", \"plotlyServerURL\": \"https://plot.ly\"}); \n",
       "}\n",
       "});</script>"
      ],
      "text/vnd.plotly.v1+html": [
       "<div id=\"d33e6e5f-9a74-4320-8491-c34fa7f640f2\" style=\"height: 600px; width: 800px;\" class=\"plotly-graph-div\"></div><script type=\"text/javascript\">require([\"plotly\"], function(Plotly) { window.PLOTLYENV=window.PLOTLYENV || {};window.PLOTLYENV.BASE_URL=\"https://plot.ly\";\n",
       "if (document.getElementById(\"d33e6e5f-9a74-4320-8491-c34fa7f640f2\")) {\n",
       "    Plotly.newPlot(\"d33e6e5f-9a74-4320-8491-c34fa7f640f2\", [{\"name\": \"std\", \"orientation\": \"h\", \"text\": [0.10399891025322382, 0.15491835399266593, 0.08564296621932696, 0.03290676181483022, 0.1956039709582184, 0.0581726417786139, 0.030013538272695543, 0.14137481069109192, 0.0871308066727337], \"x\": [0.10399891025322382, 0.15491835399266593, 0.08564296621932696, 0.03290676181483022, 0.1956039709582184, 0.0581726417786139, 0.030013538272695543, 0.14137481069109192, 0.0871308066727337], \"y\": [\"carpet\", \"concrete\", \"fine_concrete\", \"hard_tiles\", \"hard_tiles_large_space\", \"soft_pvc\", \"soft_tiles\", \"tiled\", \"wood\"], \"type\": \"bar\", \"uid\": \"5a22ef71-726c-4440-93e5-c9ded8b6f204\"}, {\"name\": \"mean\", \"orientation\": \"h\", \"text\": [0.0010286220830398461, 0.0009251717942464348, -9.915049058626044e-05, -0.0001761083736607143, 0.000434205195424108, 0.0006921253744300768, 0.0006402503250815469, 0.0001019472160612248, -0.0017825844033708014], \"x\": [0.0010286220830398461, 0.0009251717942464348, -9.915049058626044e-05, -0.0001761083736607143, 0.000434205195424108, 0.0006921253744300768, 0.0006402503250815469, 0.0001019472160612248, -0.0017825844033708014], \"y\": [\"carpet\", \"concrete\", \"fine_concrete\", \"hard_tiles\", \"hard_tiles_large_space\", \"soft_pvc\", \"soft_tiles\", \"tiled\", \"wood\"], \"type\": \"bar\", \"uid\": \"a0a2a08c-26fa-4891-852b-f4d44a4e1353\"}, {\"name\": \"max\", \"orientation\": \"h\", \"text\": [1.2116, 2.2822, 0.71355, 0.16933, 1.195, 0.8651399999999999, 0.41735, 0.95938, 0.76485], \"x\": [1.2116, 2.2822, 0.71355, 0.16933, 1.195, 0.8651399999999999, 0.41735, 0.95938, 0.76485], \"y\": [\"carpet\", \"concrete\", \"fine_concrete\", \"hard_tiles\", \"hard_tiles_large_space\", \"soft_pvc\", \"soft_tiles\", \"tiled\", \"wood\"], \"type\": \"bar\", \"uid\": \"08fb7c18-0c95-478a-a092-620aac0f3cf8\"}, {\"name\": \"min\", \"orientation\": \"h\", \"text\": [-1.0547, -2.371, -0.61259, -0.12939, -1.2455, -0.64247, -0.38121, -1.0244, -0.9148], \"x\": [-1.0547, -2.371, -0.61259, -0.12939, -1.2455, -0.64247, -0.38121, -1.0244, -0.9148], \"y\": [\"carpet\", \"concrete\", \"fine_concrete\", \"hard_tiles\", \"hard_tiles_large_space\", \"soft_pvc\", \"soft_tiles\", \"tiled\", \"wood\"], \"type\": \"bar\", \"uid\": \"ac238a1d-228e-48a7-864a-23717713a6b3\"}], {\"height\": 600, \"title\": {\"font\": {\"size\": 20}, \"text\": \"Angular velocity X\"}, \"width\": 800}, {\"showLink\": false, \"linkText\": \"Export to plot.ly\", \"plotlyServerURL\": \"https://plot.ly\"}); \n",
       "}\n",
       "});</script>"
      ]
     },
     "metadata": {},
     "output_type": "display_data"
    }
   ],
   "source": [
    "angular_velocity_X = metrics.angular_velocity_X\n",
    "angular_velocity_X['surface'] = surfaces\n",
    "\n",
    "data = []\n",
    "\n",
    "for m in metrics_name:\n",
    "    data.append(bars(angular_velocity_X, m, 'surface'))\n",
    "\n",
    "layout = go.Layout(\n",
    "    title='Angular velocity X',\n",
    "    titlefont=dict(size=20),\n",
    "    width=800,\n",
    "    height=600\n",
    ")\n",
    "\n",
    "fig = go.Figure(data=data, layout=layout)\n",
    "\n",
    "iplot(fig)"
   ]
  },
  {
   "cell_type": "code",
   "execution_count": 15,
   "metadata": {},
   "outputs": [
    {
     "data": {
      "application/vnd.plotly.v1+json": {
       "config": {
        "linkText": "Export to plot.ly",
        "plotlyServerURL": "https://plot.ly",
        "showLink": false
       },
       "data": [
        {
         "name": "std",
         "orientation": "h",
         "text": [
          0.08753672076896674,
          0.09730819882786625,
          0.08072313952327163,
          0.07259278662223212,
          0.09761653508451787,
          0.057496910393361474,
          0.04138427473261265,
          0.0829082120456445,
          0.1168998973734607
         ],
         "type": "bar",
         "uid": "20f32b39-8717-48ec-aa3a-8bd952604752",
         "x": [
          0.08753672076896674,
          0.09730819882786625,
          0.08072313952327163,
          0.07259278662223212,
          0.09761653508451787,
          0.057496910393361474,
          0.04138427473261265,
          0.0829082120456445,
          0.1168998973734607
         ],
         "y": [
          "carpet",
          "concrete",
          "fine_concrete",
          "hard_tiles",
          "hard_tiles_large_space",
          "soft_pvc",
          "soft_tiles",
          "tiled",
          "wood"
         ]
        },
        {
         "name": "mean",
         "orientation": "h",
         "text": [
          0.02462701472423524,
          0.021816431889384598,
          0.003167360933049238,
          -0.006708394581101191,
          0.016397398955821398,
          0.014869447667641205,
          0.017502138958201647,
          0.0064034947563761,
          -0.02523323706682307
         ],
         "type": "bar",
         "uid": "f466d3f3-b38a-4648-9c82-f713ad397195",
         "x": [
          0.02462701472423524,
          0.021816431889384598,
          0.003167360933049238,
          -0.006708394581101191,
          0.016397398955821398,
          0.014869447667641205,
          0.017502138958201647,
          0.0064034947563761,
          -0.02523323706682307
         ],
         "y": [
          "carpet",
          "concrete",
          "fine_concrete",
          "hard_tiles",
          "hard_tiles_large_space",
          "soft_pvc",
          "soft_tiles",
          "tiled",
          "wood"
         ]
        },
        {
         "name": "max",
         "orientation": "h",
         "text": [
          0.93619,
          0.83621,
          0.46764,
          0.14701,
          1.0791,
          0.42471,
          0.28317,
          0.54884,
          0.3595
         ],
         "type": "bar",
         "uid": "bc1c84d9-1017-4992-b175-c667bac1e3fc",
         "x": [
          0.93619,
          0.83621,
          0.46764,
          0.14701,
          1.0791,
          0.42471,
          0.28317,
          0.54884,
          0.3595
         ],
         "y": [
          "carpet",
          "concrete",
          "fine_concrete",
          "hard_tiles",
          "hard_tiles_large_space",
          "soft_pvc",
          "soft_tiles",
          "tiled",
          "wood"
         ]
        },
        {
         "name": "min",
         "orientation": "h",
         "text": [
          -0.92786,
          -0.90875,
          -0.36092,
          -0.15695,
          -0.8220799999999999,
          -0.46152,
          -0.37008,
          -0.49977,
          -0.5281100000000001
         ],
         "type": "bar",
         "uid": "24e0f7ba-3a6d-4de1-9cb2-9e942c111673",
         "x": [
          -0.92786,
          -0.90875,
          -0.36092,
          -0.15695,
          -0.8220799999999999,
          -0.46152,
          -0.37008,
          -0.49977,
          -0.5281100000000001
         ],
         "y": [
          "carpet",
          "concrete",
          "fine_concrete",
          "hard_tiles",
          "hard_tiles_large_space",
          "soft_pvc",
          "soft_tiles",
          "tiled",
          "wood"
         ]
        }
       ],
       "layout": {
        "height": 600,
        "title": {
         "font": {
          "size": 20
         },
         "text": "Angular velocity Y"
        },
        "width": 800
       }
      },
      "text/html": [
       "<div id=\"138c65d4-a4b9-4790-bde2-d160745e12dd\" style=\"height: 600px; width: 800px;\" class=\"plotly-graph-div\"></div><script type=\"text/javascript\">require([\"plotly\"], function(Plotly) { window.PLOTLYENV=window.PLOTLYENV || {};window.PLOTLYENV.BASE_URL=\"https://plot.ly\";\n",
       "if (document.getElementById(\"138c65d4-a4b9-4790-bde2-d160745e12dd\")) {\n",
       "    Plotly.newPlot(\"138c65d4-a4b9-4790-bde2-d160745e12dd\", [{\"name\": \"std\", \"orientation\": \"h\", \"text\": [0.08753672076896674, 0.09730819882786625, 0.08072313952327163, 0.07259278662223212, 0.09761653508451787, 0.057496910393361474, 0.04138427473261265, 0.0829082120456445, 0.1168998973734607], \"x\": [0.08753672076896674, 0.09730819882786625, 0.08072313952327163, 0.07259278662223212, 0.09761653508451787, 0.057496910393361474, 0.04138427473261265, 0.0829082120456445, 0.1168998973734607], \"y\": [\"carpet\", \"concrete\", \"fine_concrete\", \"hard_tiles\", \"hard_tiles_large_space\", \"soft_pvc\", \"soft_tiles\", \"tiled\", \"wood\"], \"type\": \"bar\", \"uid\": \"20f32b39-8717-48ec-aa3a-8bd952604752\"}, {\"name\": \"mean\", \"orientation\": \"h\", \"text\": [0.02462701472423524, 0.021816431889384598, 0.003167360933049238, -0.006708394581101191, 0.016397398955821398, 0.014869447667641205, 0.017502138958201647, 0.0064034947563761, -0.02523323706682307], \"x\": [0.02462701472423524, 0.021816431889384598, 0.003167360933049238, -0.006708394581101191, 0.016397398955821398, 0.014869447667641205, 0.017502138958201647, 0.0064034947563761, -0.02523323706682307], \"y\": [\"carpet\", \"concrete\", \"fine_concrete\", \"hard_tiles\", \"hard_tiles_large_space\", \"soft_pvc\", \"soft_tiles\", \"tiled\", \"wood\"], \"type\": \"bar\", \"uid\": \"f466d3f3-b38a-4648-9c82-f713ad397195\"}, {\"name\": \"max\", \"orientation\": \"h\", \"text\": [0.93619, 0.83621, 0.46764, 0.14701, 1.0791, 0.42471, 0.28317, 0.54884, 0.3595], \"x\": [0.93619, 0.83621, 0.46764, 0.14701, 1.0791, 0.42471, 0.28317, 0.54884, 0.3595], \"y\": [\"carpet\", \"concrete\", \"fine_concrete\", \"hard_tiles\", \"hard_tiles_large_space\", \"soft_pvc\", \"soft_tiles\", \"tiled\", \"wood\"], \"type\": \"bar\", \"uid\": \"bc1c84d9-1017-4992-b175-c667bac1e3fc\"}, {\"name\": \"min\", \"orientation\": \"h\", \"text\": [-0.92786, -0.90875, -0.36092, -0.15695, -0.8220799999999999, -0.46152, -0.37008, -0.49977, -0.5281100000000001], \"x\": [-0.92786, -0.90875, -0.36092, -0.15695, -0.8220799999999999, -0.46152, -0.37008, -0.49977, -0.5281100000000001], \"y\": [\"carpet\", \"concrete\", \"fine_concrete\", \"hard_tiles\", \"hard_tiles_large_space\", \"soft_pvc\", \"soft_tiles\", \"tiled\", \"wood\"], \"type\": \"bar\", \"uid\": \"24e0f7ba-3a6d-4de1-9cb2-9e942c111673\"}], {\"height\": 600, \"title\": {\"font\": {\"size\": 20}, \"text\": \"Angular velocity Y\"}, \"width\": 800}, {\"showLink\": false, \"linkText\": \"Export to plot.ly\", \"plotlyServerURL\": \"https://plot.ly\"}); \n",
       "}\n",
       "});</script>"
      ],
      "text/vnd.plotly.v1+html": [
       "<div id=\"138c65d4-a4b9-4790-bde2-d160745e12dd\" style=\"height: 600px; width: 800px;\" class=\"plotly-graph-div\"></div><script type=\"text/javascript\">require([\"plotly\"], function(Plotly) { window.PLOTLYENV=window.PLOTLYENV || {};window.PLOTLYENV.BASE_URL=\"https://plot.ly\";\n",
       "if (document.getElementById(\"138c65d4-a4b9-4790-bde2-d160745e12dd\")) {\n",
       "    Plotly.newPlot(\"138c65d4-a4b9-4790-bde2-d160745e12dd\", [{\"name\": \"std\", \"orientation\": \"h\", \"text\": [0.08753672076896674, 0.09730819882786625, 0.08072313952327163, 0.07259278662223212, 0.09761653508451787, 0.057496910393361474, 0.04138427473261265, 0.0829082120456445, 0.1168998973734607], \"x\": [0.08753672076896674, 0.09730819882786625, 0.08072313952327163, 0.07259278662223212, 0.09761653508451787, 0.057496910393361474, 0.04138427473261265, 0.0829082120456445, 0.1168998973734607], \"y\": [\"carpet\", \"concrete\", \"fine_concrete\", \"hard_tiles\", \"hard_tiles_large_space\", \"soft_pvc\", \"soft_tiles\", \"tiled\", \"wood\"], \"type\": \"bar\", \"uid\": \"20f32b39-8717-48ec-aa3a-8bd952604752\"}, {\"name\": \"mean\", \"orientation\": \"h\", \"text\": [0.02462701472423524, 0.021816431889384598, 0.003167360933049238, -0.006708394581101191, 0.016397398955821398, 0.014869447667641205, 0.017502138958201647, 0.0064034947563761, -0.02523323706682307], \"x\": [0.02462701472423524, 0.021816431889384598, 0.003167360933049238, -0.006708394581101191, 0.016397398955821398, 0.014869447667641205, 0.017502138958201647, 0.0064034947563761, -0.02523323706682307], \"y\": [\"carpet\", \"concrete\", \"fine_concrete\", \"hard_tiles\", \"hard_tiles_large_space\", \"soft_pvc\", \"soft_tiles\", \"tiled\", \"wood\"], \"type\": \"bar\", \"uid\": \"f466d3f3-b38a-4648-9c82-f713ad397195\"}, {\"name\": \"max\", \"orientation\": \"h\", \"text\": [0.93619, 0.83621, 0.46764, 0.14701, 1.0791, 0.42471, 0.28317, 0.54884, 0.3595], \"x\": [0.93619, 0.83621, 0.46764, 0.14701, 1.0791, 0.42471, 0.28317, 0.54884, 0.3595], \"y\": [\"carpet\", \"concrete\", \"fine_concrete\", \"hard_tiles\", \"hard_tiles_large_space\", \"soft_pvc\", \"soft_tiles\", \"tiled\", \"wood\"], \"type\": \"bar\", \"uid\": \"bc1c84d9-1017-4992-b175-c667bac1e3fc\"}, {\"name\": \"min\", \"orientation\": \"h\", \"text\": [-0.92786, -0.90875, -0.36092, -0.15695, -0.8220799999999999, -0.46152, -0.37008, -0.49977, -0.5281100000000001], \"x\": [-0.92786, -0.90875, -0.36092, -0.15695, -0.8220799999999999, -0.46152, -0.37008, -0.49977, -0.5281100000000001], \"y\": [\"carpet\", \"concrete\", \"fine_concrete\", \"hard_tiles\", \"hard_tiles_large_space\", \"soft_pvc\", \"soft_tiles\", \"tiled\", \"wood\"], \"type\": \"bar\", \"uid\": \"24e0f7ba-3a6d-4de1-9cb2-9e942c111673\"}], {\"height\": 600, \"title\": {\"font\": {\"size\": 20}, \"text\": \"Angular velocity Y\"}, \"width\": 800}, {\"showLink\": false, \"linkText\": \"Export to plot.ly\", \"plotlyServerURL\": \"https://plot.ly\"}); \n",
       "}\n",
       "});</script>"
      ]
     },
     "metadata": {},
     "output_type": "display_data"
    }
   ],
   "source": [
    "angular_velocity_Y = metrics.angular_velocity_Y\n",
    "angular_velocity_Y['surface'] = surfaces\n",
    "\n",
    "data = []\n",
    "\n",
    "for m in metrics_name:\n",
    "    data.append(bars(angular_velocity_Y, m, 'surface'))\n",
    "\n",
    "layout = go.Layout(\n",
    "    title='Angular velocity Y',\n",
    "    titlefont=dict(size=20),\n",
    "    width=800,\n",
    "    height=600\n",
    ")\n",
    "\n",
    "fig = go.Figure(data=data, layout=layout)\n",
    "\n",
    "iplot(fig)"
   ]
  },
  {
   "cell_type": "code",
   "execution_count": 16,
   "metadata": {},
   "outputs": [
    {
     "data": {
      "application/vnd.plotly.v1+json": {
       "config": {
        "linkText": "Export to plot.ly",
        "plotlyServerURL": "https://plot.ly",
        "showLink": false
       },
       "data": [
        {
         "name": "std",
         "orientation": "h",
         "text": [
          0.22322703236238647,
          0.22208996777645593,
          0.22134282261006286,
          0.22631373796943474,
          0.18829650191442948,
          0.15729489723080414,
          0.12486141447555672,
          0.16560488834933002,
          0.352725431433313
         ],
         "type": "bar",
         "uid": "5da6cfee-852a-4a76-8b6a-1196abbbe579",
         "x": [
          0.22322703236238647,
          0.22208996777645593,
          0.22134282261006286,
          0.22631373796943474,
          0.18829650191442948,
          0.15729489723080414,
          0.12486141447555672,
          0.16560488834933002,
          0.352725431433313
         ],
         "y": [
          "carpet",
          "concrete",
          "fine_concrete",
          "hard_tiles",
          "hard_tiles_large_space",
          "soft_pvc",
          "soft_tiles",
          "tiled",
          "wood"
         ]
        },
        {
         "name": "mean",
         "orientation": "h",
         "text": [
          -0.07223755122063871,
          -0.0627181845346193,
          -0.002442714857578054,
          0.026447579527901784,
          -0.04468078744537844,
          -0.040387093289448284,
          -0.048912547815588556,
          -0.012668343635913395,
          0.0891527127049797
         ],
         "type": "bar",
         "uid": "f0fd338d-6d5c-4245-98c6-effe47623aa5",
         "x": [
          -0.07223755122063871,
          -0.0627181845346193,
          -0.002442714857578054,
          0.026447579527901784,
          -0.04468078744537844,
          -0.040387093289448284,
          -0.048912547815588556,
          -0.012668343635913395,
          0.0891527127049797
         ],
         "y": [
          "carpet",
          "concrete",
          "fine_concrete",
          "hard_tiles",
          "hard_tiles_large_space",
          "soft_pvc",
          "soft_tiles",
          "tiled",
          "wood"
         ]
        },
        {
         "name": "max",
         "orientation": "h",
         "text": [
          1.1257,
          1.3873,
          0.94021,
          0.44347,
          0.97221,
          0.48411,
          0.66076,
          0.83011,
          0.97238
         ],
         "type": "bar",
         "uid": "c40e0453-3d9e-45b2-b67e-61b9f9ca92bb",
         "x": [
          1.1257,
          1.3873,
          0.94021,
          0.44347,
          0.97221,
          0.48411,
          0.66076,
          0.83011,
          0.97238
         ],
         "y": [
          "carpet",
          "concrete",
          "fine_concrete",
          "hard_tiles",
          "hard_tiles_large_space",
          "soft_pvc",
          "soft_tiles",
          "tiled",
          "wood"
         ]
        },
        {
         "name": "min",
         "orientation": "h",
         "text": [
          -1.2445,
          -1.2593,
          -0.8222700000000001,
          -0.33992,
          -0.98636,
          -1.2688,
          -0.41884,
          -0.77189,
          -0.91822
         ],
         "type": "bar",
         "uid": "b6943c78-30fa-4031-8b31-6c9528b3ea19",
         "x": [
          -1.2445,
          -1.2593,
          -0.8222700000000001,
          -0.33992,
          -0.98636,
          -1.2688,
          -0.41884,
          -0.77189,
          -0.91822
         ],
         "y": [
          "carpet",
          "concrete",
          "fine_concrete",
          "hard_tiles",
          "hard_tiles_large_space",
          "soft_pvc",
          "soft_tiles",
          "tiled",
          "wood"
         ]
        }
       ],
       "layout": {
        "height": 600,
        "title": {
         "font": {
          "size": 20
         },
         "text": "Angular velocity Z"
        },
        "width": 800
       }
      },
      "text/html": [
       "<div id=\"ce3b087b-8818-463e-9314-311c4b81cd7b\" style=\"height: 600px; width: 800px;\" class=\"plotly-graph-div\"></div><script type=\"text/javascript\">require([\"plotly\"], function(Plotly) { window.PLOTLYENV=window.PLOTLYENV || {};window.PLOTLYENV.BASE_URL=\"https://plot.ly\";\n",
       "if (document.getElementById(\"ce3b087b-8818-463e-9314-311c4b81cd7b\")) {\n",
       "    Plotly.newPlot(\"ce3b087b-8818-463e-9314-311c4b81cd7b\", [{\"name\": \"std\", \"orientation\": \"h\", \"text\": [0.22322703236238647, 0.22208996777645593, 0.22134282261006286, 0.22631373796943474, 0.18829650191442948, 0.15729489723080414, 0.12486141447555672, 0.16560488834933002, 0.352725431433313], \"x\": [0.22322703236238647, 0.22208996777645593, 0.22134282261006286, 0.22631373796943474, 0.18829650191442948, 0.15729489723080414, 0.12486141447555672, 0.16560488834933002, 0.352725431433313], \"y\": [\"carpet\", \"concrete\", \"fine_concrete\", \"hard_tiles\", \"hard_tiles_large_space\", \"soft_pvc\", \"soft_tiles\", \"tiled\", \"wood\"], \"type\": \"bar\", \"uid\": \"5da6cfee-852a-4a76-8b6a-1196abbbe579\"}, {\"name\": \"mean\", \"orientation\": \"h\", \"text\": [-0.07223755122063871, -0.0627181845346193, -0.002442714857578054, 0.026447579527901784, -0.04468078744537844, -0.040387093289448284, -0.048912547815588556, -0.012668343635913395, 0.0891527127049797], \"x\": [-0.07223755122063871, -0.0627181845346193, -0.002442714857578054, 0.026447579527901784, -0.04468078744537844, -0.040387093289448284, -0.048912547815588556, -0.012668343635913395, 0.0891527127049797], \"y\": [\"carpet\", \"concrete\", \"fine_concrete\", \"hard_tiles\", \"hard_tiles_large_space\", \"soft_pvc\", \"soft_tiles\", \"tiled\", \"wood\"], \"type\": \"bar\", \"uid\": \"f0fd338d-6d5c-4245-98c6-effe47623aa5\"}, {\"name\": \"max\", \"orientation\": \"h\", \"text\": [1.1257, 1.3873, 0.94021, 0.44347, 0.97221, 0.48411, 0.66076, 0.83011, 0.97238], \"x\": [1.1257, 1.3873, 0.94021, 0.44347, 0.97221, 0.48411, 0.66076, 0.83011, 0.97238], \"y\": [\"carpet\", \"concrete\", \"fine_concrete\", \"hard_tiles\", \"hard_tiles_large_space\", \"soft_pvc\", \"soft_tiles\", \"tiled\", \"wood\"], \"type\": \"bar\", \"uid\": \"c40e0453-3d9e-45b2-b67e-61b9f9ca92bb\"}, {\"name\": \"min\", \"orientation\": \"h\", \"text\": [-1.2445, -1.2593, -0.8222700000000001, -0.33992, -0.98636, -1.2688, -0.41884, -0.77189, -0.91822], \"x\": [-1.2445, -1.2593, -0.8222700000000001, -0.33992, -0.98636, -1.2688, -0.41884, -0.77189, -0.91822], \"y\": [\"carpet\", \"concrete\", \"fine_concrete\", \"hard_tiles\", \"hard_tiles_large_space\", \"soft_pvc\", \"soft_tiles\", \"tiled\", \"wood\"], \"type\": \"bar\", \"uid\": \"b6943c78-30fa-4031-8b31-6c9528b3ea19\"}], {\"height\": 600, \"title\": {\"font\": {\"size\": 20}, \"text\": \"Angular velocity Z\"}, \"width\": 800}, {\"showLink\": false, \"linkText\": \"Export to plot.ly\", \"plotlyServerURL\": \"https://plot.ly\"}); \n",
       "}\n",
       "});</script>"
      ],
      "text/vnd.plotly.v1+html": [
       "<div id=\"ce3b087b-8818-463e-9314-311c4b81cd7b\" style=\"height: 600px; width: 800px;\" class=\"plotly-graph-div\"></div><script type=\"text/javascript\">require([\"plotly\"], function(Plotly) { window.PLOTLYENV=window.PLOTLYENV || {};window.PLOTLYENV.BASE_URL=\"https://plot.ly\";\n",
       "if (document.getElementById(\"ce3b087b-8818-463e-9314-311c4b81cd7b\")) {\n",
       "    Plotly.newPlot(\"ce3b087b-8818-463e-9314-311c4b81cd7b\", [{\"name\": \"std\", \"orientation\": \"h\", \"text\": [0.22322703236238647, 0.22208996777645593, 0.22134282261006286, 0.22631373796943474, 0.18829650191442948, 0.15729489723080414, 0.12486141447555672, 0.16560488834933002, 0.352725431433313], \"x\": [0.22322703236238647, 0.22208996777645593, 0.22134282261006286, 0.22631373796943474, 0.18829650191442948, 0.15729489723080414, 0.12486141447555672, 0.16560488834933002, 0.352725431433313], \"y\": [\"carpet\", \"concrete\", \"fine_concrete\", \"hard_tiles\", \"hard_tiles_large_space\", \"soft_pvc\", \"soft_tiles\", \"tiled\", \"wood\"], \"type\": \"bar\", \"uid\": \"5da6cfee-852a-4a76-8b6a-1196abbbe579\"}, {\"name\": \"mean\", \"orientation\": \"h\", \"text\": [-0.07223755122063871, -0.0627181845346193, -0.002442714857578054, 0.026447579527901784, -0.04468078744537844, -0.040387093289448284, -0.048912547815588556, -0.012668343635913395, 0.0891527127049797], \"x\": [-0.07223755122063871, -0.0627181845346193, -0.002442714857578054, 0.026447579527901784, -0.04468078744537844, -0.040387093289448284, -0.048912547815588556, -0.012668343635913395, 0.0891527127049797], \"y\": [\"carpet\", \"concrete\", \"fine_concrete\", \"hard_tiles\", \"hard_tiles_large_space\", \"soft_pvc\", \"soft_tiles\", \"tiled\", \"wood\"], \"type\": \"bar\", \"uid\": \"f0fd338d-6d5c-4245-98c6-effe47623aa5\"}, {\"name\": \"max\", \"orientation\": \"h\", \"text\": [1.1257, 1.3873, 0.94021, 0.44347, 0.97221, 0.48411, 0.66076, 0.83011, 0.97238], \"x\": [1.1257, 1.3873, 0.94021, 0.44347, 0.97221, 0.48411, 0.66076, 0.83011, 0.97238], \"y\": [\"carpet\", \"concrete\", \"fine_concrete\", \"hard_tiles\", \"hard_tiles_large_space\", \"soft_pvc\", \"soft_tiles\", \"tiled\", \"wood\"], \"type\": \"bar\", \"uid\": \"c40e0453-3d9e-45b2-b67e-61b9f9ca92bb\"}, {\"name\": \"min\", \"orientation\": \"h\", \"text\": [-1.2445, -1.2593, -0.8222700000000001, -0.33992, -0.98636, -1.2688, -0.41884, -0.77189, -0.91822], \"x\": [-1.2445, -1.2593, -0.8222700000000001, -0.33992, -0.98636, -1.2688, -0.41884, -0.77189, -0.91822], \"y\": [\"carpet\", \"concrete\", \"fine_concrete\", \"hard_tiles\", \"hard_tiles_large_space\", \"soft_pvc\", \"soft_tiles\", \"tiled\", \"wood\"], \"type\": \"bar\", \"uid\": \"b6943c78-30fa-4031-8b31-6c9528b3ea19\"}], {\"height\": 600, \"title\": {\"font\": {\"size\": 20}, \"text\": \"Angular velocity Z\"}, \"width\": 800}, {\"showLink\": false, \"linkText\": \"Export to plot.ly\", \"plotlyServerURL\": \"https://plot.ly\"}); \n",
       "}\n",
       "});</script>"
      ]
     },
     "metadata": {},
     "output_type": "display_data"
    }
   ],
   "source": [
    "angular_velocity_Z = metrics.angular_velocity_Z\n",
    "angular_velocity_Z['surface'] = surfaces\n",
    "\n",
    "data = []\n",
    "\n",
    "for m in metrics_name:\n",
    "    data.append(bars(angular_velocity_Z, m, 'surface'))\n",
    "\n",
    "layout = go.Layout(\n",
    "    title='Angular velocity Z',\n",
    "    titlefont=dict(size=20),\n",
    "    width=800,\n",
    "    height=600\n",
    ")\n",
    "\n",
    "fig = go.Figure(data=data, layout=layout)\n",
    "\n",
    "iplot(fig)"
   ]
  },
  {
   "cell_type": "code",
   "execution_count": 17,
   "metadata": {},
   "outputs": [
    {
     "data": {
      "application/vnd.plotly.v1+json": {
       "config": {
        "linkText": "Export to plot.ly",
        "plotlyServerURL": "https://plot.ly",
        "showLink": false
       },
       "data": [
        {
         "name": "std",
         "orientation": "h",
         "text": [
          2.033440065466777,
          2.581341829579737,
          1.3793382502875102,
          0.5218489412867503,
          2.8328925559067617,
          0.9448973989487744,
          0.5375236057320506,
          2.11429783745189,
          1.3771912792818344
         ],
         "type": "bar",
         "uid": "5e12be57-6f8b-4fed-b70e-cbda7c1cdb19",
         "x": [
          2.033440065466777,
          2.581341829579737,
          1.3793382502875102,
          0.5218489412867503,
          2.8328925559067617,
          0.9448973989487744,
          0.5375236057320506,
          2.11429783745189,
          1.3771912792818344
         ],
         "y": [
          "carpet",
          "concrete",
          "fine_concrete",
          "hard_tiles",
          "hard_tiles_large_space",
          "soft_pvc",
          "soft_tiles",
          "tiled",
          "wood"
         ]
        },
        {
         "name": "mean",
         "orientation": "h",
         "text": [
          0.09145607112913343,
          0.11159309153624367,
          0.1362974848427603,
          0.14575904737723214,
          0.11024975174969556,
          0.12883887121908053,
          0.0841187576949178,
          0.13555972490520055,
          0.18596271810443285
         ],
         "type": "bar",
         "uid": "e6d299cf-a4c9-41d6-add3-cc94d0606b23",
         "x": [
          0.09145607112913343,
          0.11159309153624367,
          0.1362974848427603,
          0.14575904737723214,
          0.11024975174969556,
          0.12883887121908053,
          0.0841187576949178,
          0.13555972490520055,
          0.18596271810443285
         ],
         "y": [
          "carpet",
          "concrete",
          "fine_concrete",
          "hard_tiles",
          "hard_tiles_large_space",
          "soft_pvc",
          "soft_tiles",
          "tiled",
          "wood"
         ]
        },
        {
         "name": "max",
         "orientation": "h",
         "text": [
          23.293000000000006,
          36.797,
          12.394,
          1.896,
          24.945,
          10.716,
          8.8783,
          18.806,
          15.053
         ],
         "type": "bar",
         "uid": "0d04f453-8608-410b-9a7d-1681687a1ce4",
         "x": [
          23.293000000000006,
          36.797,
          12.394,
          1.896,
          24.945,
          10.716,
          8.8783,
          18.806,
          15.053
         ],
         "y": [
          "carpet",
          "concrete",
          "fine_concrete",
          "hard_tiles",
          "hard_tiles_large_space",
          "soft_pvc",
          "soft_tiles",
          "tiled",
          "wood"
         ]
        },
        {
         "name": "min",
         "orientation": "h",
         "text": [
          -29.895,
          -36.067,
          -10.93,
          -2.2821,
          -21.221,
          -11.505,
          -9.8046,
          -16.029,
          -12.505999999999998
         ],
         "type": "bar",
         "uid": "b9e1fc05-0daf-4793-9615-5766c2c724cb",
         "x": [
          -29.895,
          -36.067,
          -10.93,
          -2.2821,
          -21.221,
          -11.505,
          -9.8046,
          -16.029,
          -12.505999999999998
         ],
         "y": [
          "carpet",
          "concrete",
          "fine_concrete",
          "hard_tiles",
          "hard_tiles_large_space",
          "soft_pvc",
          "soft_tiles",
          "tiled",
          "wood"
         ]
        }
       ],
       "layout": {
        "height": 600,
        "title": {
         "font": {
          "size": 20
         },
         "text": "Linear Acceleration X"
        },
        "width": 800
       }
      },
      "text/html": [
       "<div id=\"79d40a78-9cd8-4d71-a81a-7ef9502f4057\" style=\"height: 600px; width: 800px;\" class=\"plotly-graph-div\"></div><script type=\"text/javascript\">require([\"plotly\"], function(Plotly) { window.PLOTLYENV=window.PLOTLYENV || {};window.PLOTLYENV.BASE_URL=\"https://plot.ly\";\n",
       "if (document.getElementById(\"79d40a78-9cd8-4d71-a81a-7ef9502f4057\")) {\n",
       "    Plotly.newPlot(\"79d40a78-9cd8-4d71-a81a-7ef9502f4057\", [{\"name\": \"std\", \"orientation\": \"h\", \"text\": [2.033440065466777, 2.581341829579737, 1.3793382502875102, 0.5218489412867503, 2.8328925559067617, 0.9448973989487744, 0.5375236057320506, 2.11429783745189, 1.3771912792818344], \"x\": [2.033440065466777, 2.581341829579737, 1.3793382502875102, 0.5218489412867503, 2.8328925559067617, 0.9448973989487744, 0.5375236057320506, 2.11429783745189, 1.3771912792818344], \"y\": [\"carpet\", \"concrete\", \"fine_concrete\", \"hard_tiles\", \"hard_tiles_large_space\", \"soft_pvc\", \"soft_tiles\", \"tiled\", \"wood\"], \"type\": \"bar\", \"uid\": \"5e12be57-6f8b-4fed-b70e-cbda7c1cdb19\"}, {\"name\": \"mean\", \"orientation\": \"h\", \"text\": [0.09145607112913343, 0.11159309153624367, 0.1362974848427603, 0.14575904737723214, 0.11024975174969556, 0.12883887121908053, 0.0841187576949178, 0.13555972490520055, 0.18596271810443285], \"x\": [0.09145607112913343, 0.11159309153624367, 0.1362974848427603, 0.14575904737723214, 0.11024975174969556, 0.12883887121908053, 0.0841187576949178, 0.13555972490520055, 0.18596271810443285], \"y\": [\"carpet\", \"concrete\", \"fine_concrete\", \"hard_tiles\", \"hard_tiles_large_space\", \"soft_pvc\", \"soft_tiles\", \"tiled\", \"wood\"], \"type\": \"bar\", \"uid\": \"e6d299cf-a4c9-41d6-add3-cc94d0606b23\"}, {\"name\": \"max\", \"orientation\": \"h\", \"text\": [23.293000000000006, 36.797, 12.394, 1.896, 24.945, 10.716, 8.8783, 18.806, 15.053], \"x\": [23.293000000000006, 36.797, 12.394, 1.896, 24.945, 10.716, 8.8783, 18.806, 15.053], \"y\": [\"carpet\", \"concrete\", \"fine_concrete\", \"hard_tiles\", \"hard_tiles_large_space\", \"soft_pvc\", \"soft_tiles\", \"tiled\", \"wood\"], \"type\": \"bar\", \"uid\": \"0d04f453-8608-410b-9a7d-1681687a1ce4\"}, {\"name\": \"min\", \"orientation\": \"h\", \"text\": [-29.895, -36.067, -10.93, -2.2821, -21.221, -11.505, -9.8046, -16.029, -12.505999999999998], \"x\": [-29.895, -36.067, -10.93, -2.2821, -21.221, -11.505, -9.8046, -16.029, -12.505999999999998], \"y\": [\"carpet\", \"concrete\", \"fine_concrete\", \"hard_tiles\", \"hard_tiles_large_space\", \"soft_pvc\", \"soft_tiles\", \"tiled\", \"wood\"], \"type\": \"bar\", \"uid\": \"b9e1fc05-0daf-4793-9615-5766c2c724cb\"}], {\"height\": 600, \"title\": {\"font\": {\"size\": 20}, \"text\": \"Linear Acceleration X\"}, \"width\": 800}, {\"showLink\": false, \"linkText\": \"Export to plot.ly\", \"plotlyServerURL\": \"https://plot.ly\"}); \n",
       "}\n",
       "});</script>"
      ],
      "text/vnd.plotly.v1+html": [
       "<div id=\"79d40a78-9cd8-4d71-a81a-7ef9502f4057\" style=\"height: 600px; width: 800px;\" class=\"plotly-graph-div\"></div><script type=\"text/javascript\">require([\"plotly\"], function(Plotly) { window.PLOTLYENV=window.PLOTLYENV || {};window.PLOTLYENV.BASE_URL=\"https://plot.ly\";\n",
       "if (document.getElementById(\"79d40a78-9cd8-4d71-a81a-7ef9502f4057\")) {\n",
       "    Plotly.newPlot(\"79d40a78-9cd8-4d71-a81a-7ef9502f4057\", [{\"name\": \"std\", \"orientation\": \"h\", \"text\": [2.033440065466777, 2.581341829579737, 1.3793382502875102, 0.5218489412867503, 2.8328925559067617, 0.9448973989487744, 0.5375236057320506, 2.11429783745189, 1.3771912792818344], \"x\": [2.033440065466777, 2.581341829579737, 1.3793382502875102, 0.5218489412867503, 2.8328925559067617, 0.9448973989487744, 0.5375236057320506, 2.11429783745189, 1.3771912792818344], \"y\": [\"carpet\", \"concrete\", \"fine_concrete\", \"hard_tiles\", \"hard_tiles_large_space\", \"soft_pvc\", \"soft_tiles\", \"tiled\", \"wood\"], \"type\": \"bar\", \"uid\": \"5e12be57-6f8b-4fed-b70e-cbda7c1cdb19\"}, {\"name\": \"mean\", \"orientation\": \"h\", \"text\": [0.09145607112913343, 0.11159309153624367, 0.1362974848427603, 0.14575904737723214, 0.11024975174969556, 0.12883887121908053, 0.0841187576949178, 0.13555972490520055, 0.18596271810443285], \"x\": [0.09145607112913343, 0.11159309153624367, 0.1362974848427603, 0.14575904737723214, 0.11024975174969556, 0.12883887121908053, 0.0841187576949178, 0.13555972490520055, 0.18596271810443285], \"y\": [\"carpet\", \"concrete\", \"fine_concrete\", \"hard_tiles\", \"hard_tiles_large_space\", \"soft_pvc\", \"soft_tiles\", \"tiled\", \"wood\"], \"type\": \"bar\", \"uid\": \"e6d299cf-a4c9-41d6-add3-cc94d0606b23\"}, {\"name\": \"max\", \"orientation\": \"h\", \"text\": [23.293000000000006, 36.797, 12.394, 1.896, 24.945, 10.716, 8.8783, 18.806, 15.053], \"x\": [23.293000000000006, 36.797, 12.394, 1.896, 24.945, 10.716, 8.8783, 18.806, 15.053], \"y\": [\"carpet\", \"concrete\", \"fine_concrete\", \"hard_tiles\", \"hard_tiles_large_space\", \"soft_pvc\", \"soft_tiles\", \"tiled\", \"wood\"], \"type\": \"bar\", \"uid\": \"0d04f453-8608-410b-9a7d-1681687a1ce4\"}, {\"name\": \"min\", \"orientation\": \"h\", \"text\": [-29.895, -36.067, -10.93, -2.2821, -21.221, -11.505, -9.8046, -16.029, -12.505999999999998], \"x\": [-29.895, -36.067, -10.93, -2.2821, -21.221, -11.505, -9.8046, -16.029, -12.505999999999998], \"y\": [\"carpet\", \"concrete\", \"fine_concrete\", \"hard_tiles\", \"hard_tiles_large_space\", \"soft_pvc\", \"soft_tiles\", \"tiled\", \"wood\"], \"type\": \"bar\", \"uid\": \"b9e1fc05-0daf-4793-9615-5766c2c724cb\"}], {\"height\": 600, \"title\": {\"font\": {\"size\": 20}, \"text\": \"Linear Acceleration X\"}, \"width\": 800}, {\"showLink\": false, \"linkText\": \"Export to plot.ly\", \"plotlyServerURL\": \"https://plot.ly\"}); \n",
       "}\n",
       "});</script>"
      ]
     },
     "metadata": {},
     "output_type": "display_data"
    }
   ],
   "source": [
    "linear_acceleration_X = metrics.linear_acceleration_X\n",
    "linear_acceleration_X['surface'] = surfaces\n",
    "\n",
    "data = []\n",
    "\n",
    "for m in metrics_name:\n",
    "    data.append(bars(linear_acceleration_X, m, 'surface'))\n",
    "\n",
    "layout = go.Layout(\n",
    "    title='Linear Acceleration X',\n",
    "    titlefont=dict(size=20),\n",
    "    width=800,\n",
    "    height=600\n",
    ")\n",
    "\n",
    "fig = go.Figure(data=data, layout=layout)\n",
    "\n",
    "iplot(fig)"
   ]
  },
  {
   "cell_type": "code",
   "execution_count": 18,
   "metadata": {},
   "outputs": [
    {
     "data": {
      "application/vnd.plotly.v1+json": {
       "config": {
        "linkText": "Export to plot.ly",
        "plotlyServerURL": "https://plot.ly",
        "showLink": false
       },
       "data": [
        {
         "name": "std",
         "orientation": "h",
         "text": [
          2.562971078308757,
          3.096531193055366,
          1.6012501583262095,
          0.9452268837845366,
          2.5789762242390304,
          1.3564195181711811,
          0.8726685394153084,
          2.251182012659334,
          1.6015984748508363
         ],
         "type": "bar",
         "uid": "7fefbb23-ce44-49b1-bb33-7cea7e4e88e4",
         "x": [
          2.562971078308757,
          3.096531193055366,
          1.6012501583262095,
          0.9452268837845366,
          2.5789762242390304,
          1.3564195181711811,
          0.8726685394153084,
          2.251182012659334,
          1.6015984748508363
         ],
         "y": [
          "carpet",
          "concrete",
          "fine_concrete",
          "hard_tiles",
          "hard_tiles_large_space",
          "soft_pvc",
          "soft_tiles",
          "tiled",
          "wood"
         ]
        },
        {
         "name": "mean",
         "orientation": "h",
         "text": [
          2.8724314057717373,
          2.9077326978276723,
          2.922102146514502,
          2.9902074547991084,
          2.885197174679124,
          2.811946357978204,
          2.914123587691463,
          2.913803428370347,
          2.892481273449573
         ],
         "type": "bar",
         "uid": "b35e8135-401d-41b1-a691-c0b3209f2409",
         "x": [
          2.8724314057717373,
          2.9077326978276723,
          2.922102146514502,
          2.9902074547991084,
          2.885197174679124,
          2.811946357978204,
          2.914123587691463,
          2.913803428370347,
          2.892481273449573
         ],
         "y": [
          "carpet",
          "concrete",
          "fine_concrete",
          "hard_tiles",
          "hard_tiles_large_space",
          "soft_pvc",
          "soft_tiles",
          "tiled",
          "wood"
         ]
        },
        {
         "name": "max",
         "orientation": "h",
         "text": [
          32.623000000000005,
          73.008,
          16.452,
          7.1469,
          20.005,
          18.501,
          11.877,
          17.999000000000006,
          14.511
         ],
         "type": "bar",
         "uid": "80730cd4-f8cd-495a-bfba-e278d74a3f7a",
         "x": [
          32.623000000000005,
          73.008,
          16.452,
          7.1469,
          20.005,
          18.501,
          11.877,
          17.999000000000006,
          14.511
         ],
         "y": [
          "carpet",
          "concrete",
          "fine_concrete",
          "hard_tiles",
          "hard_tiles_large_space",
          "soft_pvc",
          "soft_tiles",
          "tiled",
          "wood"
         ]
        },
        {
         "name": "min",
         "orientation": "h",
         "text": [
          -54.591,
          -121.49,
          -9.6574,
          -1.2135,
          -23.714,
          -26.83,
          -6.9817,
          -20.999,
          -10.404000000000002
         ],
         "type": "bar",
         "uid": "bb7cfdfd-7683-4a4d-9969-7ab281aa73b4",
         "x": [
          -54.591,
          -121.49,
          -9.6574,
          -1.2135,
          -23.714,
          -26.83,
          -6.9817,
          -20.999,
          -10.404000000000002
         ],
         "y": [
          "carpet",
          "concrete",
          "fine_concrete",
          "hard_tiles",
          "hard_tiles_large_space",
          "soft_pvc",
          "soft_tiles",
          "tiled",
          "wood"
         ]
        }
       ],
       "layout": {
        "height": 600,
        "title": {
         "font": {
          "size": 20
         },
         "text": "Linear Acceleration Y"
        },
        "width": 800
       }
      },
      "text/html": [
       "<div id=\"234b8ada-696f-4c2c-8b67-afd25f6e1143\" style=\"height: 600px; width: 800px;\" class=\"plotly-graph-div\"></div><script type=\"text/javascript\">require([\"plotly\"], function(Plotly) { window.PLOTLYENV=window.PLOTLYENV || {};window.PLOTLYENV.BASE_URL=\"https://plot.ly\";\n",
       "if (document.getElementById(\"234b8ada-696f-4c2c-8b67-afd25f6e1143\")) {\n",
       "    Plotly.newPlot(\"234b8ada-696f-4c2c-8b67-afd25f6e1143\", [{\"name\": \"std\", \"orientation\": \"h\", \"text\": [2.562971078308757, 3.096531193055366, 1.6012501583262095, 0.9452268837845366, 2.5789762242390304, 1.3564195181711811, 0.8726685394153084, 2.251182012659334, 1.6015984748508363], \"x\": [2.562971078308757, 3.096531193055366, 1.6012501583262095, 0.9452268837845366, 2.5789762242390304, 1.3564195181711811, 0.8726685394153084, 2.251182012659334, 1.6015984748508363], \"y\": [\"carpet\", \"concrete\", \"fine_concrete\", \"hard_tiles\", \"hard_tiles_large_space\", \"soft_pvc\", \"soft_tiles\", \"tiled\", \"wood\"], \"type\": \"bar\", \"uid\": \"7fefbb23-ce44-49b1-bb33-7cea7e4e88e4\"}, {\"name\": \"mean\", \"orientation\": \"h\", \"text\": [2.8724314057717373, 2.9077326978276723, 2.922102146514502, 2.9902074547991084, 2.885197174679124, 2.811946357978204, 2.914123587691463, 2.913803428370347, 2.892481273449573], \"x\": [2.8724314057717373, 2.9077326978276723, 2.922102146514502, 2.9902074547991084, 2.885197174679124, 2.811946357978204, 2.914123587691463, 2.913803428370347, 2.892481273449573], \"y\": [\"carpet\", \"concrete\", \"fine_concrete\", \"hard_tiles\", \"hard_tiles_large_space\", \"soft_pvc\", \"soft_tiles\", \"tiled\", \"wood\"], \"type\": \"bar\", \"uid\": \"b35e8135-401d-41b1-a691-c0b3209f2409\"}, {\"name\": \"max\", \"orientation\": \"h\", \"text\": [32.623000000000005, 73.008, 16.452, 7.1469, 20.005, 18.501, 11.877, 17.999000000000006, 14.511], \"x\": [32.623000000000005, 73.008, 16.452, 7.1469, 20.005, 18.501, 11.877, 17.999000000000006, 14.511], \"y\": [\"carpet\", \"concrete\", \"fine_concrete\", \"hard_tiles\", \"hard_tiles_large_space\", \"soft_pvc\", \"soft_tiles\", \"tiled\", \"wood\"], \"type\": \"bar\", \"uid\": \"80730cd4-f8cd-495a-bfba-e278d74a3f7a\"}, {\"name\": \"min\", \"orientation\": \"h\", \"text\": [-54.591, -121.49, -9.6574, -1.2135, -23.714, -26.83, -6.9817, -20.999, -10.404000000000002], \"x\": [-54.591, -121.49, -9.6574, -1.2135, -23.714, -26.83, -6.9817, -20.999, -10.404000000000002], \"y\": [\"carpet\", \"concrete\", \"fine_concrete\", \"hard_tiles\", \"hard_tiles_large_space\", \"soft_pvc\", \"soft_tiles\", \"tiled\", \"wood\"], \"type\": \"bar\", \"uid\": \"bb7cfdfd-7683-4a4d-9969-7ab281aa73b4\"}], {\"height\": 600, \"title\": {\"font\": {\"size\": 20}, \"text\": \"Linear Acceleration Y\"}, \"width\": 800}, {\"showLink\": false, \"linkText\": \"Export to plot.ly\", \"plotlyServerURL\": \"https://plot.ly\"}); \n",
       "}\n",
       "});</script>"
      ],
      "text/vnd.plotly.v1+html": [
       "<div id=\"234b8ada-696f-4c2c-8b67-afd25f6e1143\" style=\"height: 600px; width: 800px;\" class=\"plotly-graph-div\"></div><script type=\"text/javascript\">require([\"plotly\"], function(Plotly) { window.PLOTLYENV=window.PLOTLYENV || {};window.PLOTLYENV.BASE_URL=\"https://plot.ly\";\n",
       "if (document.getElementById(\"234b8ada-696f-4c2c-8b67-afd25f6e1143\")) {\n",
       "    Plotly.newPlot(\"234b8ada-696f-4c2c-8b67-afd25f6e1143\", [{\"name\": \"std\", \"orientation\": \"h\", \"text\": [2.562971078308757, 3.096531193055366, 1.6012501583262095, 0.9452268837845366, 2.5789762242390304, 1.3564195181711811, 0.8726685394153084, 2.251182012659334, 1.6015984748508363], \"x\": [2.562971078308757, 3.096531193055366, 1.6012501583262095, 0.9452268837845366, 2.5789762242390304, 1.3564195181711811, 0.8726685394153084, 2.251182012659334, 1.6015984748508363], \"y\": [\"carpet\", \"concrete\", \"fine_concrete\", \"hard_tiles\", \"hard_tiles_large_space\", \"soft_pvc\", \"soft_tiles\", \"tiled\", \"wood\"], \"type\": \"bar\", \"uid\": \"7fefbb23-ce44-49b1-bb33-7cea7e4e88e4\"}, {\"name\": \"mean\", \"orientation\": \"h\", \"text\": [2.8724314057717373, 2.9077326978276723, 2.922102146514502, 2.9902074547991084, 2.885197174679124, 2.811946357978204, 2.914123587691463, 2.913803428370347, 2.892481273449573], \"x\": [2.8724314057717373, 2.9077326978276723, 2.922102146514502, 2.9902074547991084, 2.885197174679124, 2.811946357978204, 2.914123587691463, 2.913803428370347, 2.892481273449573], \"y\": [\"carpet\", \"concrete\", \"fine_concrete\", \"hard_tiles\", \"hard_tiles_large_space\", \"soft_pvc\", \"soft_tiles\", \"tiled\", \"wood\"], \"type\": \"bar\", \"uid\": \"b35e8135-401d-41b1-a691-c0b3209f2409\"}, {\"name\": \"max\", \"orientation\": \"h\", \"text\": [32.623000000000005, 73.008, 16.452, 7.1469, 20.005, 18.501, 11.877, 17.999000000000006, 14.511], \"x\": [32.623000000000005, 73.008, 16.452, 7.1469, 20.005, 18.501, 11.877, 17.999000000000006, 14.511], \"y\": [\"carpet\", \"concrete\", \"fine_concrete\", \"hard_tiles\", \"hard_tiles_large_space\", \"soft_pvc\", \"soft_tiles\", \"tiled\", \"wood\"], \"type\": \"bar\", \"uid\": \"80730cd4-f8cd-495a-bfba-e278d74a3f7a\"}, {\"name\": \"min\", \"orientation\": \"h\", \"text\": [-54.591, -121.49, -9.6574, -1.2135, -23.714, -26.83, -6.9817, -20.999, -10.404000000000002], \"x\": [-54.591, -121.49, -9.6574, -1.2135, -23.714, -26.83, -6.9817, -20.999, -10.404000000000002], \"y\": [\"carpet\", \"concrete\", \"fine_concrete\", \"hard_tiles\", \"hard_tiles_large_space\", \"soft_pvc\", \"soft_tiles\", \"tiled\", \"wood\"], \"type\": \"bar\", \"uid\": \"bb7cfdfd-7683-4a4d-9969-7ab281aa73b4\"}], {\"height\": 600, \"title\": {\"font\": {\"size\": 20}, \"text\": \"Linear Acceleration Y\"}, \"width\": 800}, {\"showLink\": false, \"linkText\": \"Export to plot.ly\", \"plotlyServerURL\": \"https://plot.ly\"}); \n",
       "}\n",
       "});</script>"
      ]
     },
     "metadata": {},
     "output_type": "display_data"
    }
   ],
   "source": [
    "linear_acceleration_Y = metrics.linear_acceleration_Y\n",
    "linear_acceleration_Y['surface'] = surfaces\n",
    "\n",
    "data = []\n",
    "\n",
    "for m in metrics_name:\n",
    "    data.append(bars(linear_acceleration_Y, m, 'surface'))\n",
    "\n",
    "layout = go.Layout(\n",
    "    title='Linear Acceleration Y',\n",
    "    titlefont=dict(size=20),\n",
    "    width=800,\n",
    "    height=600\n",
    ")\n",
    "\n",
    "fig = go.Figure(data=data, layout=layout)\n",
    "\n",
    "iplot(fig)"
   ]
  },
  {
   "cell_type": "code",
   "execution_count": 19,
   "metadata": {},
   "outputs": [
    {
     "data": {
      "application/vnd.plotly.v1+json": {
       "config": {
        "linkText": "Export to plot.ly",
        "plotlyServerURL": "https://plot.ly",
        "showLink": false
       },
       "data": [
        {
         "name": "std",
         "orientation": "h",
         "text": [
          2.2881491857113057,
          3.7266174810226635,
          2.0471928676250744,
          0.5996593007131245,
          4.866549601428407,
          1.235720511446597,
          0.4853423852536167,
          3.489905643459995,
          2.134775257869107
         ],
         "type": "bar",
         "uid": "b849c7b9-ba19-480e-9a4e-522b869448a8",
         "x": [
          2.2881491857113057,
          3.7266174810226635,
          2.0471928676250744,
          0.5996593007131245,
          4.866549601428407,
          1.235720511446597,
          0.4853423852536167,
          3.489905643459995,
          2.134775257869107
         ],
         "y": [
          "carpet",
          "concrete",
          "fine_concrete",
          "hard_tiles",
          "hard_tiles_large_space",
          "soft_pvc",
          "soft_tiles",
          "tiled",
          "wood"
         ]
        },
        {
         "name": "mean",
         "orientation": "h",
         "text": [
          -9.3680576633184,
          -9.356407552455533,
          -9.35607003114238,
          -9.33268076636907,
          -9.365567308216775,
          -9.386314703285045,
          -9.359473579545499,
          -9.357044820782752,
          -9.36426491762762
         ],
         "type": "bar",
         "uid": "c20e772d-1c9e-47d1-ab55-e336dac65f79",
         "x": [
          -9.3680576633184,
          -9.356407552455533,
          -9.35607003114238,
          -9.33268076636907,
          -9.365567308216775,
          -9.386314703285045,
          -9.359473579545499,
          -9.357044820782752,
          -9.36426491762762
         ],
         "y": [
          "carpet",
          "concrete",
          "fine_concrete",
          "hard_tiles",
          "hard_tiles_large_space",
          "soft_pvc",
          "soft_tiles",
          "tiled",
          "wood"
         ]
        },
        {
         "name": "max",
         "orientation": "h",
         "text": [
          22.336,
          65.839,
          7.1959,
          -7.1307,
          20.45,
          15.983,
          -3.0539,
          20.431,
          12.735
         ],
         "type": "bar",
         "uid": "428d0d35-3d3c-47d8-97d4-f6c2a1b9e67d",
         "x": [
          22.336,
          65.839,
          7.1959,
          -7.1307,
          20.45,
          15.983,
          -3.0539,
          20.431,
          12.735
         ],
         "y": [
          "carpet",
          "concrete",
          "fine_concrete",
          "hard_tiles",
          "hard_tiles_large_space",
          "soft_pvc",
          "soft_tiles",
          "tiled",
          "wood"
         ]
        },
        {
         "name": "min",
         "orientation": "h",
         "text": [
          -49.403,
          -75.38600000000002,
          -24.686,
          -11.452,
          -41.542,
          -27.907,
          -18.902,
          -37.273,
          -32.114000000000004
         ],
         "type": "bar",
         "uid": "b601b5ba-ed5d-48d5-a777-971aa26a02d9",
         "x": [
          -49.403,
          -75.38600000000002,
          -24.686,
          -11.452,
          -41.542,
          -27.907,
          -18.902,
          -37.273,
          -32.114000000000004
         ],
         "y": [
          "carpet",
          "concrete",
          "fine_concrete",
          "hard_tiles",
          "hard_tiles_large_space",
          "soft_pvc",
          "soft_tiles",
          "tiled",
          "wood"
         ]
        }
       ],
       "layout": {
        "height": 600,
        "title": {
         "font": {
          "size": 20
         },
         "text": "Linear Acceleration Z"
        },
        "width": 800
       }
      },
      "text/html": [
       "<div id=\"e94b93d0-20cb-4605-b4f3-9500b36503ad\" style=\"height: 600px; width: 800px;\" class=\"plotly-graph-div\"></div><script type=\"text/javascript\">require([\"plotly\"], function(Plotly) { window.PLOTLYENV=window.PLOTLYENV || {};window.PLOTLYENV.BASE_URL=\"https://plot.ly\";\n",
       "if (document.getElementById(\"e94b93d0-20cb-4605-b4f3-9500b36503ad\")) {\n",
       "    Plotly.newPlot(\"e94b93d0-20cb-4605-b4f3-9500b36503ad\", [{\"name\": \"std\", \"orientation\": \"h\", \"text\": [2.2881491857113057, 3.7266174810226635, 2.0471928676250744, 0.5996593007131245, 4.866549601428407, 1.235720511446597, 0.4853423852536167, 3.489905643459995, 2.134775257869107], \"x\": [2.2881491857113057, 3.7266174810226635, 2.0471928676250744, 0.5996593007131245, 4.866549601428407, 1.235720511446597, 0.4853423852536167, 3.489905643459995, 2.134775257869107], \"y\": [\"carpet\", \"concrete\", \"fine_concrete\", \"hard_tiles\", \"hard_tiles_large_space\", \"soft_pvc\", \"soft_tiles\", \"tiled\", \"wood\"], \"type\": \"bar\", \"uid\": \"b849c7b9-ba19-480e-9a4e-522b869448a8\"}, {\"name\": \"mean\", \"orientation\": \"h\", \"text\": [-9.3680576633184, -9.356407552455533, -9.35607003114238, -9.33268076636907, -9.365567308216775, -9.386314703285045, -9.359473579545499, -9.357044820782752, -9.36426491762762], \"x\": [-9.3680576633184, -9.356407552455533, -9.35607003114238, -9.33268076636907, -9.365567308216775, -9.386314703285045, -9.359473579545499, -9.357044820782752, -9.36426491762762], \"y\": [\"carpet\", \"concrete\", \"fine_concrete\", \"hard_tiles\", \"hard_tiles_large_space\", \"soft_pvc\", \"soft_tiles\", \"tiled\", \"wood\"], \"type\": \"bar\", \"uid\": \"c20e772d-1c9e-47d1-ab55-e336dac65f79\"}, {\"name\": \"max\", \"orientation\": \"h\", \"text\": [22.336, 65.839, 7.1959, -7.1307, 20.45, 15.983, -3.0539, 20.431, 12.735], \"x\": [22.336, 65.839, 7.1959, -7.1307, 20.45, 15.983, -3.0539, 20.431, 12.735], \"y\": [\"carpet\", \"concrete\", \"fine_concrete\", \"hard_tiles\", \"hard_tiles_large_space\", \"soft_pvc\", \"soft_tiles\", \"tiled\", \"wood\"], \"type\": \"bar\", \"uid\": \"428d0d35-3d3c-47d8-97d4-f6c2a1b9e67d\"}, {\"name\": \"min\", \"orientation\": \"h\", \"text\": [-49.403, -75.38600000000002, -24.686, -11.452, -41.542, -27.907, -18.902, -37.273, -32.114000000000004], \"x\": [-49.403, -75.38600000000002, -24.686, -11.452, -41.542, -27.907, -18.902, -37.273, -32.114000000000004], \"y\": [\"carpet\", \"concrete\", \"fine_concrete\", \"hard_tiles\", \"hard_tiles_large_space\", \"soft_pvc\", \"soft_tiles\", \"tiled\", \"wood\"], \"type\": \"bar\", \"uid\": \"b601b5ba-ed5d-48d5-a777-971aa26a02d9\"}], {\"height\": 600, \"title\": {\"font\": {\"size\": 20}, \"text\": \"Linear Acceleration Z\"}, \"width\": 800}, {\"showLink\": false, \"linkText\": \"Export to plot.ly\", \"plotlyServerURL\": \"https://plot.ly\"}); \n",
       "}\n",
       "});</script>"
      ],
      "text/vnd.plotly.v1+html": [
       "<div id=\"e94b93d0-20cb-4605-b4f3-9500b36503ad\" style=\"height: 600px; width: 800px;\" class=\"plotly-graph-div\"></div><script type=\"text/javascript\">require([\"plotly\"], function(Plotly) { window.PLOTLYENV=window.PLOTLYENV || {};window.PLOTLYENV.BASE_URL=\"https://plot.ly\";\n",
       "if (document.getElementById(\"e94b93d0-20cb-4605-b4f3-9500b36503ad\")) {\n",
       "    Plotly.newPlot(\"e94b93d0-20cb-4605-b4f3-9500b36503ad\", [{\"name\": \"std\", \"orientation\": \"h\", \"text\": [2.2881491857113057, 3.7266174810226635, 2.0471928676250744, 0.5996593007131245, 4.866549601428407, 1.235720511446597, 0.4853423852536167, 3.489905643459995, 2.134775257869107], \"x\": [2.2881491857113057, 3.7266174810226635, 2.0471928676250744, 0.5996593007131245, 4.866549601428407, 1.235720511446597, 0.4853423852536167, 3.489905643459995, 2.134775257869107], \"y\": [\"carpet\", \"concrete\", \"fine_concrete\", \"hard_tiles\", \"hard_tiles_large_space\", \"soft_pvc\", \"soft_tiles\", \"tiled\", \"wood\"], \"type\": \"bar\", \"uid\": \"b849c7b9-ba19-480e-9a4e-522b869448a8\"}, {\"name\": \"mean\", \"orientation\": \"h\", \"text\": [-9.3680576633184, -9.356407552455533, -9.35607003114238, -9.33268076636907, -9.365567308216775, -9.386314703285045, -9.359473579545499, -9.357044820782752, -9.36426491762762], \"x\": [-9.3680576633184, -9.356407552455533, -9.35607003114238, -9.33268076636907, -9.365567308216775, -9.386314703285045, -9.359473579545499, -9.357044820782752, -9.36426491762762], \"y\": [\"carpet\", \"concrete\", \"fine_concrete\", \"hard_tiles\", \"hard_tiles_large_space\", \"soft_pvc\", \"soft_tiles\", \"tiled\", \"wood\"], \"type\": \"bar\", \"uid\": \"c20e772d-1c9e-47d1-ab55-e336dac65f79\"}, {\"name\": \"max\", \"orientation\": \"h\", \"text\": [22.336, 65.839, 7.1959, -7.1307, 20.45, 15.983, -3.0539, 20.431, 12.735], \"x\": [22.336, 65.839, 7.1959, -7.1307, 20.45, 15.983, -3.0539, 20.431, 12.735], \"y\": [\"carpet\", \"concrete\", \"fine_concrete\", \"hard_tiles\", \"hard_tiles_large_space\", \"soft_pvc\", \"soft_tiles\", \"tiled\", \"wood\"], \"type\": \"bar\", \"uid\": \"428d0d35-3d3c-47d8-97d4-f6c2a1b9e67d\"}, {\"name\": \"min\", \"orientation\": \"h\", \"text\": [-49.403, -75.38600000000002, -24.686, -11.452, -41.542, -27.907, -18.902, -37.273, -32.114000000000004], \"x\": [-49.403, -75.38600000000002, -24.686, -11.452, -41.542, -27.907, -18.902, -37.273, -32.114000000000004], \"y\": [\"carpet\", \"concrete\", \"fine_concrete\", \"hard_tiles\", \"hard_tiles_large_space\", \"soft_pvc\", \"soft_tiles\", \"tiled\", \"wood\"], \"type\": \"bar\", \"uid\": \"b601b5ba-ed5d-48d5-a777-971aa26a02d9\"}], {\"height\": 600, \"title\": {\"font\": {\"size\": 20}, \"text\": \"Linear Acceleration Z\"}, \"width\": 800}, {\"showLink\": false, \"linkText\": \"Export to plot.ly\", \"plotlyServerURL\": \"https://plot.ly\"}); \n",
       "}\n",
       "});</script>"
      ]
     },
     "metadata": {},
     "output_type": "display_data"
    }
   ],
   "source": [
    "linear_acceleration_Z = metrics.linear_acceleration_Z\n",
    "linear_acceleration_Z['surface'] = surfaces\n",
    "\n",
    "data = []\n",
    "\n",
    "for m in metrics_name:\n",
    "    data.append(bars(linear_acceleration_Z, m, 'surface'))\n",
    "\n",
    "layout = go.Layout(\n",
    "    title='Linear Acceleration Z',\n",
    "    titlefont=dict(size=20),\n",
    "    width=800,\n",
    "    height=600\n",
    ")\n",
    "\n",
    "fig = go.Figure(data=data, layout=layout)\n",
    "\n",
    "iplot(fig)"
   ]
  },
  {
   "cell_type": "markdown",
   "metadata": {},
   "source": [
    "The charts above prove that the metrics are different for each kind of surface."
   ]
  },
  {
   "cell_type": "markdown",
   "metadata": {},
   "source": [
    "## New surface categories\n",
    "\n",
    "Now let's try and creat new categories based in how hard is to move in each floor."
   ]
  },
  {
   "cell_type": "code",
   "execution_count": 20,
   "metadata": {},
   "outputs": [],
   "source": [
    "new_cat = {'carpet': 'bad', 'concrete': 'good', 'fine_concrete': 'good',\n",
    "           'hard_tiles': 'good', 'hard_tiles_large_space': 'bad','soft_pvc': 'medium',\n",
    "           'soft_tiles': 'medium', 'tiled': 'bad', 'wood': 'good'}"
   ]
  },
  {
   "cell_type": "code",
   "execution_count": 21,
   "metadata": {},
   "outputs": [],
   "source": [
    "train['type_surface'] = train['surface'].map(new_cat)"
   ]
  },
  {
   "cell_type": "code",
   "execution_count": 22,
   "metadata": {},
   "outputs": [
    {
     "data": {
      "text/html": [
       "<div>\n",
       "<style scoped>\n",
       "    .dataframe tbody tr th:only-of-type {\n",
       "        vertical-align: middle;\n",
       "    }\n",
       "\n",
       "    .dataframe tbody tr th {\n",
       "        vertical-align: top;\n",
       "    }\n",
       "\n",
       "    .dataframe thead th {\n",
       "        text-align: right;\n",
       "    }\n",
       "</style>\n",
       "<table border=\"1\" class=\"dataframe\">\n",
       "  <thead>\n",
       "    <tr style=\"text-align: right;\">\n",
       "      <th></th>\n",
       "      <th>row_id</th>\n",
       "      <th>series_id</th>\n",
       "      <th>measurement_number</th>\n",
       "      <th>orientation_X</th>\n",
       "      <th>orientation_Y</th>\n",
       "      <th>orientation_Z</th>\n",
       "      <th>orientation_W</th>\n",
       "      <th>angular_velocity_X</th>\n",
       "      <th>angular_velocity_Y</th>\n",
       "      <th>angular_velocity_Z</th>\n",
       "      <th>linear_acceleration_X</th>\n",
       "      <th>linear_acceleration_Y</th>\n",
       "      <th>linear_acceleration_Z</th>\n",
       "      <th>group_id</th>\n",
       "      <th>surface</th>\n",
       "      <th>type_surface</th>\n",
       "    </tr>\n",
       "  </thead>\n",
       "  <tbody>\n",
       "    <tr>\n",
       "      <th>0</th>\n",
       "      <td>0_0</td>\n",
       "      <td>0</td>\n",
       "      <td>0</td>\n",
       "      <td>-0.75853</td>\n",
       "      <td>-0.63435</td>\n",
       "      <td>-0.10488</td>\n",
       "      <td>-0.10597</td>\n",
       "      <td>0.107650</td>\n",
       "      <td>0.017561</td>\n",
       "      <td>0.000767</td>\n",
       "      <td>-0.74857</td>\n",
       "      <td>2.1030</td>\n",
       "      <td>-9.7532</td>\n",
       "      <td>13</td>\n",
       "      <td>fine_concrete</td>\n",
       "      <td>good</td>\n",
       "    </tr>\n",
       "    <tr>\n",
       "      <th>1</th>\n",
       "      <td>0_1</td>\n",
       "      <td>0</td>\n",
       "      <td>1</td>\n",
       "      <td>-0.75853</td>\n",
       "      <td>-0.63434</td>\n",
       "      <td>-0.10490</td>\n",
       "      <td>-0.10600</td>\n",
       "      <td>0.067851</td>\n",
       "      <td>0.029939</td>\n",
       "      <td>0.003386</td>\n",
       "      <td>0.33995</td>\n",
       "      <td>1.5064</td>\n",
       "      <td>-9.4128</td>\n",
       "      <td>13</td>\n",
       "      <td>fine_concrete</td>\n",
       "      <td>good</td>\n",
       "    </tr>\n",
       "    <tr>\n",
       "      <th>2</th>\n",
       "      <td>0_2</td>\n",
       "      <td>0</td>\n",
       "      <td>2</td>\n",
       "      <td>-0.75853</td>\n",
       "      <td>-0.63435</td>\n",
       "      <td>-0.10492</td>\n",
       "      <td>-0.10597</td>\n",
       "      <td>0.007275</td>\n",
       "      <td>0.028934</td>\n",
       "      <td>-0.005978</td>\n",
       "      <td>-0.26429</td>\n",
       "      <td>1.5922</td>\n",
       "      <td>-8.7267</td>\n",
       "      <td>13</td>\n",
       "      <td>fine_concrete</td>\n",
       "      <td>good</td>\n",
       "    </tr>\n",
       "    <tr>\n",
       "      <th>3</th>\n",
       "      <td>0_3</td>\n",
       "      <td>0</td>\n",
       "      <td>3</td>\n",
       "      <td>-0.75852</td>\n",
       "      <td>-0.63436</td>\n",
       "      <td>-0.10495</td>\n",
       "      <td>-0.10597</td>\n",
       "      <td>-0.013053</td>\n",
       "      <td>0.019448</td>\n",
       "      <td>-0.008974</td>\n",
       "      <td>0.42684</td>\n",
       "      <td>1.0993</td>\n",
       "      <td>-10.0960</td>\n",
       "      <td>13</td>\n",
       "      <td>fine_concrete</td>\n",
       "      <td>good</td>\n",
       "    </tr>\n",
       "    <tr>\n",
       "      <th>4</th>\n",
       "      <td>0_4</td>\n",
       "      <td>0</td>\n",
       "      <td>4</td>\n",
       "      <td>-0.75852</td>\n",
       "      <td>-0.63435</td>\n",
       "      <td>-0.10495</td>\n",
       "      <td>-0.10596</td>\n",
       "      <td>0.005135</td>\n",
       "      <td>0.007652</td>\n",
       "      <td>0.005245</td>\n",
       "      <td>-0.50969</td>\n",
       "      <td>1.4689</td>\n",
       "      <td>-10.4410</td>\n",
       "      <td>13</td>\n",
       "      <td>fine_concrete</td>\n",
       "      <td>good</td>\n",
       "    </tr>\n",
       "  </tbody>\n",
       "</table>\n",
       "</div>"
      ],
      "text/plain": [
       "  row_id  series_id      ...             surface  type_surface\n",
       "0    0_0          0      ...       fine_concrete          good\n",
       "1    0_1          0      ...       fine_concrete          good\n",
       "2    0_2          0      ...       fine_concrete          good\n",
       "3    0_3          0      ...       fine_concrete          good\n",
       "4    0_4          0      ...       fine_concrete          good\n",
       "\n",
       "[5 rows x 16 columns]"
      ]
     },
     "execution_count": 22,
     "metadata": {},
     "output_type": "execute_result"
    }
   ],
   "source": [
    "train.head()"
   ]
  },
  {
   "cell_type": "code",
   "execution_count": 23,
   "metadata": {},
   "outputs": [],
   "source": [
    "metrics_new_cat = (train[movement_cols+['type_surface']]\n",
    "                   .groupby('type_surface')\n",
    "                   .agg(['min','max','mean', 'std'])\n",
    "              )"
   ]
  },
  {
   "cell_type": "code",
   "execution_count": 24,
   "metadata": {},
   "outputs": [],
   "source": [
    "type_surface = ['bad', 'good', 'medium']"
   ]
  },
  {
   "cell_type": "code",
   "execution_count": 25,
   "metadata": {},
   "outputs": [
    {
     "data": {
      "text/html": [
       "<div>\n",
       "<style scoped>\n",
       "    .dataframe tbody tr th:only-of-type {\n",
       "        vertical-align: middle;\n",
       "    }\n",
       "\n",
       "    .dataframe tbody tr th {\n",
       "        vertical-align: top;\n",
       "    }\n",
       "\n",
       "    .dataframe thead tr th {\n",
       "        text-align: left;\n",
       "    }\n",
       "\n",
       "    .dataframe thead tr:last-of-type th {\n",
       "        text-align: right;\n",
       "    }\n",
       "</style>\n",
       "<table border=\"1\" class=\"dataframe\">\n",
       "  <thead>\n",
       "    <tr>\n",
       "      <th></th>\n",
       "      <th colspan=\"4\" halign=\"left\">orientation_X</th>\n",
       "      <th colspan=\"4\" halign=\"left\">orientation_Y</th>\n",
       "      <th colspan=\"4\" halign=\"left\">orientation_Z</th>\n",
       "      <th colspan=\"4\" halign=\"left\">orientation_W</th>\n",
       "      <th colspan=\"4\" halign=\"left\">angular_velocity_X</th>\n",
       "      <th colspan=\"4\" halign=\"left\">angular_velocity_Y</th>\n",
       "      <th colspan=\"4\" halign=\"left\">angular_velocity_Z</th>\n",
       "      <th colspan=\"4\" halign=\"left\">linear_acceleration_X</th>\n",
       "      <th colspan=\"4\" halign=\"left\">linear_acceleration_Y</th>\n",
       "      <th colspan=\"4\" halign=\"left\">linear_acceleration_Z</th>\n",
       "    </tr>\n",
       "    <tr>\n",
       "      <th></th>\n",
       "      <th>min</th>\n",
       "      <th>max</th>\n",
       "      <th>mean</th>\n",
       "      <th>std</th>\n",
       "      <th>min</th>\n",
       "      <th>max</th>\n",
       "      <th>mean</th>\n",
       "      <th>std</th>\n",
       "      <th>min</th>\n",
       "      <th>max</th>\n",
       "      <th>mean</th>\n",
       "      <th>std</th>\n",
       "      <th>min</th>\n",
       "      <th>max</th>\n",
       "      <th>mean</th>\n",
       "      <th>std</th>\n",
       "      <th>min</th>\n",
       "      <th>max</th>\n",
       "      <th>mean</th>\n",
       "      <th>std</th>\n",
       "      <th>min</th>\n",
       "      <th>max</th>\n",
       "      <th>mean</th>\n",
       "      <th>std</th>\n",
       "      <th>min</th>\n",
       "      <th>max</th>\n",
       "      <th>mean</th>\n",
       "      <th>std</th>\n",
       "      <th>min</th>\n",
       "      <th>max</th>\n",
       "      <th>mean</th>\n",
       "      <th>std</th>\n",
       "      <th>min</th>\n",
       "      <th>max</th>\n",
       "      <th>mean</th>\n",
       "      <th>std</th>\n",
       "      <th>min</th>\n",
       "      <th>max</th>\n",
       "      <th>mean</th>\n",
       "      <th>std</th>\n",
       "    </tr>\n",
       "    <tr>\n",
       "      <th>type_surface</th>\n",
       "      <th></th>\n",
       "      <th></th>\n",
       "      <th></th>\n",
       "      <th></th>\n",
       "      <th></th>\n",
       "      <th></th>\n",
       "      <th></th>\n",
       "      <th></th>\n",
       "      <th></th>\n",
       "      <th></th>\n",
       "      <th></th>\n",
       "      <th></th>\n",
       "      <th></th>\n",
       "      <th></th>\n",
       "      <th></th>\n",
       "      <th></th>\n",
       "      <th></th>\n",
       "      <th></th>\n",
       "      <th></th>\n",
       "      <th></th>\n",
       "      <th></th>\n",
       "      <th></th>\n",
       "      <th></th>\n",
       "      <th></th>\n",
       "      <th></th>\n",
       "      <th></th>\n",
       "      <th></th>\n",
       "      <th></th>\n",
       "      <th></th>\n",
       "      <th></th>\n",
       "      <th></th>\n",
       "      <th></th>\n",
       "      <th></th>\n",
       "      <th></th>\n",
       "      <th></th>\n",
       "      <th></th>\n",
       "      <th></th>\n",
       "      <th></th>\n",
       "      <th></th>\n",
       "      <th></th>\n",
       "    </tr>\n",
       "  </thead>\n",
       "  <tbody>\n",
       "    <tr>\n",
       "      <th>bad</th>\n",
       "      <td>-0.98910</td>\n",
       "      <td>0.98872</td>\n",
       "      <td>-0.092540</td>\n",
       "      <td>0.650676</td>\n",
       "      <td>-0.98965</td>\n",
       "      <td>0.98840</td>\n",
       "      <td>0.047045</td>\n",
       "      <td>0.737081</td>\n",
       "      <td>-0.15189</td>\n",
       "      <td>0.15566</td>\n",
       "      <td>0.007074</td>\n",
       "      <td>0.111535</td>\n",
       "      <td>-0.15662</td>\n",
       "      <td>0.15395</td>\n",
       "      <td>-0.014182</td>\n",
       "      <td>0.099357</td>\n",
       "      <td>-1.24550</td>\n",
       "      <td>1.21160</td>\n",
       "      <td>0.000376</td>\n",
       "      <td>0.154400</td>\n",
       "      <td>-0.92786</td>\n",
       "      <td>1.07910</td>\n",
       "      <td>0.012855</td>\n",
       "      <td>0.088775</td>\n",
       "      <td>-1.2445</td>\n",
       "      <td>1.12570</td>\n",
       "      <td>-0.033557</td>\n",
       "      <td>0.186007</td>\n",
       "      <td>-29.895</td>\n",
       "      <td>24.945</td>\n",
       "      <td>0.119604</td>\n",
       "      <td>2.343248</td>\n",
       "      <td>-54.591</td>\n",
       "      <td>32.623</td>\n",
       "      <td>2.897354</td>\n",
       "      <td>2.414741</td>\n",
       "      <td>-49.403</td>\n",
       "      <td>22.336</td>\n",
       "      <td>-9.361700</td>\n",
       "      <td>3.792861</td>\n",
       "    </tr>\n",
       "    <tr>\n",
       "      <th>good</th>\n",
       "      <td>-0.98872</td>\n",
       "      <td>0.98889</td>\n",
       "      <td>-0.160448</td>\n",
       "      <td>0.676415</td>\n",
       "      <td>-0.98883</td>\n",
       "      <td>0.98898</td>\n",
       "      <td>0.136456</td>\n",
       "      <td>0.689631</td>\n",
       "      <td>-0.15396</td>\n",
       "      <td>0.15571</td>\n",
       "      <td>0.019769</td>\n",
       "      <td>0.104529</td>\n",
       "      <td>-0.15340</td>\n",
       "      <td>0.15477</td>\n",
       "      <td>-0.025059</td>\n",
       "      <td>0.102798</td>\n",
       "      <td>-2.37100</td>\n",
       "      <td>2.28220</td>\n",
       "      <td>-0.000227</td>\n",
       "      <td>0.121180</td>\n",
       "      <td>-0.90875</td>\n",
       "      <td>0.83621</td>\n",
       "      <td>0.001518</td>\n",
       "      <td>0.103348</td>\n",
       "      <td>-1.2593</td>\n",
       "      <td>1.38730</td>\n",
       "      <td>0.002784</td>\n",
       "      <td>0.281936</td>\n",
       "      <td>-36.067</td>\n",
       "      <td>36.797</td>\n",
       "      <td>0.142569</td>\n",
       "      <td>1.994371</td>\n",
       "      <td>-121.490</td>\n",
       "      <td>73.008</td>\n",
       "      <td>2.906428</td>\n",
       "      <td>2.374089</td>\n",
       "      <td>-75.386</td>\n",
       "      <td>65.839</td>\n",
       "      <td>-9.358751</td>\n",
       "      <td>2.922112</td>\n",
       "    </tr>\n",
       "    <tr>\n",
       "      <th>medium</th>\n",
       "      <td>-0.97853</td>\n",
       "      <td>0.98910</td>\n",
       "      <td>0.300080</td>\n",
       "      <td>0.629583</td>\n",
       "      <td>-0.96176</td>\n",
       "      <td>0.98876</td>\n",
       "      <td>-0.003016</td>\n",
       "      <td>0.701412</td>\n",
       "      <td>-0.16283</td>\n",
       "      <td>0.15264</td>\n",
       "      <td>0.005171</td>\n",
       "      <td>0.101934</td>\n",
       "      <td>-0.14777</td>\n",
       "      <td>0.14985</td>\n",
       "      <td>0.042954</td>\n",
       "      <td>0.096607</td>\n",
       "      <td>-0.64247</td>\n",
       "      <td>0.86514</td>\n",
       "      <td>0.000677</td>\n",
       "      <td>0.051646</td>\n",
       "      <td>-0.46152</td>\n",
       "      <td>0.42471</td>\n",
       "      <td>0.015629</td>\n",
       "      <td>0.053361</td>\n",
       "      <td>-1.2688</td>\n",
       "      <td>0.66076</td>\n",
       "      <td>-0.042848</td>\n",
       "      <td>0.148712</td>\n",
       "      <td>-11.505</td>\n",
       "      <td>10.716</td>\n",
       "      <td>0.115931</td>\n",
       "      <td>0.847900</td>\n",
       "      <td>-26.830</td>\n",
       "      <td>18.501</td>\n",
       "      <td>2.841438</td>\n",
       "      <td>1.237244</td>\n",
       "      <td>-27.907</td>\n",
       "      <td>15.983</td>\n",
       "      <td>-9.378568</td>\n",
       "      <td>1.074429</td>\n",
       "    </tr>\n",
       "  </tbody>\n",
       "</table>\n",
       "</div>"
      ],
      "text/plain": [
       "             orientation_X             ...    linear_acceleration_Z          \n",
       "                       min      max    ...                     mean       std\n",
       "type_surface                           ...                                   \n",
       "bad               -0.98910  0.98872    ...                -9.361700  3.792861\n",
       "good              -0.98872  0.98889    ...                -9.358751  2.922112\n",
       "medium            -0.97853  0.98910    ...                -9.378568  1.074429\n",
       "\n",
       "[3 rows x 40 columns]"
      ]
     },
     "execution_count": 25,
     "metadata": {},
     "output_type": "execute_result"
    }
   ],
   "source": [
    "metrics_new_cat"
   ]
  },
  {
   "cell_type": "code",
   "execution_count": 26,
   "metadata": {},
   "outputs": [
    {
     "data": {
      "application/vnd.plotly.v1+json": {
       "config": {
        "linkText": "Export to plot.ly",
        "plotlyServerURL": "https://plot.ly",
        "showLink": false
       },
       "data": [
        {
         "name": "std",
         "orientation": "h",
         "text": [
          0.6506757092537089,
          0.6764148125648017,
          0.6295833522741577
         ],
         "type": "bar",
         "uid": "bac19657-f550-4794-b66c-023d203ef601",
         "x": [
          0.6506757092537089,
          0.6764148125648017,
          0.6295833522741577
         ],
         "y": [
          "bad",
          "good",
          "medium"
         ]
        },
        {
         "name": "mean",
         "orientation": "h",
         "text": [
          -0.09253988417925733,
          -0.1604484192760773,
          0.30007970919182075
         ],
         "type": "bar",
         "uid": "5b134907-baa8-46c7-82a5-40360004f903",
         "x": [
          -0.09253988417925733,
          -0.1604484192760773,
          0.30007970919182075
         ],
         "y": [
          "bad",
          "good",
          "medium"
         ]
        },
        {
         "name": "max",
         "orientation": "h",
         "text": [
          0.98872,
          0.98889,
          0.9891
         ],
         "type": "bar",
         "uid": "3d6d4e56-6270-41cb-9600-7914e311bc68",
         "x": [
          0.98872,
          0.98889,
          0.9891
         ],
         "y": [
          "bad",
          "good",
          "medium"
         ]
        },
        {
         "name": "min",
         "orientation": "h",
         "text": [
          -0.9891,
          -0.98872,
          -0.97853
         ],
         "type": "bar",
         "uid": "52060451-c105-4f3d-abc8-0facb866f281",
         "x": [
          -0.9891,
          -0.98872,
          -0.97853
         ],
         "y": [
          "bad",
          "good",
          "medium"
         ]
        }
       ],
       "layout": {
        "height": 600,
        "title": {
         "font": {
          "size": 20
         },
         "text": "Orientation X"
        },
        "width": 800
       }
      },
      "text/html": [
       "<div id=\"511d8b92-1edd-466e-81ba-a92281f87006\" style=\"height: 600px; width: 800px;\" class=\"plotly-graph-div\"></div><script type=\"text/javascript\">require([\"plotly\"], function(Plotly) { window.PLOTLYENV=window.PLOTLYENV || {};window.PLOTLYENV.BASE_URL=\"https://plot.ly\";\n",
       "if (document.getElementById(\"511d8b92-1edd-466e-81ba-a92281f87006\")) {\n",
       "    Plotly.newPlot(\"511d8b92-1edd-466e-81ba-a92281f87006\", [{\"name\": \"std\", \"orientation\": \"h\", \"text\": [0.6506757092537089, 0.6764148125648017, 0.6295833522741577], \"x\": [0.6506757092537089, 0.6764148125648017, 0.6295833522741577], \"y\": [\"bad\", \"good\", \"medium\"], \"type\": \"bar\", \"uid\": \"bac19657-f550-4794-b66c-023d203ef601\"}, {\"name\": \"mean\", \"orientation\": \"h\", \"text\": [-0.09253988417925733, -0.1604484192760773, 0.30007970919182075], \"x\": [-0.09253988417925733, -0.1604484192760773, 0.30007970919182075], \"y\": [\"bad\", \"good\", \"medium\"], \"type\": \"bar\", \"uid\": \"5b134907-baa8-46c7-82a5-40360004f903\"}, {\"name\": \"max\", \"orientation\": \"h\", \"text\": [0.98872, 0.98889, 0.9891], \"x\": [0.98872, 0.98889, 0.9891], \"y\": [\"bad\", \"good\", \"medium\"], \"type\": \"bar\", \"uid\": \"3d6d4e56-6270-41cb-9600-7914e311bc68\"}, {\"name\": \"min\", \"orientation\": \"h\", \"text\": [-0.9891, -0.98872, -0.97853], \"x\": [-0.9891, -0.98872, -0.97853], \"y\": [\"bad\", \"good\", \"medium\"], \"type\": \"bar\", \"uid\": \"52060451-c105-4f3d-abc8-0facb866f281\"}], {\"height\": 600, \"title\": {\"font\": {\"size\": 20}, \"text\": \"Orientation X\"}, \"width\": 800}, {\"showLink\": false, \"linkText\": \"Export to plot.ly\", \"plotlyServerURL\": \"https://plot.ly\"}); \n",
       "}\n",
       "});</script>"
      ],
      "text/vnd.plotly.v1+html": [
       "<div id=\"511d8b92-1edd-466e-81ba-a92281f87006\" style=\"height: 600px; width: 800px;\" class=\"plotly-graph-div\"></div><script type=\"text/javascript\">require([\"plotly\"], function(Plotly) { window.PLOTLYENV=window.PLOTLYENV || {};window.PLOTLYENV.BASE_URL=\"https://plot.ly\";\n",
       "if (document.getElementById(\"511d8b92-1edd-466e-81ba-a92281f87006\")) {\n",
       "    Plotly.newPlot(\"511d8b92-1edd-466e-81ba-a92281f87006\", [{\"name\": \"std\", \"orientation\": \"h\", \"text\": [0.6506757092537089, 0.6764148125648017, 0.6295833522741577], \"x\": [0.6506757092537089, 0.6764148125648017, 0.6295833522741577], \"y\": [\"bad\", \"good\", \"medium\"], \"type\": \"bar\", \"uid\": \"bac19657-f550-4794-b66c-023d203ef601\"}, {\"name\": \"mean\", \"orientation\": \"h\", \"text\": [-0.09253988417925733, -0.1604484192760773, 0.30007970919182075], \"x\": [-0.09253988417925733, -0.1604484192760773, 0.30007970919182075], \"y\": [\"bad\", \"good\", \"medium\"], \"type\": \"bar\", \"uid\": \"5b134907-baa8-46c7-82a5-40360004f903\"}, {\"name\": \"max\", \"orientation\": \"h\", \"text\": [0.98872, 0.98889, 0.9891], \"x\": [0.98872, 0.98889, 0.9891], \"y\": [\"bad\", \"good\", \"medium\"], \"type\": \"bar\", \"uid\": \"3d6d4e56-6270-41cb-9600-7914e311bc68\"}, {\"name\": \"min\", \"orientation\": \"h\", \"text\": [-0.9891, -0.98872, -0.97853], \"x\": [-0.9891, -0.98872, -0.97853], \"y\": [\"bad\", \"good\", \"medium\"], \"type\": \"bar\", \"uid\": \"52060451-c105-4f3d-abc8-0facb866f281\"}], {\"height\": 600, \"title\": {\"font\": {\"size\": 20}, \"text\": \"Orientation X\"}, \"width\": 800}, {\"showLink\": false, \"linkText\": \"Export to plot.ly\", \"plotlyServerURL\": \"https://plot.ly\"}); \n",
       "}\n",
       "});</script>"
      ]
     },
     "metadata": {},
     "output_type": "display_data"
    }
   ],
   "source": [
    "orientation_x = metrics_new_cat.orientation_X\n",
    "orientation_x['type_surface'] = type_surface\n",
    "\n",
    "data = []\n",
    "\n",
    "for m in metrics_name:\n",
    "    data.append(bars(orientation_x, m, 'type_surface'))\n",
    "\n",
    "layout = go.Layout(\n",
    "    title='Orientation X',\n",
    "    titlefont=dict(size=20),\n",
    "    width=800,\n",
    "    height=600\n",
    ")\n",
    "\n",
    "fig = go.Figure(data=data, layout=layout)\n",
    "\n",
    "iplot(fig)"
   ]
  },
  {
   "cell_type": "code",
   "execution_count": 27,
   "metadata": {},
   "outputs": [
    {
     "data": {
      "application/vnd.plotly.v1+json": {
       "config": {
        "linkText": "Export to plot.ly",
        "plotlyServerURL": "https://plot.ly",
        "showLink": false
       },
       "data": [
        {
         "name": "std",
         "orientation": "h",
         "text": [
          0.737081225215904,
          0.6896308046267183,
          0.7014123834230138
         ],
         "type": "bar",
         "uid": "3439c978-eb63-4373-bc2f-362e7ca72acb",
         "x": [
          0.737081225215904,
          0.6896308046267183,
          0.7014123834230138
         ],
         "y": [
          "bad",
          "good",
          "medium"
         ]
        },
        {
         "name": "mean",
         "orientation": "h",
         "text": [
          0.047045263176089536,
          0.13645610676508726,
          -0.0030164064866673246
         ],
         "type": "bar",
         "uid": "359d0a36-2d94-416d-b0a8-3dc4ad9e0403",
         "x": [
          0.047045263176089536,
          0.13645610676508726,
          -0.0030164064866673246
         ],
         "y": [
          "bad",
          "good",
          "medium"
         ]
        },
        {
         "name": "max",
         "orientation": "h",
         "text": [
          0.9884,
          0.98898,
          0.98876
         ],
         "type": "bar",
         "uid": "88b97b4a-aabd-4211-84df-9e4c74e1c519",
         "x": [
          0.9884,
          0.98898,
          0.98876
         ],
         "y": [
          "bad",
          "good",
          "medium"
         ]
        },
        {
         "name": "min",
         "orientation": "h",
         "text": [
          -0.98965,
          -0.98883,
          -0.96176
         ],
         "type": "bar",
         "uid": "987f2999-59c2-4394-8b65-0dcd20cbc9a4",
         "x": [
          -0.98965,
          -0.98883,
          -0.96176
         ],
         "y": [
          "bad",
          "good",
          "medium"
         ]
        }
       ],
       "layout": {
        "height": 600,
        "title": {
         "font": {
          "size": 20
         },
         "text": "Orientation Y"
        },
        "width": 800
       }
      },
      "text/html": [
       "<div id=\"f28ef8c4-29ef-485d-90e7-cf9a11902f68\" style=\"height: 600px; width: 800px;\" class=\"plotly-graph-div\"></div><script type=\"text/javascript\">require([\"plotly\"], function(Plotly) { window.PLOTLYENV=window.PLOTLYENV || {};window.PLOTLYENV.BASE_URL=\"https://plot.ly\";\n",
       "if (document.getElementById(\"f28ef8c4-29ef-485d-90e7-cf9a11902f68\")) {\n",
       "    Plotly.newPlot(\"f28ef8c4-29ef-485d-90e7-cf9a11902f68\", [{\"name\": \"std\", \"orientation\": \"h\", \"text\": [0.737081225215904, 0.6896308046267183, 0.7014123834230138], \"x\": [0.737081225215904, 0.6896308046267183, 0.7014123834230138], \"y\": [\"bad\", \"good\", \"medium\"], \"type\": \"bar\", \"uid\": \"3439c978-eb63-4373-bc2f-362e7ca72acb\"}, {\"name\": \"mean\", \"orientation\": \"h\", \"text\": [0.047045263176089536, 0.13645610676508726, -0.0030164064866673246], \"x\": [0.047045263176089536, 0.13645610676508726, -0.0030164064866673246], \"y\": [\"bad\", \"good\", \"medium\"], \"type\": \"bar\", \"uid\": \"359d0a36-2d94-416d-b0a8-3dc4ad9e0403\"}, {\"name\": \"max\", \"orientation\": \"h\", \"text\": [0.9884, 0.98898, 0.98876], \"x\": [0.9884, 0.98898, 0.98876], \"y\": [\"bad\", \"good\", \"medium\"], \"type\": \"bar\", \"uid\": \"88b97b4a-aabd-4211-84df-9e4c74e1c519\"}, {\"name\": \"min\", \"orientation\": \"h\", \"text\": [-0.98965, -0.98883, -0.96176], \"x\": [-0.98965, -0.98883, -0.96176], \"y\": [\"bad\", \"good\", \"medium\"], \"type\": \"bar\", \"uid\": \"987f2999-59c2-4394-8b65-0dcd20cbc9a4\"}], {\"height\": 600, \"title\": {\"font\": {\"size\": 20}, \"text\": \"Orientation Y\"}, \"width\": 800}, {\"showLink\": false, \"linkText\": \"Export to plot.ly\", \"plotlyServerURL\": \"https://plot.ly\"}); \n",
       "}\n",
       "});</script>"
      ],
      "text/vnd.plotly.v1+html": [
       "<div id=\"f28ef8c4-29ef-485d-90e7-cf9a11902f68\" style=\"height: 600px; width: 800px;\" class=\"plotly-graph-div\"></div><script type=\"text/javascript\">require([\"plotly\"], function(Plotly) { window.PLOTLYENV=window.PLOTLYENV || {};window.PLOTLYENV.BASE_URL=\"https://plot.ly\";\n",
       "if (document.getElementById(\"f28ef8c4-29ef-485d-90e7-cf9a11902f68\")) {\n",
       "    Plotly.newPlot(\"f28ef8c4-29ef-485d-90e7-cf9a11902f68\", [{\"name\": \"std\", \"orientation\": \"h\", \"text\": [0.737081225215904, 0.6896308046267183, 0.7014123834230138], \"x\": [0.737081225215904, 0.6896308046267183, 0.7014123834230138], \"y\": [\"bad\", \"good\", \"medium\"], \"type\": \"bar\", \"uid\": \"3439c978-eb63-4373-bc2f-362e7ca72acb\"}, {\"name\": \"mean\", \"orientation\": \"h\", \"text\": [0.047045263176089536, 0.13645610676508726, -0.0030164064866673246], \"x\": [0.047045263176089536, 0.13645610676508726, -0.0030164064866673246], \"y\": [\"bad\", \"good\", \"medium\"], \"type\": \"bar\", \"uid\": \"359d0a36-2d94-416d-b0a8-3dc4ad9e0403\"}, {\"name\": \"max\", \"orientation\": \"h\", \"text\": [0.9884, 0.98898, 0.98876], \"x\": [0.9884, 0.98898, 0.98876], \"y\": [\"bad\", \"good\", \"medium\"], \"type\": \"bar\", \"uid\": \"88b97b4a-aabd-4211-84df-9e4c74e1c519\"}, {\"name\": \"min\", \"orientation\": \"h\", \"text\": [-0.98965, -0.98883, -0.96176], \"x\": [-0.98965, -0.98883, -0.96176], \"y\": [\"bad\", \"good\", \"medium\"], \"type\": \"bar\", \"uid\": \"987f2999-59c2-4394-8b65-0dcd20cbc9a4\"}], {\"height\": 600, \"title\": {\"font\": {\"size\": 20}, \"text\": \"Orientation Y\"}, \"width\": 800}, {\"showLink\": false, \"linkText\": \"Export to plot.ly\", \"plotlyServerURL\": \"https://plot.ly\"}); \n",
       "}\n",
       "});</script>"
      ]
     },
     "metadata": {},
     "output_type": "display_data"
    }
   ],
   "source": [
    "orientation_Y = metrics_new_cat.orientation_Y\n",
    "orientation_Y['type_surface'] = type_surface\n",
    "\n",
    "data = []\n",
    "\n",
    "for m in metrics_name:\n",
    "    data.append(bars(orientation_Y, m, 'type_surface'))\n",
    "\n",
    "layout = go.Layout(\n",
    "    title='Orientation Y',\n",
    "    titlefont=dict(size=20),\n",
    "    width=800,\n",
    "    height=600\n",
    ")\n",
    "\n",
    "fig = go.Figure(data=data, layout=layout)\n",
    "\n",
    "iplot(fig)"
   ]
  },
  {
   "cell_type": "code",
   "execution_count": 28,
   "metadata": {},
   "outputs": [
    {
     "data": {
      "application/vnd.plotly.v1+json": {
       "config": {
        "linkText": "Export to plot.ly",
        "plotlyServerURL": "https://plot.ly",
        "showLink": false
       },
       "data": [
        {
         "name": "std",
         "orientation": "h",
         "text": [
          0.1115349976956995,
          0.10452887541418751,
          0.10193418863891747
         ],
         "type": "bar",
         "uid": "a64ec86f-d533-4e9d-a1c8-44a853131748",
         "x": [
          0.1115349976956995,
          0.10452887541418751,
          0.10193418863891747
         ],
         "y": [
          "bad",
          "good",
          "medium"
         ]
        },
        {
         "name": "mean",
         "orientation": "h",
         "text": [
          0.007073534852604311,
          0.01976921488126312,
          0.005170875425466185
         ],
         "type": "bar",
         "uid": "ad9e9812-56e0-4e56-ad47-f69f58627df4",
         "x": [
          0.007073534852604311,
          0.01976921488126312,
          0.005170875425466185
         ],
         "y": [
          "bad",
          "good",
          "medium"
         ]
        },
        {
         "name": "max",
         "orientation": "h",
         "text": [
          0.15566,
          0.15571,
          0.15264
         ],
         "type": "bar",
         "uid": "bb83f07f-4626-4534-8fa6-7dbb210c27de",
         "x": [
          0.15566,
          0.15571,
          0.15264
         ],
         "y": [
          "bad",
          "good",
          "medium"
         ]
        },
        {
         "name": "min",
         "orientation": "h",
         "text": [
          -0.15189,
          -0.15396,
          -0.16283
         ],
         "type": "bar",
         "uid": "8bf4096f-1009-4bdc-9985-eb87c5dd4e68",
         "x": [
          -0.15189,
          -0.15396,
          -0.16283
         ],
         "y": [
          "bad",
          "good",
          "medium"
         ]
        }
       ],
       "layout": {
        "height": 600,
        "title": {
         "font": {
          "size": 20
         },
         "text": "Orientation Z"
        },
        "width": 800
       }
      },
      "text/html": [
       "<div id=\"8faf1ed8-2f4c-477a-91f4-8cf03ec4b2db\" style=\"height: 600px; width: 800px;\" class=\"plotly-graph-div\"></div><script type=\"text/javascript\">require([\"plotly\"], function(Plotly) { window.PLOTLYENV=window.PLOTLYENV || {};window.PLOTLYENV.BASE_URL=\"https://plot.ly\";\n",
       "if (document.getElementById(\"8faf1ed8-2f4c-477a-91f4-8cf03ec4b2db\")) {\n",
       "    Plotly.newPlot(\"8faf1ed8-2f4c-477a-91f4-8cf03ec4b2db\", [{\"name\": \"std\", \"orientation\": \"h\", \"text\": [0.1115349976956995, 0.10452887541418751, 0.10193418863891747], \"x\": [0.1115349976956995, 0.10452887541418751, 0.10193418863891747], \"y\": [\"bad\", \"good\", \"medium\"], \"type\": \"bar\", \"uid\": \"a64ec86f-d533-4e9d-a1c8-44a853131748\"}, {\"name\": \"mean\", \"orientation\": \"h\", \"text\": [0.007073534852604311, 0.01976921488126312, 0.005170875425466185], \"x\": [0.007073534852604311, 0.01976921488126312, 0.005170875425466185], \"y\": [\"bad\", \"good\", \"medium\"], \"type\": \"bar\", \"uid\": \"ad9e9812-56e0-4e56-ad47-f69f58627df4\"}, {\"name\": \"max\", \"orientation\": \"h\", \"text\": [0.15566, 0.15571, 0.15264], \"x\": [0.15566, 0.15571, 0.15264], \"y\": [\"bad\", \"good\", \"medium\"], \"type\": \"bar\", \"uid\": \"bb83f07f-4626-4534-8fa6-7dbb210c27de\"}, {\"name\": \"min\", \"orientation\": \"h\", \"text\": [-0.15189, -0.15396, -0.16283], \"x\": [-0.15189, -0.15396, -0.16283], \"y\": [\"bad\", \"good\", \"medium\"], \"type\": \"bar\", \"uid\": \"8bf4096f-1009-4bdc-9985-eb87c5dd4e68\"}], {\"height\": 600, \"title\": {\"font\": {\"size\": 20}, \"text\": \"Orientation Z\"}, \"width\": 800}, {\"showLink\": false, \"linkText\": \"Export to plot.ly\", \"plotlyServerURL\": \"https://plot.ly\"}); \n",
       "}\n",
       "});</script>"
      ],
      "text/vnd.plotly.v1+html": [
       "<div id=\"8faf1ed8-2f4c-477a-91f4-8cf03ec4b2db\" style=\"height: 600px; width: 800px;\" class=\"plotly-graph-div\"></div><script type=\"text/javascript\">require([\"plotly\"], function(Plotly) { window.PLOTLYENV=window.PLOTLYENV || {};window.PLOTLYENV.BASE_URL=\"https://plot.ly\";\n",
       "if (document.getElementById(\"8faf1ed8-2f4c-477a-91f4-8cf03ec4b2db\")) {\n",
       "    Plotly.newPlot(\"8faf1ed8-2f4c-477a-91f4-8cf03ec4b2db\", [{\"name\": \"std\", \"orientation\": \"h\", \"text\": [0.1115349976956995, 0.10452887541418751, 0.10193418863891747], \"x\": [0.1115349976956995, 0.10452887541418751, 0.10193418863891747], \"y\": [\"bad\", \"good\", \"medium\"], \"type\": \"bar\", \"uid\": \"a64ec86f-d533-4e9d-a1c8-44a853131748\"}, {\"name\": \"mean\", \"orientation\": \"h\", \"text\": [0.007073534852604311, 0.01976921488126312, 0.005170875425466185], \"x\": [0.007073534852604311, 0.01976921488126312, 0.005170875425466185], \"y\": [\"bad\", \"good\", \"medium\"], \"type\": \"bar\", \"uid\": \"ad9e9812-56e0-4e56-ad47-f69f58627df4\"}, {\"name\": \"max\", \"orientation\": \"h\", \"text\": [0.15566, 0.15571, 0.15264], \"x\": [0.15566, 0.15571, 0.15264], \"y\": [\"bad\", \"good\", \"medium\"], \"type\": \"bar\", \"uid\": \"bb83f07f-4626-4534-8fa6-7dbb210c27de\"}, {\"name\": \"min\", \"orientation\": \"h\", \"text\": [-0.15189, -0.15396, -0.16283], \"x\": [-0.15189, -0.15396, -0.16283], \"y\": [\"bad\", \"good\", \"medium\"], \"type\": \"bar\", \"uid\": \"8bf4096f-1009-4bdc-9985-eb87c5dd4e68\"}], {\"height\": 600, \"title\": {\"font\": {\"size\": 20}, \"text\": \"Orientation Z\"}, \"width\": 800}, {\"showLink\": false, \"linkText\": \"Export to plot.ly\", \"plotlyServerURL\": \"https://plot.ly\"}); \n",
       "}\n",
       "});</script>"
      ]
     },
     "metadata": {},
     "output_type": "display_data"
    }
   ],
   "source": [
    "orientation_Z = metrics_new_cat.orientation_Z\n",
    "orientation_Z['type_surface'] = type_surface\n",
    "\n",
    "data = []\n",
    "\n",
    "for m in metrics_name:\n",
    "    data.append(bars(orientation_Z, m, 'type_surface'))\n",
    "\n",
    "layout = go.Layout(\n",
    "    title='Orientation Z',\n",
    "    titlefont=dict(size=20),\n",
    "    width=800,\n",
    "    height=600\n",
    ")\n",
    "\n",
    "fig = go.Figure(data=data, layout=layout)\n",
    "\n",
    "iplot(fig)"
   ]
  },
  {
   "cell_type": "code",
   "execution_count": 29,
   "metadata": {},
   "outputs": [
    {
     "data": {
      "application/vnd.plotly.v1+json": {
       "config": {
        "linkText": "Export to plot.ly",
        "plotlyServerURL": "https://plot.ly",
        "showLink": false
       },
       "data": [
        {
         "name": "std",
         "orientation": "h",
         "text": [
          0.09935703757109617,
          0.10279814370971983,
          0.0966073418463178
         ],
         "type": "bar",
         "uid": "aef04491-9821-40df-a4c2-394d7f46f1dc",
         "x": [
          0.09935703757109617,
          0.10279814370971983,
          0.0966073418463178
         ],
         "y": [
          "bad",
          "good",
          "medium"
         ]
        },
        {
         "name": "mean",
         "orientation": "h",
         "text": [
          -0.014182295794319046,
          -0.02505873779618051,
          0.04295434325644196
         ],
         "type": "bar",
         "uid": "c5f3f832-3b8d-4a81-ad14-6e14fbca70db",
         "x": [
          -0.014182295794319046,
          -0.02505873779618051,
          0.04295434325644196
         ],
         "y": [
          "bad",
          "good",
          "medium"
         ]
        },
        {
         "name": "max",
         "orientation": "h",
         "text": [
          0.15395,
          0.15477,
          0.14985
         ],
         "type": "bar",
         "uid": "934e7798-b1cd-4ff9-b0c3-6c0c5426c5ba",
         "x": [
          0.15395,
          0.15477,
          0.14985
         ],
         "y": [
          "bad",
          "good",
          "medium"
         ]
        },
        {
         "name": "min",
         "orientation": "h",
         "text": [
          -0.15662,
          -0.1534,
          -0.14777
         ],
         "type": "bar",
         "uid": "55ae3ad8-d15e-4aba-a5e0-bb8cb497d78c",
         "x": [
          -0.15662,
          -0.1534,
          -0.14777
         ],
         "y": [
          "bad",
          "good",
          "medium"
         ]
        }
       ],
       "layout": {
        "height": 600,
        "title": {
         "font": {
          "size": 20
         },
         "text": "Orientation W"
        },
        "width": 800
       }
      },
      "text/html": [
       "<div id=\"475979fc-8e53-4216-9fa9-303dc6c17125\" style=\"height: 600px; width: 800px;\" class=\"plotly-graph-div\"></div><script type=\"text/javascript\">require([\"plotly\"], function(Plotly) { window.PLOTLYENV=window.PLOTLYENV || {};window.PLOTLYENV.BASE_URL=\"https://plot.ly\";\n",
       "if (document.getElementById(\"475979fc-8e53-4216-9fa9-303dc6c17125\")) {\n",
       "    Plotly.newPlot(\"475979fc-8e53-4216-9fa9-303dc6c17125\", [{\"name\": \"std\", \"orientation\": \"h\", \"text\": [0.09935703757109617, 0.10279814370971983, 0.0966073418463178], \"x\": [0.09935703757109617, 0.10279814370971983, 0.0966073418463178], \"y\": [\"bad\", \"good\", \"medium\"], \"type\": \"bar\", \"uid\": \"aef04491-9821-40df-a4c2-394d7f46f1dc\"}, {\"name\": \"mean\", \"orientation\": \"h\", \"text\": [-0.014182295794319046, -0.02505873779618051, 0.04295434325644196], \"x\": [-0.014182295794319046, -0.02505873779618051, 0.04295434325644196], \"y\": [\"bad\", \"good\", \"medium\"], \"type\": \"bar\", \"uid\": \"c5f3f832-3b8d-4a81-ad14-6e14fbca70db\"}, {\"name\": \"max\", \"orientation\": \"h\", \"text\": [0.15395, 0.15477, 0.14985], \"x\": [0.15395, 0.15477, 0.14985], \"y\": [\"bad\", \"good\", \"medium\"], \"type\": \"bar\", \"uid\": \"934e7798-b1cd-4ff9-b0c3-6c0c5426c5ba\"}, {\"name\": \"min\", \"orientation\": \"h\", \"text\": [-0.15662, -0.1534, -0.14777], \"x\": [-0.15662, -0.1534, -0.14777], \"y\": [\"bad\", \"good\", \"medium\"], \"type\": \"bar\", \"uid\": \"55ae3ad8-d15e-4aba-a5e0-bb8cb497d78c\"}], {\"height\": 600, \"title\": {\"font\": {\"size\": 20}, \"text\": \"Orientation W\"}, \"width\": 800}, {\"showLink\": false, \"linkText\": \"Export to plot.ly\", \"plotlyServerURL\": \"https://plot.ly\"}); \n",
       "}\n",
       "});</script>"
      ],
      "text/vnd.plotly.v1+html": [
       "<div id=\"475979fc-8e53-4216-9fa9-303dc6c17125\" style=\"height: 600px; width: 800px;\" class=\"plotly-graph-div\"></div><script type=\"text/javascript\">require([\"plotly\"], function(Plotly) { window.PLOTLYENV=window.PLOTLYENV || {};window.PLOTLYENV.BASE_URL=\"https://plot.ly\";\n",
       "if (document.getElementById(\"475979fc-8e53-4216-9fa9-303dc6c17125\")) {\n",
       "    Plotly.newPlot(\"475979fc-8e53-4216-9fa9-303dc6c17125\", [{\"name\": \"std\", \"orientation\": \"h\", \"text\": [0.09935703757109617, 0.10279814370971983, 0.0966073418463178], \"x\": [0.09935703757109617, 0.10279814370971983, 0.0966073418463178], \"y\": [\"bad\", \"good\", \"medium\"], \"type\": \"bar\", \"uid\": \"aef04491-9821-40df-a4c2-394d7f46f1dc\"}, {\"name\": \"mean\", \"orientation\": \"h\", \"text\": [-0.014182295794319046, -0.02505873779618051, 0.04295434325644196], \"x\": [-0.014182295794319046, -0.02505873779618051, 0.04295434325644196], \"y\": [\"bad\", \"good\", \"medium\"], \"type\": \"bar\", \"uid\": \"c5f3f832-3b8d-4a81-ad14-6e14fbca70db\"}, {\"name\": \"max\", \"orientation\": \"h\", \"text\": [0.15395, 0.15477, 0.14985], \"x\": [0.15395, 0.15477, 0.14985], \"y\": [\"bad\", \"good\", \"medium\"], \"type\": \"bar\", \"uid\": \"934e7798-b1cd-4ff9-b0c3-6c0c5426c5ba\"}, {\"name\": \"min\", \"orientation\": \"h\", \"text\": [-0.15662, -0.1534, -0.14777], \"x\": [-0.15662, -0.1534, -0.14777], \"y\": [\"bad\", \"good\", \"medium\"], \"type\": \"bar\", \"uid\": \"55ae3ad8-d15e-4aba-a5e0-bb8cb497d78c\"}], {\"height\": 600, \"title\": {\"font\": {\"size\": 20}, \"text\": \"Orientation W\"}, \"width\": 800}, {\"showLink\": false, \"linkText\": \"Export to plot.ly\", \"plotlyServerURL\": \"https://plot.ly\"}); \n",
       "}\n",
       "});</script>"
      ]
     },
     "metadata": {},
     "output_type": "display_data"
    }
   ],
   "source": [
    "orientation_W = metrics_new_cat.orientation_W\n",
    "orientation_W['type_surface'] = type_surface\n",
    "\n",
    "data = []\n",
    "\n",
    "for m in metrics_name:\n",
    "    data.append(bars(orientation_W, m, 'type_surface'))\n",
    "\n",
    "layout = go.Layout(\n",
    "    title='Orientation W',\n",
    "    titlefont=dict(size=20),\n",
    "    width=800,\n",
    "    height=600\n",
    ")\n",
    "\n",
    "fig = go.Figure(data=data, layout=layout)\n",
    "\n",
    "iplot(fig)"
   ]
  },
  {
   "cell_type": "code",
   "execution_count": 30,
   "metadata": {},
   "outputs": [
    {
     "data": {
      "application/vnd.plotly.v1+json": {
       "config": {
        "linkText": "Export to plot.ly",
        "plotlyServerURL": "https://plot.ly",
        "showLink": false
       },
       "data": [
        {
         "name": "std",
         "orientation": "h",
         "text": [
          0.1543998419059612,
          0.1211795278248461,
          0.0516459729764602
         ],
         "type": "bar",
         "uid": "f64d13d5-44e6-455e-84e7-94a607fa375e",
         "x": [
          0.1543998419059612,
          0.1211795278248461,
          0.0516459729764602
         ],
         "y": [
          "bad",
          "good",
          "medium"
         ]
        },
        {
         "name": "mean",
         "orientation": "h",
         "text": [
          0.00037640518589576423,
          -0.00022655921415695802,
          0.0006771526925481395
         ],
         "type": "bar",
         "uid": "34aeb3af-9654-42eb-bca4-1e27302ba430",
         "x": [
          0.00037640518589576423,
          -0.00022655921415695802,
          0.0006771526925481395
         ],
         "y": [
          "bad",
          "good",
          "medium"
         ]
        },
        {
         "name": "max",
         "orientation": "h",
         "text": [
          1.2116,
          2.2822,
          0.8651399999999999
         ],
         "type": "bar",
         "uid": "594173ef-d967-4f21-870c-2207f0da427d",
         "x": [
          1.2116,
          2.2822,
          0.8651399999999999
         ],
         "y": [
          "bad",
          "good",
          "medium"
         ]
        },
        {
         "name": "min",
         "orientation": "h",
         "text": [
          -1.2455,
          -2.371,
          -0.64247
         ],
         "type": "bar",
         "uid": "4f4cf831-776b-4589-8d92-9dcedc2930be",
         "x": [
          -1.2455,
          -2.371,
          -0.64247
         ],
         "y": [
          "bad",
          "good",
          "medium"
         ]
        }
       ],
       "layout": {
        "height": 600,
        "title": {
         "font": {
          "size": 20
         },
         "text": "Angular velocity X"
        },
        "width": 800
       }
      },
      "text/html": [
       "<div id=\"382e42dd-f0ee-461e-8334-ff61cf76af77\" style=\"height: 600px; width: 800px;\" class=\"plotly-graph-div\"></div><script type=\"text/javascript\">require([\"plotly\"], function(Plotly) { window.PLOTLYENV=window.PLOTLYENV || {};window.PLOTLYENV.BASE_URL=\"https://plot.ly\";\n",
       "if (document.getElementById(\"382e42dd-f0ee-461e-8334-ff61cf76af77\")) {\n",
       "    Plotly.newPlot(\"382e42dd-f0ee-461e-8334-ff61cf76af77\", [{\"name\": \"std\", \"orientation\": \"h\", \"text\": [0.1543998419059612, 0.1211795278248461, 0.0516459729764602], \"x\": [0.1543998419059612, 0.1211795278248461, 0.0516459729764602], \"y\": [\"bad\", \"good\", \"medium\"], \"type\": \"bar\", \"uid\": \"f64d13d5-44e6-455e-84e7-94a607fa375e\"}, {\"name\": \"mean\", \"orientation\": \"h\", \"text\": [0.00037640518589576423, -0.00022655921415695802, 0.0006771526925481395], \"x\": [0.00037640518589576423, -0.00022655921415695802, 0.0006771526925481395], \"y\": [\"bad\", \"good\", \"medium\"], \"type\": \"bar\", \"uid\": \"34aeb3af-9654-42eb-bca4-1e27302ba430\"}, {\"name\": \"max\", \"orientation\": \"h\", \"text\": [1.2116, 2.2822, 0.8651399999999999], \"x\": [1.2116, 2.2822, 0.8651399999999999], \"y\": [\"bad\", \"good\", \"medium\"], \"type\": \"bar\", \"uid\": \"594173ef-d967-4f21-870c-2207f0da427d\"}, {\"name\": \"min\", \"orientation\": \"h\", \"text\": [-1.2455, -2.371, -0.64247], \"x\": [-1.2455, -2.371, -0.64247], \"y\": [\"bad\", \"good\", \"medium\"], \"type\": \"bar\", \"uid\": \"4f4cf831-776b-4589-8d92-9dcedc2930be\"}], {\"height\": 600, \"title\": {\"font\": {\"size\": 20}, \"text\": \"Angular velocity X\"}, \"width\": 800}, {\"showLink\": false, \"linkText\": \"Export to plot.ly\", \"plotlyServerURL\": \"https://plot.ly\"}); \n",
       "}\n",
       "});</script>"
      ],
      "text/vnd.plotly.v1+html": [
       "<div id=\"382e42dd-f0ee-461e-8334-ff61cf76af77\" style=\"height: 600px; width: 800px;\" class=\"plotly-graph-div\"></div><script type=\"text/javascript\">require([\"plotly\"], function(Plotly) { window.PLOTLYENV=window.PLOTLYENV || {};window.PLOTLYENV.BASE_URL=\"https://plot.ly\";\n",
       "if (document.getElementById(\"382e42dd-f0ee-461e-8334-ff61cf76af77\")) {\n",
       "    Plotly.newPlot(\"382e42dd-f0ee-461e-8334-ff61cf76af77\", [{\"name\": \"std\", \"orientation\": \"h\", \"text\": [0.1543998419059612, 0.1211795278248461, 0.0516459729764602], \"x\": [0.1543998419059612, 0.1211795278248461, 0.0516459729764602], \"y\": [\"bad\", \"good\", \"medium\"], \"type\": \"bar\", \"uid\": \"f64d13d5-44e6-455e-84e7-94a607fa375e\"}, {\"name\": \"mean\", \"orientation\": \"h\", \"text\": [0.00037640518589576423, -0.00022655921415695802, 0.0006771526925481395], \"x\": [0.00037640518589576423, -0.00022655921415695802, 0.0006771526925481395], \"y\": [\"bad\", \"good\", \"medium\"], \"type\": \"bar\", \"uid\": \"34aeb3af-9654-42eb-bca4-1e27302ba430\"}, {\"name\": \"max\", \"orientation\": \"h\", \"text\": [1.2116, 2.2822, 0.8651399999999999], \"x\": [1.2116, 2.2822, 0.8651399999999999], \"y\": [\"bad\", \"good\", \"medium\"], \"type\": \"bar\", \"uid\": \"594173ef-d967-4f21-870c-2207f0da427d\"}, {\"name\": \"min\", \"orientation\": \"h\", \"text\": [-1.2455, -2.371, -0.64247], \"x\": [-1.2455, -2.371, -0.64247], \"y\": [\"bad\", \"good\", \"medium\"], \"type\": \"bar\", \"uid\": \"4f4cf831-776b-4589-8d92-9dcedc2930be\"}], {\"height\": 600, \"title\": {\"font\": {\"size\": 20}, \"text\": \"Angular velocity X\"}, \"width\": 800}, {\"showLink\": false, \"linkText\": \"Export to plot.ly\", \"plotlyServerURL\": \"https://plot.ly\"}); \n",
       "}\n",
       "});</script>"
      ]
     },
     "metadata": {},
     "output_type": "display_data"
    }
   ],
   "source": [
    "angular_velocity_X = metrics_new_cat.angular_velocity_X\n",
    "angular_velocity_X['type_surface'] = type_surface\n",
    "\n",
    "data = []\n",
    "\n",
    "for m in metrics_name:\n",
    "    data.append(bars(angular_velocity_X, m, 'type_surface'))\n",
    "\n",
    "layout = go.Layout(\n",
    "    title='Angular velocity X',\n",
    "    titlefont=dict(size=20),\n",
    "    width=800,\n",
    "    height=600\n",
    ")\n",
    "\n",
    "fig = go.Figure(data=data, layout=layout)\n",
    "\n",
    "iplot(fig)"
   ]
  },
  {
   "cell_type": "code",
   "execution_count": 31,
   "metadata": {},
   "outputs": [
    {
     "data": {
      "application/vnd.plotly.v1+json": {
       "config": {
        "linkText": "Export to plot.ly",
        "plotlyServerURL": "https://plot.ly",
        "showLink": false
       },
       "data": [
        {
         "name": "std",
         "orientation": "h",
         "text": [
          0.08877458318752965,
          0.10334764077805834,
          0.053361464460412275
         ],
         "type": "bar",
         "uid": "c6bcd1c6-e6e2-47b4-a76f-96d8dfb288b3",
         "x": [
          0.08877458318752965,
          0.10334764077805834,
          0.053361464460412275
         ],
         "y": [
          "bad",
          "good",
          "medium"
         ]
        },
        {
         "name": "mean",
         "orientation": "h",
         "text": [
          0.012854897097973146,
          0.0015182493077753876,
          0.01562932066404222
         ],
         "type": "bar",
         "uid": "3fc23419-1b50-427e-8269-a4989ef848d9",
         "x": [
          0.012854897097973146,
          0.0015182493077753876,
          0.01562932066404222
         ],
         "y": [
          "bad",
          "good",
          "medium"
         ]
        },
        {
         "name": "max",
         "orientation": "h",
         "text": [
          1.0791,
          0.83621,
          0.42471
         ],
         "type": "bar",
         "uid": "5a282002-da2b-445e-ac75-817b6b559e59",
         "x": [
          1.0791,
          0.83621,
          0.42471
         ],
         "y": [
          "bad",
          "good",
          "medium"
         ]
        },
        {
         "name": "min",
         "orientation": "h",
         "text": [
          -0.92786,
          -0.90875,
          -0.46152
         ],
         "type": "bar",
         "uid": "6887b02f-d589-4b6c-8e50-de16d0cd3fa4",
         "x": [
          -0.92786,
          -0.90875,
          -0.46152
         ],
         "y": [
          "bad",
          "good",
          "medium"
         ]
        }
       ],
       "layout": {
        "height": 600,
        "title": {
         "font": {
          "size": 20
         },
         "text": "Angular velocity Y"
        },
        "width": 800
       }
      },
      "text/html": [
       "<div id=\"b44a7ab6-8778-4cd5-8213-894df3d37e99\" style=\"height: 600px; width: 800px;\" class=\"plotly-graph-div\"></div><script type=\"text/javascript\">require([\"plotly\"], function(Plotly) { window.PLOTLYENV=window.PLOTLYENV || {};window.PLOTLYENV.BASE_URL=\"https://plot.ly\";\n",
       "if (document.getElementById(\"b44a7ab6-8778-4cd5-8213-894df3d37e99\")) {\n",
       "    Plotly.newPlot(\"b44a7ab6-8778-4cd5-8213-894df3d37e99\", [{\"name\": \"std\", \"orientation\": \"h\", \"text\": [0.08877458318752965, 0.10334764077805834, 0.053361464460412275], \"x\": [0.08877458318752965, 0.10334764077805834, 0.053361464460412275], \"y\": [\"bad\", \"good\", \"medium\"], \"type\": \"bar\", \"uid\": \"c6bcd1c6-e6e2-47b4-a76f-96d8dfb288b3\"}, {\"name\": \"mean\", \"orientation\": \"h\", \"text\": [0.012854897097973146, 0.0015182493077753876, 0.01562932066404222], \"x\": [0.012854897097973146, 0.0015182493077753876, 0.01562932066404222], \"y\": [\"bad\", \"good\", \"medium\"], \"type\": \"bar\", \"uid\": \"3fc23419-1b50-427e-8269-a4989ef848d9\"}, {\"name\": \"max\", \"orientation\": \"h\", \"text\": [1.0791, 0.83621, 0.42471], \"x\": [1.0791, 0.83621, 0.42471], \"y\": [\"bad\", \"good\", \"medium\"], \"type\": \"bar\", \"uid\": \"5a282002-da2b-445e-ac75-817b6b559e59\"}, {\"name\": \"min\", \"orientation\": \"h\", \"text\": [-0.92786, -0.90875, -0.46152], \"x\": [-0.92786, -0.90875, -0.46152], \"y\": [\"bad\", \"good\", \"medium\"], \"type\": \"bar\", \"uid\": \"6887b02f-d589-4b6c-8e50-de16d0cd3fa4\"}], {\"height\": 600, \"title\": {\"font\": {\"size\": 20}, \"text\": \"Angular velocity Y\"}, \"width\": 800}, {\"showLink\": false, \"linkText\": \"Export to plot.ly\", \"plotlyServerURL\": \"https://plot.ly\"}); \n",
       "}\n",
       "});</script>"
      ],
      "text/vnd.plotly.v1+html": [
       "<div id=\"b44a7ab6-8778-4cd5-8213-894df3d37e99\" style=\"height: 600px; width: 800px;\" class=\"plotly-graph-div\"></div><script type=\"text/javascript\">require([\"plotly\"], function(Plotly) { window.PLOTLYENV=window.PLOTLYENV || {};window.PLOTLYENV.BASE_URL=\"https://plot.ly\";\n",
       "if (document.getElementById(\"b44a7ab6-8778-4cd5-8213-894df3d37e99\")) {\n",
       "    Plotly.newPlot(\"b44a7ab6-8778-4cd5-8213-894df3d37e99\", [{\"name\": \"std\", \"orientation\": \"h\", \"text\": [0.08877458318752965, 0.10334764077805834, 0.053361464460412275], \"x\": [0.08877458318752965, 0.10334764077805834, 0.053361464460412275], \"y\": [\"bad\", \"good\", \"medium\"], \"type\": \"bar\", \"uid\": \"c6bcd1c6-e6e2-47b4-a76f-96d8dfb288b3\"}, {\"name\": \"mean\", \"orientation\": \"h\", \"text\": [0.012854897097973146, 0.0015182493077753876, 0.01562932066404222], \"x\": [0.012854897097973146, 0.0015182493077753876, 0.01562932066404222], \"y\": [\"bad\", \"good\", \"medium\"], \"type\": \"bar\", \"uid\": \"3fc23419-1b50-427e-8269-a4989ef848d9\"}, {\"name\": \"max\", \"orientation\": \"h\", \"text\": [1.0791, 0.83621, 0.42471], \"x\": [1.0791, 0.83621, 0.42471], \"y\": [\"bad\", \"good\", \"medium\"], \"type\": \"bar\", \"uid\": \"5a282002-da2b-445e-ac75-817b6b559e59\"}, {\"name\": \"min\", \"orientation\": \"h\", \"text\": [-0.92786, -0.90875, -0.46152], \"x\": [-0.92786, -0.90875, -0.46152], \"y\": [\"bad\", \"good\", \"medium\"], \"type\": \"bar\", \"uid\": \"6887b02f-d589-4b6c-8e50-de16d0cd3fa4\"}], {\"height\": 600, \"title\": {\"font\": {\"size\": 20}, \"text\": \"Angular velocity Y\"}, \"width\": 800}, {\"showLink\": false, \"linkText\": \"Export to plot.ly\", \"plotlyServerURL\": \"https://plot.ly\"}); \n",
       "}\n",
       "});</script>"
      ]
     },
     "metadata": {},
     "output_type": "display_data"
    }
   ],
   "source": [
    "angular_velocity_Y = metrics_new_cat.angular_velocity_Y\n",
    "angular_velocity_Y['type_surface'] = type_surface\n",
    "\n",
    "data = []\n",
    "\n",
    "for m in metrics_name:\n",
    "    data.append(bars(angular_velocity_Y, m, 'type_surface'))\n",
    "\n",
    "layout = go.Layout(\n",
    "    title='Angular velocity Y',\n",
    "    titlefont=dict(size=20),\n",
    "    width=800,\n",
    "    height=600\n",
    ")\n",
    "\n",
    "fig = go.Figure(data=data, layout=layout)\n",
    "\n",
    "iplot(fig)"
   ]
  },
  {
   "cell_type": "code",
   "execution_count": 32,
   "metadata": {},
   "outputs": [
    {
     "data": {
      "application/vnd.plotly.v1+json": {
       "config": {
        "linkText": "Export to plot.ly",
        "plotlyServerURL": "https://plot.ly",
        "showLink": false
       },
       "data": [
        {
         "name": "std",
         "orientation": "h",
         "text": [
          0.1860071383254813,
          0.2819361477530447,
          0.14871156371520236
         ],
         "type": "bar",
         "uid": "fe5b8e72-ac00-428e-93db-0d424b49b384",
         "x": [
          0.1860071383254813,
          0.2819361477530447,
          0.14871156371520236
         ],
         "y": [
          "bad",
          "good",
          "medium"
         ]
        },
        {
         "name": "mean",
         "orientation": "h",
         "text": [
          -0.03355698154573398,
          0.002783573184315837,
          -0.042847792992327785
         ],
         "type": "bar",
         "uid": "472616b5-96f0-4fd8-bfe4-0a4d84eab12b",
         "x": [
          -0.03355698154573398,
          0.002783573184315837,
          -0.042847792992327785
         ],
         "y": [
          "bad",
          "good",
          "medium"
         ]
        },
        {
         "name": "max",
         "orientation": "h",
         "text": [
          1.1257,
          1.3873,
          0.66076
         ],
         "type": "bar",
         "uid": "d3267ae9-d30b-42a3-bf1b-3134860b0aa2",
         "x": [
          1.1257,
          1.3873,
          0.66076
         ],
         "y": [
          "bad",
          "good",
          "medium"
         ]
        },
        {
         "name": "min",
         "orientation": "h",
         "text": [
          -1.2445,
          -1.2593,
          -1.2688
         ],
         "type": "bar",
         "uid": "cdcea011-9a33-48f0-8e8d-884f704c0044",
         "x": [
          -1.2445,
          -1.2593,
          -1.2688
         ],
         "y": [
          "bad",
          "good",
          "medium"
         ]
        }
       ],
       "layout": {
        "height": 600,
        "title": {
         "font": {
          "size": 20
         },
         "text": "Angular velocity Z"
        },
        "width": 800
       }
      },
      "text/html": [
       "<div id=\"7a35f6b7-a546-4924-9319-ff64fe3e92c4\" style=\"height: 600px; width: 800px;\" class=\"plotly-graph-div\"></div><script type=\"text/javascript\">require([\"plotly\"], function(Plotly) { window.PLOTLYENV=window.PLOTLYENV || {};window.PLOTLYENV.BASE_URL=\"https://plot.ly\";\n",
       "if (document.getElementById(\"7a35f6b7-a546-4924-9319-ff64fe3e92c4\")) {\n",
       "    Plotly.newPlot(\"7a35f6b7-a546-4924-9319-ff64fe3e92c4\", [{\"name\": \"std\", \"orientation\": \"h\", \"text\": [0.1860071383254813, 0.2819361477530447, 0.14871156371520236], \"x\": [0.1860071383254813, 0.2819361477530447, 0.14871156371520236], \"y\": [\"bad\", \"good\", \"medium\"], \"type\": \"bar\", \"uid\": \"fe5b8e72-ac00-428e-93db-0d424b49b384\"}, {\"name\": \"mean\", \"orientation\": \"h\", \"text\": [-0.03355698154573398, 0.002783573184315837, -0.042847792992327785], \"x\": [-0.03355698154573398, 0.002783573184315837, -0.042847792992327785], \"y\": [\"bad\", \"good\", \"medium\"], \"type\": \"bar\", \"uid\": \"472616b5-96f0-4fd8-bfe4-0a4d84eab12b\"}, {\"name\": \"max\", \"orientation\": \"h\", \"text\": [1.1257, 1.3873, 0.66076], \"x\": [1.1257, 1.3873, 0.66076], \"y\": [\"bad\", \"good\", \"medium\"], \"type\": \"bar\", \"uid\": \"d3267ae9-d30b-42a3-bf1b-3134860b0aa2\"}, {\"name\": \"min\", \"orientation\": \"h\", \"text\": [-1.2445, -1.2593, -1.2688], \"x\": [-1.2445, -1.2593, -1.2688], \"y\": [\"bad\", \"good\", \"medium\"], \"type\": \"bar\", \"uid\": \"cdcea011-9a33-48f0-8e8d-884f704c0044\"}], {\"height\": 600, \"title\": {\"font\": {\"size\": 20}, \"text\": \"Angular velocity Z\"}, \"width\": 800}, {\"showLink\": false, \"linkText\": \"Export to plot.ly\", \"plotlyServerURL\": \"https://plot.ly\"}); \n",
       "}\n",
       "});</script>"
      ],
      "text/vnd.plotly.v1+html": [
       "<div id=\"7a35f6b7-a546-4924-9319-ff64fe3e92c4\" style=\"height: 600px; width: 800px;\" class=\"plotly-graph-div\"></div><script type=\"text/javascript\">require([\"plotly\"], function(Plotly) { window.PLOTLYENV=window.PLOTLYENV || {};window.PLOTLYENV.BASE_URL=\"https://plot.ly\";\n",
       "if (document.getElementById(\"7a35f6b7-a546-4924-9319-ff64fe3e92c4\")) {\n",
       "    Plotly.newPlot(\"7a35f6b7-a546-4924-9319-ff64fe3e92c4\", [{\"name\": \"std\", \"orientation\": \"h\", \"text\": [0.1860071383254813, 0.2819361477530447, 0.14871156371520236], \"x\": [0.1860071383254813, 0.2819361477530447, 0.14871156371520236], \"y\": [\"bad\", \"good\", \"medium\"], \"type\": \"bar\", \"uid\": \"fe5b8e72-ac00-428e-93db-0d424b49b384\"}, {\"name\": \"mean\", \"orientation\": \"h\", \"text\": [-0.03355698154573398, 0.002783573184315837, -0.042847792992327785], \"x\": [-0.03355698154573398, 0.002783573184315837, -0.042847792992327785], \"y\": [\"bad\", \"good\", \"medium\"], \"type\": \"bar\", \"uid\": \"472616b5-96f0-4fd8-bfe4-0a4d84eab12b\"}, {\"name\": \"max\", \"orientation\": \"h\", \"text\": [1.1257, 1.3873, 0.66076], \"x\": [1.1257, 1.3873, 0.66076], \"y\": [\"bad\", \"good\", \"medium\"], \"type\": \"bar\", \"uid\": \"d3267ae9-d30b-42a3-bf1b-3134860b0aa2\"}, {\"name\": \"min\", \"orientation\": \"h\", \"text\": [-1.2445, -1.2593, -1.2688], \"x\": [-1.2445, -1.2593, -1.2688], \"y\": [\"bad\", \"good\", \"medium\"], \"type\": \"bar\", \"uid\": \"cdcea011-9a33-48f0-8e8d-884f704c0044\"}], {\"height\": 600, \"title\": {\"font\": {\"size\": 20}, \"text\": \"Angular velocity Z\"}, \"width\": 800}, {\"showLink\": false, \"linkText\": \"Export to plot.ly\", \"plotlyServerURL\": \"https://plot.ly\"}); \n",
       "}\n",
       "});</script>"
      ]
     },
     "metadata": {},
     "output_type": "display_data"
    }
   ],
   "source": [
    "angular_velocity_Z = metrics_new_cat.angular_velocity_Z\n",
    "angular_velocity_Z['type_surface'] = type_surface\n",
    "\n",
    "data = []\n",
    "\n",
    "for m in metrics_name:\n",
    "    data.append(bars(angular_velocity_Z, m, 'type_surface'))\n",
    "\n",
    "layout = go.Layout(\n",
    "    title='Angular velocity Z',\n",
    "    titlefont=dict(size=20),\n",
    "    width=800,\n",
    "    height=600\n",
    ")\n",
    "\n",
    "fig = go.Figure(data=data, layout=layout)\n",
    "\n",
    "iplot(fig)"
   ]
  },
  {
   "cell_type": "code",
   "execution_count": 33,
   "metadata": {},
   "outputs": [
    {
     "data": {
      "application/vnd.plotly.v1+json": {
       "config": {
        "linkText": "Export to plot.ly",
        "plotlyServerURL": "https://plot.ly",
        "showLink": false
       },
       "data": [
        {
         "name": "std",
         "orientation": "h",
         "text": [
          2.3432480017618276,
          1.9943714754041548,
          0.8479002641844104
         ],
         "type": "bar",
         "uid": "a9cb7e5c-5ed2-4e16-9ee7-acc58561effc",
         "x": [
          2.3432480017618276,
          1.9943714754041548,
          0.8479002641844104
         ],
         "y": [
          "bad",
          "good",
          "medium"
         ]
        },
        {
         "name": "mean",
         "orientation": "h",
         "text": [
          0.11960417367318016,
          0.14256910462653669,
          0.11593131658674344
         ],
         "type": "bar",
         "uid": "7ef90784-8888-48d3-9ec3-7da4e11281e8",
         "x": [
          0.11960417367318016,
          0.14256910462653669,
          0.11593131658674344
         ],
         "y": [
          "bad",
          "good",
          "medium"
         ]
        },
        {
         "name": "max",
         "orientation": "h",
         "text": [
          24.945,
          36.797,
          10.716
         ],
         "type": "bar",
         "uid": "fee7037a-9126-4c20-aed9-fd2d86617d15",
         "x": [
          24.945,
          36.797,
          10.716
         ],
         "y": [
          "bad",
          "good",
          "medium"
         ]
        },
        {
         "name": "min",
         "orientation": "h",
         "text": [
          -29.895,
          -36.067,
          -11.505
         ],
         "type": "bar",
         "uid": "556c92a2-8005-486d-8736-c28a18d11811",
         "x": [
          -29.895,
          -36.067,
          -11.505
         ],
         "y": [
          "bad",
          "good",
          "medium"
         ]
        }
       ],
       "layout": {
        "height": 600,
        "title": {
         "font": {
          "size": 20
         },
         "text": "Linear Acceleration X"
        },
        "width": 800
       }
      },
      "text/html": [
       "<div id=\"43c84db6-4db8-4781-a310-409e1043a555\" style=\"height: 600px; width: 800px;\" class=\"plotly-graph-div\"></div><script type=\"text/javascript\">require([\"plotly\"], function(Plotly) { window.PLOTLYENV=window.PLOTLYENV || {};window.PLOTLYENV.BASE_URL=\"https://plot.ly\";\n",
       "if (document.getElementById(\"43c84db6-4db8-4781-a310-409e1043a555\")) {\n",
       "    Plotly.newPlot(\"43c84db6-4db8-4781-a310-409e1043a555\", [{\"name\": \"std\", \"orientation\": \"h\", \"text\": [2.3432480017618276, 1.9943714754041548, 0.8479002641844104], \"x\": [2.3432480017618276, 1.9943714754041548, 0.8479002641844104], \"y\": [\"bad\", \"good\", \"medium\"], \"type\": \"bar\", \"uid\": \"a9cb7e5c-5ed2-4e16-9ee7-acc58561effc\"}, {\"name\": \"mean\", \"orientation\": \"h\", \"text\": [0.11960417367318016, 0.14256910462653669, 0.11593131658674344], \"x\": [0.11960417367318016, 0.14256910462653669, 0.11593131658674344], \"y\": [\"bad\", \"good\", \"medium\"], \"type\": \"bar\", \"uid\": \"7ef90784-8888-48d3-9ec3-7da4e11281e8\"}, {\"name\": \"max\", \"orientation\": \"h\", \"text\": [24.945, 36.797, 10.716], \"x\": [24.945, 36.797, 10.716], \"y\": [\"bad\", \"good\", \"medium\"], \"type\": \"bar\", \"uid\": \"fee7037a-9126-4c20-aed9-fd2d86617d15\"}, {\"name\": \"min\", \"orientation\": \"h\", \"text\": [-29.895, -36.067, -11.505], \"x\": [-29.895, -36.067, -11.505], \"y\": [\"bad\", \"good\", \"medium\"], \"type\": \"bar\", \"uid\": \"556c92a2-8005-486d-8736-c28a18d11811\"}], {\"height\": 600, \"title\": {\"font\": {\"size\": 20}, \"text\": \"Linear Acceleration X\"}, \"width\": 800}, {\"showLink\": false, \"linkText\": \"Export to plot.ly\", \"plotlyServerURL\": \"https://plot.ly\"}); \n",
       "}\n",
       "});</script>"
      ],
      "text/vnd.plotly.v1+html": [
       "<div id=\"43c84db6-4db8-4781-a310-409e1043a555\" style=\"height: 600px; width: 800px;\" class=\"plotly-graph-div\"></div><script type=\"text/javascript\">require([\"plotly\"], function(Plotly) { window.PLOTLYENV=window.PLOTLYENV || {};window.PLOTLYENV.BASE_URL=\"https://plot.ly\";\n",
       "if (document.getElementById(\"43c84db6-4db8-4781-a310-409e1043a555\")) {\n",
       "    Plotly.newPlot(\"43c84db6-4db8-4781-a310-409e1043a555\", [{\"name\": \"std\", \"orientation\": \"h\", \"text\": [2.3432480017618276, 1.9943714754041548, 0.8479002641844104], \"x\": [2.3432480017618276, 1.9943714754041548, 0.8479002641844104], \"y\": [\"bad\", \"good\", \"medium\"], \"type\": \"bar\", \"uid\": \"a9cb7e5c-5ed2-4e16-9ee7-acc58561effc\"}, {\"name\": \"mean\", \"orientation\": \"h\", \"text\": [0.11960417367318016, 0.14256910462653669, 0.11593131658674344], \"x\": [0.11960417367318016, 0.14256910462653669, 0.11593131658674344], \"y\": [\"bad\", \"good\", \"medium\"], \"type\": \"bar\", \"uid\": \"7ef90784-8888-48d3-9ec3-7da4e11281e8\"}, {\"name\": \"max\", \"orientation\": \"h\", \"text\": [24.945, 36.797, 10.716], \"x\": [24.945, 36.797, 10.716], \"y\": [\"bad\", \"good\", \"medium\"], \"type\": \"bar\", \"uid\": \"fee7037a-9126-4c20-aed9-fd2d86617d15\"}, {\"name\": \"min\", \"orientation\": \"h\", \"text\": [-29.895, -36.067, -11.505], \"x\": [-29.895, -36.067, -11.505], \"y\": [\"bad\", \"good\", \"medium\"], \"type\": \"bar\", \"uid\": \"556c92a2-8005-486d-8736-c28a18d11811\"}], {\"height\": 600, \"title\": {\"font\": {\"size\": 20}, \"text\": \"Linear Acceleration X\"}, \"width\": 800}, {\"showLink\": false, \"linkText\": \"Export to plot.ly\", \"plotlyServerURL\": \"https://plot.ly\"}); \n",
       "}\n",
       "});</script>"
      ]
     },
     "metadata": {},
     "output_type": "display_data"
    }
   ],
   "source": [
    "linear_acceleration_X = metrics_new_cat.linear_acceleration_X\n",
    "linear_acceleration_X['type_surface'] = type_surface\n",
    "\n",
    "data = []\n",
    "\n",
    "for m in metrics_name:\n",
    "    data.append(bars(linear_acceleration_X, m, 'type_surface'))\n",
    "\n",
    "layout = go.Layout(\n",
    "    title='Linear Acceleration X',\n",
    "    titlefont=dict(size=20),\n",
    "    width=800,\n",
    "    height=600\n",
    ")\n",
    "\n",
    "fig = go.Figure(data=data, layout=layout)\n",
    "\n",
    "iplot(fig)"
   ]
  },
  {
   "cell_type": "code",
   "execution_count": 34,
   "metadata": {},
   "outputs": [
    {
     "data": {
      "application/vnd.plotly.v1+json": {
       "config": {
        "linkText": "Export to plot.ly",
        "plotlyServerURL": "https://plot.ly",
        "showLink": false
       },
       "data": [
        {
         "name": "std",
         "orientation": "h",
         "text": [
          2.414741236355952,
          2.3740886431259245,
          1.2372441753591463
         ],
         "type": "bar",
         "uid": "8311305f-e658-43b7-bbcb-ed639f758997",
         "x": [
          2.414741236355952,
          2.3740886431259245,
          1.2372441753591463
         ],
         "y": [
          "bad",
          "good",
          "medium"
         ]
        },
        {
         "name": "mean",
         "orientation": "h",
         "text": [
          2.8973543300439117,
          2.9064278758910347,
          2.8414377449800137
         ],
         "type": "bar",
         "uid": "3c01b964-3bae-44cd-a82e-43a82aa1052d",
         "x": [
          2.8973543300439117,
          2.9064278758910347,
          2.8414377449800137
         ],
         "y": [
          "bad",
          "good",
          "medium"
         ]
        },
        {
         "name": "max",
         "orientation": "h",
         "text": [
          32.623000000000005,
          73.008,
          18.501
         ],
         "type": "bar",
         "uid": "2761a14c-3605-4660-8637-a77daee50b6b",
         "x": [
          32.623000000000005,
          73.008,
          18.501
         ],
         "y": [
          "bad",
          "good",
          "medium"
         ]
        },
        {
         "name": "min",
         "orientation": "h",
         "text": [
          -54.591,
          -121.49,
          -26.83
         ],
         "type": "bar",
         "uid": "fe7d04e3-6c53-4bea-a6e5-becfc61b7db8",
         "x": [
          -54.591,
          -121.49,
          -26.83
         ],
         "y": [
          "bad",
          "good",
          "medium"
         ]
        }
       ],
       "layout": {
        "height": 600,
        "title": {
         "font": {
          "size": 20
         },
         "text": "Linear Acceleration Y"
        },
        "width": 800
       }
      },
      "text/html": [
       "<div id=\"b70f7cd9-d84f-480b-95cd-f6147e4e3e14\" style=\"height: 600px; width: 800px;\" class=\"plotly-graph-div\"></div><script type=\"text/javascript\">require([\"plotly\"], function(Plotly) { window.PLOTLYENV=window.PLOTLYENV || {};window.PLOTLYENV.BASE_URL=\"https://plot.ly\";\n",
       "if (document.getElementById(\"b70f7cd9-d84f-480b-95cd-f6147e4e3e14\")) {\n",
       "    Plotly.newPlot(\"b70f7cd9-d84f-480b-95cd-f6147e4e3e14\", [{\"name\": \"std\", \"orientation\": \"h\", \"text\": [2.414741236355952, 2.3740886431259245, 1.2372441753591463], \"x\": [2.414741236355952, 2.3740886431259245, 1.2372441753591463], \"y\": [\"bad\", \"good\", \"medium\"], \"type\": \"bar\", \"uid\": \"8311305f-e658-43b7-bbcb-ed639f758997\"}, {\"name\": \"mean\", \"orientation\": \"h\", \"text\": [2.8973543300439117, 2.9064278758910347, 2.8414377449800137], \"x\": [2.8973543300439117, 2.9064278758910347, 2.8414377449800137], \"y\": [\"bad\", \"good\", \"medium\"], \"type\": \"bar\", \"uid\": \"3c01b964-3bae-44cd-a82e-43a82aa1052d\"}, {\"name\": \"max\", \"orientation\": \"h\", \"text\": [32.623000000000005, 73.008, 18.501], \"x\": [32.623000000000005, 73.008, 18.501], \"y\": [\"bad\", \"good\", \"medium\"], \"type\": \"bar\", \"uid\": \"2761a14c-3605-4660-8637-a77daee50b6b\"}, {\"name\": \"min\", \"orientation\": \"h\", \"text\": [-54.591, -121.49, -26.83], \"x\": [-54.591, -121.49, -26.83], \"y\": [\"bad\", \"good\", \"medium\"], \"type\": \"bar\", \"uid\": \"fe7d04e3-6c53-4bea-a6e5-becfc61b7db8\"}], {\"height\": 600, \"title\": {\"font\": {\"size\": 20}, \"text\": \"Linear Acceleration Y\"}, \"width\": 800}, {\"showLink\": false, \"linkText\": \"Export to plot.ly\", \"plotlyServerURL\": \"https://plot.ly\"}); \n",
       "}\n",
       "});</script>"
      ],
      "text/vnd.plotly.v1+html": [
       "<div id=\"b70f7cd9-d84f-480b-95cd-f6147e4e3e14\" style=\"height: 600px; width: 800px;\" class=\"plotly-graph-div\"></div><script type=\"text/javascript\">require([\"plotly\"], function(Plotly) { window.PLOTLYENV=window.PLOTLYENV || {};window.PLOTLYENV.BASE_URL=\"https://plot.ly\";\n",
       "if (document.getElementById(\"b70f7cd9-d84f-480b-95cd-f6147e4e3e14\")) {\n",
       "    Plotly.newPlot(\"b70f7cd9-d84f-480b-95cd-f6147e4e3e14\", [{\"name\": \"std\", \"orientation\": \"h\", \"text\": [2.414741236355952, 2.3740886431259245, 1.2372441753591463], \"x\": [2.414741236355952, 2.3740886431259245, 1.2372441753591463], \"y\": [\"bad\", \"good\", \"medium\"], \"type\": \"bar\", \"uid\": \"8311305f-e658-43b7-bbcb-ed639f758997\"}, {\"name\": \"mean\", \"orientation\": \"h\", \"text\": [2.8973543300439117, 2.9064278758910347, 2.8414377449800137], \"x\": [2.8973543300439117, 2.9064278758910347, 2.8414377449800137], \"y\": [\"bad\", \"good\", \"medium\"], \"type\": \"bar\", \"uid\": \"3c01b964-3bae-44cd-a82e-43a82aa1052d\"}, {\"name\": \"max\", \"orientation\": \"h\", \"text\": [32.623000000000005, 73.008, 18.501], \"x\": [32.623000000000005, 73.008, 18.501], \"y\": [\"bad\", \"good\", \"medium\"], \"type\": \"bar\", \"uid\": \"2761a14c-3605-4660-8637-a77daee50b6b\"}, {\"name\": \"min\", \"orientation\": \"h\", \"text\": [-54.591, -121.49, -26.83], \"x\": [-54.591, -121.49, -26.83], \"y\": [\"bad\", \"good\", \"medium\"], \"type\": \"bar\", \"uid\": \"fe7d04e3-6c53-4bea-a6e5-becfc61b7db8\"}], {\"height\": 600, \"title\": {\"font\": {\"size\": 20}, \"text\": \"Linear Acceleration Y\"}, \"width\": 800}, {\"showLink\": false, \"linkText\": \"Export to plot.ly\", \"plotlyServerURL\": \"https://plot.ly\"}); \n",
       "}\n",
       "});</script>"
      ]
     },
     "metadata": {},
     "output_type": "display_data"
    }
   ],
   "source": [
    "linear_acceleration_Y = metrics_new_cat.linear_acceleration_Y\n",
    "linear_acceleration_Y['type_surface'] = type_surface\n",
    "\n",
    "data = []\n",
    "\n",
    "for m in metrics_name:\n",
    "    data.append(bars(linear_acceleration_Y, m, 'type_surface'))\n",
    "\n",
    "layout = go.Layout(\n",
    "    title='Linear Acceleration Y',\n",
    "    titlefont=dict(size=20),\n",
    "    width=800,\n",
    "    height=600\n",
    ")\n",
    "\n",
    "fig = go.Figure(data=data, layout=layout)\n",
    "\n",
    "iplot(fig)"
   ]
  },
  {
   "cell_type": "code",
   "execution_count": 35,
   "metadata": {},
   "outputs": [
    {
     "data": {
      "application/vnd.plotly.v1+json": {
       "config": {
        "linkText": "Export to plot.ly",
        "plotlyServerURL": "https://plot.ly",
        "showLink": false
       },
       "data": [
        {
         "name": "std",
         "orientation": "h",
         "text": [
          2.414741236355952,
          2.3740886431259245,
          1.2372441753591463
         ],
         "type": "bar",
         "uid": "41cd3199-d370-4f7e-98d7-7a41abb53eb1",
         "x": [
          2.414741236355952,
          2.3740886431259245,
          1.2372441753591463
         ],
         "y": [
          "bad",
          "good",
          "medium"
         ]
        },
        {
         "name": "mean",
         "orientation": "h",
         "text": [
          2.8973543300439117,
          2.9064278758910347,
          2.8414377449800137
         ],
         "type": "bar",
         "uid": "b9a99d90-1fdb-42cf-b818-c6dce23b1309",
         "x": [
          2.8973543300439117,
          2.9064278758910347,
          2.8414377449800137
         ],
         "y": [
          "bad",
          "good",
          "medium"
         ]
        },
        {
         "name": "max",
         "orientation": "h",
         "text": [
          32.623000000000005,
          73.008,
          18.501
         ],
         "type": "bar",
         "uid": "729c036f-16bb-4699-8549-62f704c3a859",
         "x": [
          32.623000000000005,
          73.008,
          18.501
         ],
         "y": [
          "bad",
          "good",
          "medium"
         ]
        },
        {
         "name": "min",
         "orientation": "h",
         "text": [
          -54.591,
          -121.49,
          -26.83
         ],
         "type": "bar",
         "uid": "951ce82c-5471-4208-ace2-c57e9ea8a0ce",
         "x": [
          -54.591,
          -121.49,
          -26.83
         ],
         "y": [
          "bad",
          "good",
          "medium"
         ]
        }
       ],
       "layout": {
        "height": 600,
        "title": {
         "font": {
          "size": 20
         },
         "text": "Linear Acceleration Z"
        },
        "width": 800
       }
      },
      "text/html": [
       "<div id=\"fb9cefa7-fca4-4c84-bb44-48ffd8121d7e\" style=\"height: 600px; width: 800px;\" class=\"plotly-graph-div\"></div><script type=\"text/javascript\">require([\"plotly\"], function(Plotly) { window.PLOTLYENV=window.PLOTLYENV || {};window.PLOTLYENV.BASE_URL=\"https://plot.ly\";\n",
       "if (document.getElementById(\"fb9cefa7-fca4-4c84-bb44-48ffd8121d7e\")) {\n",
       "    Plotly.newPlot(\"fb9cefa7-fca4-4c84-bb44-48ffd8121d7e\", [{\"name\": \"std\", \"orientation\": \"h\", \"text\": [2.414741236355952, 2.3740886431259245, 1.2372441753591463], \"x\": [2.414741236355952, 2.3740886431259245, 1.2372441753591463], \"y\": [\"bad\", \"good\", \"medium\"], \"type\": \"bar\", \"uid\": \"41cd3199-d370-4f7e-98d7-7a41abb53eb1\"}, {\"name\": \"mean\", \"orientation\": \"h\", \"text\": [2.8973543300439117, 2.9064278758910347, 2.8414377449800137], \"x\": [2.8973543300439117, 2.9064278758910347, 2.8414377449800137], \"y\": [\"bad\", \"good\", \"medium\"], \"type\": \"bar\", \"uid\": \"b9a99d90-1fdb-42cf-b818-c6dce23b1309\"}, {\"name\": \"max\", \"orientation\": \"h\", \"text\": [32.623000000000005, 73.008, 18.501], \"x\": [32.623000000000005, 73.008, 18.501], \"y\": [\"bad\", \"good\", \"medium\"], \"type\": \"bar\", \"uid\": \"729c036f-16bb-4699-8549-62f704c3a859\"}, {\"name\": \"min\", \"orientation\": \"h\", \"text\": [-54.591, -121.49, -26.83], \"x\": [-54.591, -121.49, -26.83], \"y\": [\"bad\", \"good\", \"medium\"], \"type\": \"bar\", \"uid\": \"951ce82c-5471-4208-ace2-c57e9ea8a0ce\"}], {\"height\": 600, \"title\": {\"font\": {\"size\": 20}, \"text\": \"Linear Acceleration Z\"}, \"width\": 800}, {\"showLink\": false, \"linkText\": \"Export to plot.ly\", \"plotlyServerURL\": \"https://plot.ly\"}); \n",
       "}\n",
       "});</script>"
      ],
      "text/vnd.plotly.v1+html": [
       "<div id=\"fb9cefa7-fca4-4c84-bb44-48ffd8121d7e\" style=\"height: 600px; width: 800px;\" class=\"plotly-graph-div\"></div><script type=\"text/javascript\">require([\"plotly\"], function(Plotly) { window.PLOTLYENV=window.PLOTLYENV || {};window.PLOTLYENV.BASE_URL=\"https://plot.ly\";\n",
       "if (document.getElementById(\"fb9cefa7-fca4-4c84-bb44-48ffd8121d7e\")) {\n",
       "    Plotly.newPlot(\"fb9cefa7-fca4-4c84-bb44-48ffd8121d7e\", [{\"name\": \"std\", \"orientation\": \"h\", \"text\": [2.414741236355952, 2.3740886431259245, 1.2372441753591463], \"x\": [2.414741236355952, 2.3740886431259245, 1.2372441753591463], \"y\": [\"bad\", \"good\", \"medium\"], \"type\": \"bar\", \"uid\": \"41cd3199-d370-4f7e-98d7-7a41abb53eb1\"}, {\"name\": \"mean\", \"orientation\": \"h\", \"text\": [2.8973543300439117, 2.9064278758910347, 2.8414377449800137], \"x\": [2.8973543300439117, 2.9064278758910347, 2.8414377449800137], \"y\": [\"bad\", \"good\", \"medium\"], \"type\": \"bar\", \"uid\": \"b9a99d90-1fdb-42cf-b818-c6dce23b1309\"}, {\"name\": \"max\", \"orientation\": \"h\", \"text\": [32.623000000000005, 73.008, 18.501], \"x\": [32.623000000000005, 73.008, 18.501], \"y\": [\"bad\", \"good\", \"medium\"], \"type\": \"bar\", \"uid\": \"729c036f-16bb-4699-8549-62f704c3a859\"}, {\"name\": \"min\", \"orientation\": \"h\", \"text\": [-54.591, -121.49, -26.83], \"x\": [-54.591, -121.49, -26.83], \"y\": [\"bad\", \"good\", \"medium\"], \"type\": \"bar\", \"uid\": \"951ce82c-5471-4208-ace2-c57e9ea8a0ce\"}], {\"height\": 600, \"title\": {\"font\": {\"size\": 20}, \"text\": \"Linear Acceleration Z\"}, \"width\": 800}, {\"showLink\": false, \"linkText\": \"Export to plot.ly\", \"plotlyServerURL\": \"https://plot.ly\"}); \n",
       "}\n",
       "});</script>"
      ]
     },
     "metadata": {},
     "output_type": "display_data"
    }
   ],
   "source": [
    "linear_acceleration_Z = metrics_new_cat.linear_acceleration_Y\n",
    "linear_acceleration_Z['type_surface'] = type_surface\n",
    "\n",
    "data = []\n",
    "\n",
    "for m in metrics_name:\n",
    "    data.append(bars(linear_acceleration_Z, m, 'type_surface'))\n",
    "\n",
    "layout = go.Layout(\n",
    "    title='Linear Acceleration Z',\n",
    "    titlefont=dict(size=20),\n",
    "    width=800,\n",
    "    height=600\n",
    ")\n",
    "\n",
    "fig = go.Figure(data=data, layout=layout)\n",
    "\n",
    "iplot(fig)"
   ]
  },
  {
   "cell_type": "markdown",
   "metadata": {},
   "source": [
    "There's a significant difference for the mean value of *good* surfaces in : orientation_Y, orientation_Z, angular_velocity_X, angular_velocity_Y, \n",
    "angular_velocity_Z, linear_acceleration_X.\n"
   ]
  },
  {
   "cell_type": "markdown",
   "metadata": {},
   "source": [
    "## Results\n",
    "\n",
    "As expected, it was provode that the kind of surface impacts the movement metrics. Besides that, those surfaces can be futher classified in *good*, *medium* and *bad*."
   ]
  }
 ],
 "metadata": {
  "kernelspec": {
   "display_name": "Python 3",
   "language": "python",
   "name": "python3"
  },
  "language_info": {
   "codemirror_mode": {
    "name": "ipython",
    "version": 3
   },
   "file_extension": ".py",
   "mimetype": "text/x-python",
   "name": "python",
   "nbconvert_exporter": "python",
   "pygments_lexer": "ipython3",
   "version": "3.6.4"
  }
 },
 "nbformat": 4,
 "nbformat_minor": 1
}
